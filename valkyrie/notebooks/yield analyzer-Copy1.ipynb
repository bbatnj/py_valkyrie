{
 "cells": [
  {
   "cell_type": "code",
   "execution_count": 1,
   "id": "17e721dc",
   "metadata": {},
   "outputs": [
    {
     "data": {
      "text/html": [
       "<style>.container { width:100% !important; }</style>"
      ],
      "text/plain": [
       "<IPython.core.display.HTML object>"
      ]
     },
     "metadata": {},
     "output_type": "display_data"
    }
   ],
   "source": [
    "import pdb\n",
    "from itertools import product as cartesianproduct\n",
    "\n",
    "import pandas as pd\n",
    "import numpy as np\n",
    "import matplotlib.pyplot as plt\n",
    "from sklearn.linear_model import LinearRegression as LR\n",
    "from sklearn.cross_decomposition import PLSRegression as PLS\n",
    "import pandas_market_calendars as mcal\n",
    "\n",
    "from valkyrie.data import *\n",
    "from valkyrie.quants import *\n",
    "from valkyrie.tools import *\n",
    "from valkyrie.securities import *\n",
    "\n",
    "from IPython.core.display import display, HTML\n",
    "display(HTML(\"<style>.container { width:100% !important; }</style>\"))\n",
    "%matplotlib notebook"
   ]
  },
  {
   "cell_type": "code",
   "execution_count": 14,
   "id": "ae57fede",
   "metadata": {},
   "outputs": [],
   "source": [
    "MONTHLY_DVD_STOCKS = {'PFF'}\n",
    "stock = 'ANGCM'\n",
    "dvd_freq = 'M' if stock in MONTHLY_DVD_STOCKS else 'Q'"
   ]
  },
  {
   "cell_type": "code",
   "execution_count": 10,
   "id": "9b65170e",
   "metadata": {},
   "outputs": [],
   "source": [
    "stocks = stocks_good_dvd()\n",
    "black_list = {'AGNCP'}\n",
    "stocks = list(filter(lambda x : x not in black_list, stocks))\n",
    "#stocks = [stk for stk in stocks if 'NLY' in stk]"
   ]
  },
  {
   "cell_type": "code",
   "execution_count": 11,
   "id": "bc69ef23",
   "metadata": {},
   "outputs": [
    {
     "name": "stdout",
     "output_type": "stream",
     "text": [
      "error loading stocks File d:/valkyrie/data/resampled/hist_ib_raw_md/good_dvd///2020//06//24/AGNCM.h5 does not exist\n",
      "error loading stocks File d:/valkyrie/data/resampled/hist_ib_raw_md/good_dvd///2020//10//05/AGNCM.h5 does not exist\n",
      "error loading stocks File d:/valkyrie/data/resampled/hist_ib_raw_md/good_dvd///2020//06//15/AGNCN.h5 does not exist\n",
      "error loading stocks File d:/valkyrie/data/resampled/hist_ib_raw_md/good_dvd///2020//09//30/AGNCO.h5 does not exist\n",
      "error loading stocks File d:/valkyrie/data/resampled/hist_ib_raw_md/good_dvd///2020//07//29/BAC PRB.h5 does not exist\n",
      "error loading stocks File d:/valkyrie/data/resampled/hist_ib_raw_md/good_dvd///2020//08//18/BAC PRB.h5 does not exist\n",
      "error loading stocks File d:/valkyrie/data/resampled/hist_ib_raw_md/good_dvd///2020//10//02/BAC PRB.h5 does not exist\n",
      "error loading stocks File d:/valkyrie/data/resampled/hist_ib_raw_md/good_dvd///2020//11//05/BAC PRE.h5 does not exist\n",
      "error loading stocks File d:/valkyrie/data/resampled/hist_ib_raw_md/good_dvd///2020//10//13/BAC PRK.h5 does not exist\n",
      "error loading stocks File d:/valkyrie/data/resampled/hist_ib_raw_md/good_dvd///2020//11//05/BAC PRK.h5 does not exist\n",
      "error loading stocks File d:/valkyrie/data/resampled/hist_ib_raw_md/good_dvd///2020//08//27/BAC PRL.h5 does not exist\n",
      "error loading stocks File d:/valkyrie/data/resampled/hist_ib_raw_md/good_dvd///2020//10//19/BAC PRM.h5 does not exist\n",
      "error loading stocks File d:/valkyrie/data/resampled/hist_ib_raw_md/good_dvd///2020//06//19/BAC PRN.h5 does not exist\n",
      "error loading stocks File d:/valkyrie/data/resampled/hist_ib_raw_md/good_dvd///2020//10//05/BAC PRN.h5 does not exist\n",
      "error loading stocks File d:/valkyrie/data/resampled/hist_ib_raw_md/good_dvd///2020//11//06/C PRJ.h5 does not exist\n",
      "error loading stocks File d:/valkyrie/data/resampled/hist_ib_raw_md/good_dvd///2020//08//25/C PRK.h5 does not exist\n",
      "error loading stocks File d:/valkyrie/data/resampled/hist_ib_raw_md/good_dvd///2020//06//30/JPM PRC.h5 does not exist\n",
      "error loading stocks File d:/valkyrie/data/resampled/hist_ib_raw_md/good_dvd///2020//09//24/JPM PRC.h5 does not exist\n",
      "error loading stocks File d:/valkyrie/data/resampled/hist_ib_raw_md/good_dvd///2020//09//16/JPM PRD.h5 does not exist\n",
      "error loading stocks File d:/valkyrie/data/resampled/hist_ib_raw_md/good_dvd///2020//09//28/JPM PRD.h5 does not exist\n",
      "error loading stocks File d:/valkyrie/data/resampled/hist_ib_raw_md/good_dvd///2020//10//28/NLY PRF.h5 does not exist\n",
      "error loading stocks File d:/valkyrie/data/resampled/hist_ib_raw_md/good_dvd///2020//08//26/NLY PRI.h5 does not exist\n",
      "error loading stocks File d:/valkyrie/data/resampled/hist_ib_raw_md/good_dvd///2020//07//20/NRZ PRB.h5 does not exist\n",
      "error loading stocks File d:/valkyrie/data/resampled/hist_ib_raw_md/good_dvd///2020//09//08/NRZ PRC.h5 does not exist\n",
      "error loading stocks File d:/valkyrie/data/resampled/hist_ib_raw_md/good_dvd///2020//09//15/NRZ PRC.h5 does not exist\n",
      "error loading stocks File d:/valkyrie/data/resampled/hist_ib_raw_md/good_dvd///2020//09//30/NRZ PRC.h5 does not exist\n",
      "error loading stocks File d:/valkyrie/data/resampled/hist_ib_raw_md/good_dvd///2020//07//23/PMT PRA.h5 does not exist\n",
      "error loading stocks File d:/valkyrie/data/resampled/hist_ib_raw_md/good_dvd///2020//09//30/PMT PRB.h5 does not exist\n",
      "error loading stocks File d:/valkyrie/data/resampled/hist_ib_raw_md/good_dvd///2020//07//21/STAR PRI.h5 does not exist\n",
      "error loading stocks File d:/valkyrie/data/resampled/hist_ib_raw_md/good_dvd///2020//07//13/TWO PRA.h5 does not exist\n",
      "error loading stocks File d:/valkyrie/data/resampled/hist_ib_raw_md/good_dvd///2020//11//05/TWO PRB.h5 does not exist\n",
      "error loading stocks File d:/valkyrie/data/resampled/hist_ib_raw_md/good_dvd///2020//06//12/TWO PRC.h5 does not exist\n",
      "error loading stocks File d:/valkyrie/data/resampled/hist_ib_raw_md/good_dvd///2020//08//05/WFC PRL.h5 does not exist\n",
      "error loading stocks File d:/valkyrie/data/resampled/hist_ib_raw_md/good_dvd///2020//06//26/WFC PRQ.h5 does not exist\n",
      "error loading stocks File d:/valkyrie/data/resampled/hist_ib_raw_md/good_dvd///2020//09//29/WFC PRQ.h5 does not exist\n",
      "error loading stocks File d:/valkyrie/data/resampled/hist_ib_raw_md/good_dvd///2020//10//21/WFC PRQ.h5 does not exist\n",
      "error loading stocks File d:/valkyrie/data/resampled/hist_ib_raw_md/good_dvd///2020//09//17/WFC PRR.h5 does not exist\n",
      "error loading stocks File d:/valkyrie/data/resampled/hist_ib_raw_md/good_dvd///2020//10//28/WFC PRR.h5 does not exist\n",
      "error loading stocks File d:/valkyrie/data/resampled/hist_ib_raw_md/good_dvd///2020//10//30/WFC PRR.h5 does not exist\n",
      "error loading stocks File d:/valkyrie/data/resampled/hist_ib_raw_md/good_dvd///2020//09//10/WFC PRY.h5 does not exist\n",
      "error loading stocks File d:/valkyrie/data/resampled/hist_ib_raw_md/good_dvd///2020//06//10/WFC PRZ.h5 does not exist\n",
      "error loading stocks File d:/valkyrie/data/resampled/hist_ib_raw_md/good_dvd///2020//06//19/WFC PRZ.h5 does not exist\n",
      "error loading stocks File d:/valkyrie/data/resampled/hist_ib_raw_md/good_dvd///2020//07//24/WFC PRZ.h5 does not exist\n"
     ]
    }
   ],
   "source": [
    "sdate, edate ='2020-06-01', '2021-05-31'\n",
    "xy_builder = DataMgrCYieldEma(sdate = sdate, edate = edate, stocks = stocks)"
   ]
  },
  {
   "cell_type": "code",
   "execution_count": null,
   "id": "1367a219",
   "metadata": {},
   "outputs": [
    {
     "name": "stdout",
     "output_type": "stream",
     "text": [
      "fitting for AGNCM\n",
      "fitting h_100_m_PLSRn_c_1_q=0.01_nf_80_nf_10\n",
      "fitting for AGNCN\n",
      "fitting h_100_m_PLSRn_c_1_q=0.01_nf_80_nf_10\n",
      "fitting for AGNCO\n",
      "fitting h_100_m_PLSRn_c_1_q=0.01_nf_80_nf_10\n"
     ]
    },
    {
     "name": "stderr",
     "output_type": "stream",
     "text": [
      "C:\\Users\\bb\\anaconda3\\lib\\site-packages\\sklearn\\cross_decomposition\\_pls.py:271: UserWarning: Y residual is constant at iteration 0\n",
      "  warnings.warn(f\"Y residual is constant at iteration {k}\")\n",
      "C:\\Users\\bb\\anaconda3\\lib\\site-packages\\sklearn\\cross_decomposition\\_pls.py:271: UserWarning: Y residual is constant at iteration 0\n",
      "  warnings.warn(f\"Y residual is constant at iteration {k}\")\n",
      "C:\\Users\\bb\\anaconda3\\lib\\site-packages\\sklearn\\cross_decomposition\\_pls.py:271: UserWarning: Y residual is constant at iteration 0\n",
      "  warnings.warn(f\"Y residual is constant at iteration {k}\")\n",
      "C:\\Users\\bb\\anaconda3\\lib\\site-packages\\sklearn\\cross_decomposition\\_pls.py:271: UserWarning: Y residual is constant at iteration 0\n",
      "  warnings.warn(f\"Y residual is constant at iteration {k}\")\n",
      "C:\\Users\\bb\\anaconda3\\lib\\site-packages\\sklearn\\cross_decomposition\\_pls.py:271: UserWarning: Y residual is constant at iteration 0\n",
      "  warnings.warn(f\"Y residual is constant at iteration {k}\")\n",
      "C:\\Users\\bb\\anaconda3\\lib\\site-packages\\sklearn\\cross_decomposition\\_pls.py:271: UserWarning: Y residual is constant at iteration 0\n",
      "  warnings.warn(f\"Y residual is constant at iteration {k}\")\n",
      "C:\\Users\\bb\\anaconda3\\lib\\site-packages\\sklearn\\cross_decomposition\\_pls.py:271: UserWarning: Y residual is constant at iteration 0\n",
      "  warnings.warn(f\"Y residual is constant at iteration {k}\")\n",
      "C:\\Users\\bb\\anaconda3\\lib\\site-packages\\sklearn\\cross_decomposition\\_pls.py:271: UserWarning: Y residual is constant at iteration 0\n",
      "  warnings.warn(f\"Y residual is constant at iteration {k}\")\n",
      "C:\\Users\\bb\\anaconda3\\lib\\site-packages\\sklearn\\cross_decomposition\\_pls.py:271: UserWarning: Y residual is constant at iteration 0\n",
      "  warnings.warn(f\"Y residual is constant at iteration {k}\")\n",
      "C:\\Users\\bb\\anaconda3\\lib\\site-packages\\sklearn\\cross_decomposition\\_pls.py:271: UserWarning: Y residual is constant at iteration 0\n",
      "  warnings.warn(f\"Y residual is constant at iteration {k}\")\n",
      "C:\\Users\\bb\\anaconda3\\lib\\site-packages\\sklearn\\cross_decomposition\\_pls.py:271: UserWarning: Y residual is constant at iteration 0\n",
      "  warnings.warn(f\"Y residual is constant at iteration {k}\")\n",
      "C:\\Users\\bb\\anaconda3\\lib\\site-packages\\sklearn\\cross_decomposition\\_pls.py:271: UserWarning: Y residual is constant at iteration 0\n",
      "  warnings.warn(f\"Y residual is constant at iteration {k}\")\n",
      "C:\\Users\\bb\\anaconda3\\lib\\site-packages\\sklearn\\cross_decomposition\\_pls.py:271: UserWarning: Y residual is constant at iteration 0\n",
      "  warnings.warn(f\"Y residual is constant at iteration {k}\")\n",
      "C:\\Users\\bb\\anaconda3\\lib\\site-packages\\sklearn\\cross_decomposition\\_pls.py:271: UserWarning: Y residual is constant at iteration 0\n",
      "  warnings.warn(f\"Y residual is constant at iteration {k}\")\n",
      "C:\\Users\\bb\\anaconda3\\lib\\site-packages\\sklearn\\cross_decomposition\\_pls.py:271: UserWarning: Y residual is constant at iteration 0\n",
      "  warnings.warn(f\"Y residual is constant at iteration {k}\")\n",
      "C:\\Users\\bb\\anaconda3\\lib\\site-packages\\sklearn\\cross_decomposition\\_pls.py:271: UserWarning: Y residual is constant at iteration 0\n",
      "  warnings.warn(f\"Y residual is constant at iteration {k}\")\n",
      "C:\\Users\\bb\\anaconda3\\lib\\site-packages\\sklearn\\cross_decomposition\\_pls.py:271: UserWarning: Y residual is constant at iteration 0\n",
      "  warnings.warn(f\"Y residual is constant at iteration {k}\")\n",
      "C:\\Users\\bb\\anaconda3\\lib\\site-packages\\sklearn\\cross_decomposition\\_pls.py:271: UserWarning: Y residual is constant at iteration 0\n",
      "  warnings.warn(f\"Y residual is constant at iteration {k}\")\n",
      "C:\\Users\\bb\\anaconda3\\lib\\site-packages\\sklearn\\cross_decomposition\\_pls.py:271: UserWarning: Y residual is constant at iteration 0\n",
      "  warnings.warn(f\"Y residual is constant at iteration {k}\")\n",
      "C:\\Users\\bb\\anaconda3\\lib\\site-packages\\sklearn\\cross_decomposition\\_pls.py:271: UserWarning: Y residual is constant at iteration 0\n",
      "  warnings.warn(f\"Y residual is constant at iteration {k}\")\n",
      "C:\\Users\\bb\\anaconda3\\lib\\site-packages\\sklearn\\cross_decomposition\\_pls.py:271: UserWarning: Y residual is constant at iteration 0\n",
      "  warnings.warn(f\"Y residual is constant at iteration {k}\")\n",
      "C:\\Users\\bb\\anaconda3\\lib\\site-packages\\sklearn\\cross_decomposition\\_pls.py:271: UserWarning: Y residual is constant at iteration 0\n",
      "  warnings.warn(f\"Y residual is constant at iteration {k}\")\n",
      "C:\\Users\\bb\\anaconda3\\lib\\site-packages\\sklearn\\cross_decomposition\\_pls.py:271: UserWarning: Y residual is constant at iteration 0\n",
      "  warnings.warn(f\"Y residual is constant at iteration {k}\")\n"
     ]
    },
    {
     "name": "stdout",
     "output_type": "stream",
     "text": [
      "fitting for BAC PRB\n"
     ]
    }
   ],
   "source": [
    "#%%time \n",
    "model = WinsorizedLM(0.01, PLS, n_components=1)\n",
    "#df_res = fit_stocks(xy_builder, {'ema_mults' : [5, 15]}, fit_tscv, model)\n",
    "df_res = fit_stocks(xy_builder, {'ema_mults' : [15, 50]}, fit_tscv, model)"
   ]
  },
  {
   "cell_type": "code",
   "execution_count": null,
   "id": "eeca0022",
   "metadata": {},
   "outputs": [],
   "source": [
    "df_res"
   ]
  },
  {
   "cell_type": "code",
   "execution_count": null,
   "id": "e8786037",
   "metadata": {},
   "outputs": [],
   "source": []
  },
  {
   "cell_type": "code",
   "execution_count": 15,
   "id": "c33c16c2",
   "metadata": {},
   "outputs": [
    {
     "data": {
      "text/html": [
       "<div>\n",
       "<style scoped>\n",
       "    .dataframe tbody tr th:only-of-type {\n",
       "        vertical-align: middle;\n",
       "    }\n",
       "\n",
       "    .dataframe tbody tr th {\n",
       "        vertical-align: top;\n",
       "    }\n",
       "\n",
       "    .dataframe thead th {\n",
       "        text-align: right;\n",
       "    }\n",
       "</style>\n",
       "<table border=\"1\" class=\"dataframe\">\n",
       "  <thead>\n",
       "    <tr style=\"text-align: right;\">\n",
       "      <th></th>\n",
       "      <th>param</th>\n",
       "      <th>n_cv</th>\n",
       "      <th>trains</th>\n",
       "      <th>horizon</th>\n",
       "      <th>score_in_median</th>\n",
       "      <th>score_in_mean</th>\n",
       "      <th>score_in_win</th>\n",
       "      <th>score_median</th>\n",
       "      <th>score_mean</th>\n",
       "      <th>score_win</th>\n",
       "    </tr>\n",
       "    <tr>\n",
       "      <th>stock</th>\n",
       "      <th></th>\n",
       "      <th></th>\n",
       "      <th></th>\n",
       "      <th></th>\n",
       "      <th></th>\n",
       "      <th></th>\n",
       "      <th></th>\n",
       "      <th></th>\n",
       "      <th></th>\n",
       "      <th></th>\n",
       "    </tr>\n",
       "  </thead>\n",
       "  <tbody>\n",
       "    <tr>\n",
       "      <th>AGNCM</th>\n",
       "      <td>h_100_m_PLSRn_c_2_q=0.01_nf_80_nf_10</td>\n",
       "      <td>23</td>\n",
       "      <td>80</td>\n",
       "      <td>100</td>\n",
       "      <td>0.056867</td>\n",
       "      <td>0.056867</td>\n",
       "      <td>1.0</td>\n",
       "      <td>0.042750</td>\n",
       "      <td>0.052812</td>\n",
       "      <td>0.869565</td>\n",
       "    </tr>\n",
       "    <tr>\n",
       "      <th>CIM PRA</th>\n",
       "      <td>h_100_m_PLSRn_c_2_q=0.01_nf_80_nf_10</td>\n",
       "      <td>24</td>\n",
       "      <td>80</td>\n",
       "      <td>100</td>\n",
       "      <td>0.045938</td>\n",
       "      <td>0.045938</td>\n",
       "      <td>1.0</td>\n",
       "      <td>0.037781</td>\n",
       "      <td>0.029484</td>\n",
       "      <td>0.833333</td>\n",
       "    </tr>\n",
       "    <tr>\n",
       "      <th>CIM PRB</th>\n",
       "      <td>h_100_m_PLSRn_c_2_q=0.01_nf_80_nf_10</td>\n",
       "      <td>24</td>\n",
       "      <td>80</td>\n",
       "      <td>100</td>\n",
       "      <td>0.058182</td>\n",
       "      <td>0.058182</td>\n",
       "      <td>1.0</td>\n",
       "      <td>0.032047</td>\n",
       "      <td>0.032087</td>\n",
       "      <td>0.833333</td>\n",
       "    </tr>\n",
       "    <tr>\n",
       "      <th>JPM PRD</th>\n",
       "      <td>h_100_m_PLSRn_c_2_q=0.01_nf_80_nf_10</td>\n",
       "      <td>23</td>\n",
       "      <td>80</td>\n",
       "      <td>100</td>\n",
       "      <td>0.000000</td>\n",
       "      <td>0.000000</td>\n",
       "      <td>1.0</td>\n",
       "      <td>0.750000</td>\n",
       "      <td>0.453804</td>\n",
       "      <td>0.913043</td>\n",
       "    </tr>\n",
       "    <tr>\n",
       "      <th>NLY PRI</th>\n",
       "      <td>h_100_m_PLSRn_c_2_q=0.01_nf_80_nf_10</td>\n",
       "      <td>24</td>\n",
       "      <td>80</td>\n",
       "      <td>100</td>\n",
       "      <td>0.000000</td>\n",
       "      <td>0.000000</td>\n",
       "      <td>1.0</td>\n",
       "      <td>0.750000</td>\n",
       "      <td>0.252315</td>\n",
       "      <td>0.833333</td>\n",
       "    </tr>\n",
       "    <tr>\n",
       "      <th>STAR PRD</th>\n",
       "      <td>h_100_m_PLSRn_c_2_q=0.01_nf_80_nf_10</td>\n",
       "      <td>24</td>\n",
       "      <td>80</td>\n",
       "      <td>100</td>\n",
       "      <td>0.141707</td>\n",
       "      <td>0.141707</td>\n",
       "      <td>1.0</td>\n",
       "      <td>0.104328</td>\n",
       "      <td>0.109383</td>\n",
       "      <td>0.958333</td>\n",
       "    </tr>\n",
       "    <tr>\n",
       "      <th>STAR PRG</th>\n",
       "      <td>h_100_m_PLSRn_c_2_q=0.01_nf_80_nf_10</td>\n",
       "      <td>24</td>\n",
       "      <td>80</td>\n",
       "      <td>100</td>\n",
       "      <td>0.117978</td>\n",
       "      <td>0.117978</td>\n",
       "      <td>1.0</td>\n",
       "      <td>0.041008</td>\n",
       "      <td>0.025852</td>\n",
       "      <td>0.833333</td>\n",
       "    </tr>\n",
       "    <tr>\n",
       "      <th>TWO PRA</th>\n",
       "      <td>h_100_m_PLSRn_c_2_q=0.01_nf_80_nf_10</td>\n",
       "      <td>23</td>\n",
       "      <td>80</td>\n",
       "      <td>100</td>\n",
       "      <td>0.066213</td>\n",
       "      <td>0.066213</td>\n",
       "      <td>1.0</td>\n",
       "      <td>0.043058</td>\n",
       "      <td>0.030919</td>\n",
       "      <td>0.782609</td>\n",
       "    </tr>\n",
       "    <tr>\n",
       "      <th>WFC PRR</th>\n",
       "      <td>h_100_m_PLSRn_c_2_q=0.01_nf_80_nf_10</td>\n",
       "      <td>23</td>\n",
       "      <td>80</td>\n",
       "      <td>100</td>\n",
       "      <td>0.033133</td>\n",
       "      <td>0.033133</td>\n",
       "      <td>1.0</td>\n",
       "      <td>0.030509</td>\n",
       "      <td>0.025237</td>\n",
       "      <td>0.869565</td>\n",
       "    </tr>\n",
       "    <tr>\n",
       "      <th>WFC PRY</th>\n",
       "      <td>h_100_m_PLSRn_c_2_q=0.01_nf_80_nf_10</td>\n",
       "      <td>23</td>\n",
       "      <td>80</td>\n",
       "      <td>100</td>\n",
       "      <td>0.052642</td>\n",
       "      <td>0.052642</td>\n",
       "      <td>1.0</td>\n",
       "      <td>0.051946</td>\n",
       "      <td>0.156928</td>\n",
       "      <td>0.782609</td>\n",
       "    </tr>\n",
       "  </tbody>\n",
       "</table>\n",
       "</div>"
      ],
      "text/plain": [
       "                                         param  n_cv  trains  horizon  \\\n",
       "stock                                                                   \n",
       "AGNCM     h_100_m_PLSRn_c_2_q=0.01_nf_80_nf_10    23      80      100   \n",
       "CIM PRA   h_100_m_PLSRn_c_2_q=0.01_nf_80_nf_10    24      80      100   \n",
       "CIM PRB   h_100_m_PLSRn_c_2_q=0.01_nf_80_nf_10    24      80      100   \n",
       "JPM PRD   h_100_m_PLSRn_c_2_q=0.01_nf_80_nf_10    23      80      100   \n",
       "NLY PRI   h_100_m_PLSRn_c_2_q=0.01_nf_80_nf_10    24      80      100   \n",
       "STAR PRD  h_100_m_PLSRn_c_2_q=0.01_nf_80_nf_10    24      80      100   \n",
       "STAR PRG  h_100_m_PLSRn_c_2_q=0.01_nf_80_nf_10    24      80      100   \n",
       "TWO PRA   h_100_m_PLSRn_c_2_q=0.01_nf_80_nf_10    23      80      100   \n",
       "WFC PRR   h_100_m_PLSRn_c_2_q=0.01_nf_80_nf_10    23      80      100   \n",
       "WFC PRY   h_100_m_PLSRn_c_2_q=0.01_nf_80_nf_10    23      80      100   \n",
       "\n",
       "          score_in_median  score_in_mean  score_in_win  score_median  \\\n",
       "stock                                                                  \n",
       "AGNCM            0.056867       0.056867           1.0      0.042750   \n",
       "CIM PRA          0.045938       0.045938           1.0      0.037781   \n",
       "CIM PRB          0.058182       0.058182           1.0      0.032047   \n",
       "JPM PRD          0.000000       0.000000           1.0      0.750000   \n",
       "NLY PRI          0.000000       0.000000           1.0      0.750000   \n",
       "STAR PRD         0.141707       0.141707           1.0      0.104328   \n",
       "STAR PRG         0.117978       0.117978           1.0      0.041008   \n",
       "TWO PRA          0.066213       0.066213           1.0      0.043058   \n",
       "WFC PRR          0.033133       0.033133           1.0      0.030509   \n",
       "WFC PRY          0.052642       0.052642           1.0      0.051946   \n",
       "\n",
       "          score_mean  score_win  \n",
       "stock                            \n",
       "AGNCM       0.052812   0.869565  \n",
       "CIM PRA     0.029484   0.833333  \n",
       "CIM PRB     0.032087   0.833333  \n",
       "JPM PRD     0.453804   0.913043  \n",
       "NLY PRI     0.252315   0.833333  \n",
       "STAR PRD    0.109383   0.958333  \n",
       "STAR PRG    0.025852   0.833333  \n",
       "TWO PRA     0.030919   0.782609  \n",
       "WFC PRR     0.025237   0.869565  \n",
       "WFC PRY     0.156928   0.782609  "
      ]
     },
     "execution_count": 15,
     "metadata": {},
     "output_type": "execute_result"
    }
   ],
   "source": [
    "df_res.query('score_win  >0.75 and score_median > 0.01')"
   ]
  },
  {
   "cell_type": "code",
   "execution_count": null,
   "id": "576c7d04",
   "metadata": {},
   "outputs": [],
   "source": [
    "df_res = pd.concat(df_res,axis=0)"
   ]
  },
  {
   "cell_type": "code",
   "execution_count": null,
   "id": "8ba80245",
   "metadata": {},
   "outputs": [],
   "source": [
    "df_res.shape"
   ]
  },
  {
   "cell_type": "code",
   "execution_count": null,
   "id": "74bff2ed",
   "metadata": {},
   "outputs": [],
   "source": [
    "df_res.query('score_win > 0.7')"
   ]
  },
  {
   "cell_type": "code",
   "execution_count": null,
   "id": "6eeda32b",
   "metadata": {},
   "outputs": [],
   "source": [
    "%%time\n",
    "xstocks = [stk for stk in stocks if 'AGNC' in stk]\n",
    "builder_args= {'x_stocks' : xstocks, 'y_stock' : xstocks[0], 'ema_mults' : [5, 15]}\n",
    "model = WinsorizedLM(0.01, PLS, n_components=2)\n",
    "df_res, param2res = fit_tscv(xy_builder, builder_args, [model], horizons = [50], n_test_days = [10])\n",
    "df_res"
   ]
  },
  {
   "cell_type": "code",
   "execution_count": null,
   "id": "0cd3c382",
   "metadata": {},
   "outputs": [],
   "source": [
    "df_res"
   ]
  },
  {
   "cell_type": "code",
   "execution_count": null,
   "id": "b1f313fd",
   "metadata": {},
   "outputs": [],
   "source": [
    "df_res"
   ]
  },
  {
   "cell_type": "code",
   "execution_count": null,
   "id": "3fe6dc75",
   "metadata": {},
   "outputs": [],
   "source": [
    "x = np.zeros([4,2])"
   ]
  },
  {
   "cell_type": "code",
   "execution_count": null,
   "id": "58099680",
   "metadata": {},
   "outputs": [],
   "source": [
    "x[2][1] = 3.4"
   ]
  },
  {
   "cell_type": "code",
   "execution_count": null,
   "id": "f5aba9fb",
   "metadata": {},
   "outputs": [],
   "source": [
    "x"
   ]
  },
  {
   "cell_type": "code",
   "execution_count": null,
   "id": "d4a0cec6",
   "metadata": {},
   "outputs": [],
   "source": [
    "def stk2i(f):\n",
    "    return f(**args)"
   ]
  },
  {
   "cell_type": "code",
   "execution_count": null,
   "id": "29b713ec",
   "metadata": {},
   "outputs": [],
   "source": [
    "@stk2i\n",
    "def ff(i):\n",
    "    print(i)\n",
    "    return 3"
   ]
  },
  {
   "cell_type": "code",
   "execution_count": null,
   "id": "ba378da7",
   "metadata": {},
   "outputs": [],
   "source": [
    "class A:\n",
    "    x = 3"
   ]
  },
  {
   "cell_type": "code",
   "execution_count": null,
   "id": "8fa7bd00",
   "metadata": {},
   "outputs": [],
   "source": [
    "x=9"
   ]
  },
  {
   "cell_type": "code",
   "execution_count": null,
   "id": "e37477b4",
   "metadata": {},
   "outputs": [],
   "source": [
    "TS,BP,AP,BZ,AZ = np.arange(5)"
   ]
  },
  {
   "cell_type": "code",
   "execution_count": null,
   "id": "58b340da",
   "metadata": {},
   "outputs": [],
   "source": [
    "TS"
   ]
  },
  {
   "cell_type": "code",
   "execution_count": null,
   "id": "4212e232",
   "metadata": {},
   "outputs": [],
   "source": [
    "a , b =[2,3]"
   ]
  },
  {
   "cell_type": "code",
   "execution_count": null,
   "id": "664c94c4",
   "metadata": {},
   "outputs": [],
   "source": [
    "from dataclasses import dataclass\n",
    "\n",
    "@dataclass\n",
    "class DataClassCard:\n",
    "    rank: str\n",
    "    suit: str"
   ]
  },
  {
   "cell_type": "code",
   "execution_count": null,
   "id": "adf2552b",
   "metadata": {},
   "outputs": [],
   "source": [
    "queen_of_hearts = DataClassCard('Q', 'Hearts')"
   ]
  },
  {
   "cell_type": "code",
   "execution_count": null,
   "id": "215c1bb2",
   "metadata": {},
   "outputs": [],
   "source": [
    "queen_of_hearts.rank = 'K'"
   ]
  },
  {
   "cell_type": "code",
   "execution_count": null,
   "id": "49f53170",
   "metadata": {},
   "outputs": [],
   "source": [
    "queen_of_hearts"
   ]
  },
  {
   "cell_type": "code",
   "execution_count": null,
   "id": "cbc0ae99",
   "metadata": {},
   "outputs": [],
   "source": [
    "df = pd.DataFrame({'A':[1,9],'B':[2,3]},index=['a','b'])"
   ]
  },
  {
   "cell_type": "code",
   "execution_count": null,
   "id": "8b5f14e7",
   "metadata": {},
   "outputs": [],
   "source": [
    "d = df.to_dict('index')"
   ]
  },
  {
   "cell_type": "code",
   "execution_count": null,
   "id": "06ae06a6",
   "metadata": {},
   "outputs": [],
   "source": [
    "type(d)"
   ]
  },
  {
   "cell_type": "code",
   "execution_count": null,
   "id": "07277ea8",
   "metadata": {},
   "outputs": [],
   "source": [
    "d['A']"
   ]
  },
  {
   "cell_type": "code",
   "execution_count": null,
   "id": "533fe868",
   "metadata": {},
   "outputs": [],
   "source": [
    "df, xcols, ycols = f_build_cy_ema()"
   ]
  },
  {
   "cell_type": "markdown",
   "id": "11fda72d",
   "metadata": {},
   "source": [
    "# Naive Test"
   ]
  },
  {
   "cell_type": "code",
   "execution_count": null,
   "id": "f6428de5",
   "metadata": {},
   "outputs": [],
   "source": [
    "df_xy['AGNCM_cy_upx'] = df_xy['AGNCM_cy_upx'].clip(0.065519, 0.078873)"
   ]
  },
  {
   "cell_type": "code",
   "execution_count": null,
   "id": "ba6f3523",
   "metadata": {},
   "outputs": [],
   "source": [
    "df_xy = df.copy()\n",
    "df_xy['AGNCM_cy_upx'] = df_xy['AGNCM_cy_upx'].clip(0.065519, 0.078873)\n",
    "horizon = 100\n",
    "ycol = 'AGNCM_cy_upx'\n",
    "df_xy = df.copy()\n",
    "y = df_xy.iloc[horizon:] [ycol].values - df_xy.iloc[:-horizon] [ycol].values\n",
    "x = df_xy.iloc[:-horizon].eval('AGNCM_cy_upx_ema_100 - AGNCM_cy_upx').values\n",
    "df_xy = df_xy.iloc[:-horizon].copy()\n",
    "df_xy['x'] = x\n",
    "df_xy['y'] = y\n",
    "df_xy['x'] = df_xy['x'].clip(-0.002212, 0.001254)\n",
    "df_xy['y'] = df_xy['y'].clip(-0.000614, 0.000633)\n",
    "x = x.reshape(-1,1)"
   ]
  },
  {
   "cell_type": "code",
   "execution_count": null,
   "id": "b5226bc2",
   "metadata": {},
   "outputs": [],
   "source": [
    "df_xy.describe(percentiles=[0.01,0.99]).T"
   ]
  },
  {
   "cell_type": "code",
   "execution_count": null,
   "id": "34671e09",
   "metadata": {},
   "outputs": [],
   "source": [
    "x.shape"
   ]
  },
  {
   "cell_type": "code",
   "execution_count": null,
   "id": "d2ce5349",
   "metadata": {},
   "outputs": [],
   "source": [
    "df_zz = pd.DataFrame({\n",
    "    'r2_in' : re_in,\n",
    "    'r2_out': re_out})\n",
    "df_zz"
   ]
  },
  {
   "cell_type": "code",
   "execution_count": null,
   "id": "144eb5bf",
   "metadata": {},
   "outputs": [],
   "source": [
    "n_per_day = int( (16 - 9.5 ) * 3600 / 30)\n",
    "n = 40 * n_per_day\n",
    "m = 5 *  n_per_day\n",
    "\n",
    "re_in = []\n",
    "re_out = []\n",
    "\n",
    "for i in np.arange((x.shape[0] - n)/m - 1):    \n",
    "    i = int(i)\n",
    "    f1,f2 = i * (m+n), (i+1) * n + i * m\n",
    "    t1,t2 = f2, (i+1) * (n+m)    \n",
    "    \n",
    "    lr = LR()\n",
    "    lr.fit(x[f1:f2], y[f1:f2])\n",
    "    ri = lr.score(x[f1:f2], y[f1:f2])\n",
    "    ro = lr.score(x[t1:t2], y[t1:t2])\n",
    "    re_in.append(ri)\n",
    "    re_out.append(ro)\n",
    "    \n",
    "df_zz = pd.DataFrame({\n",
    "    'r2_in' : re_in,\n",
    "    'r2_out': re_out})\n",
    "df_zz"
   ]
  },
  {
   "cell_type": "code",
   "execution_count": null,
   "id": "b7ae0b56",
   "metadata": {},
   "outputs": [],
   "source": []
  }
 ],
 "metadata": {
  "kernelspec": {
   "display_name": "Python 3 (ipykernel)",
   "language": "python",
   "name": "python3"
  },
  "language_info": {
   "codemirror_mode": {
    "name": "ipython",
    "version": 3
   },
   "file_extension": ".py",
   "mimetype": "text/x-python",
   "name": "python",
   "nbconvert_exporter": "python",
   "pygments_lexer": "ipython3",
   "version": "3.9.7"
  }
 },
 "nbformat": 4,
 "nbformat_minor": 5
}
