{
 "cells": [
  {
   "cell_type": "code",
   "execution_count": 1,
   "id": "17e721dc",
   "metadata": {},
   "outputs": [
    {
     "data": {
      "text/html": [
       "<style>.container { width:100% !important; }</style>"
      ],
      "text/plain": [
       "<IPython.core.display.HTML object>"
      ]
     },
     "metadata": {},
     "output_type": "display_data"
    }
   ],
   "source": [
    "import pdb\n",
    "from itertools import product as cartesianproduct\n",
    "\n",
    "import pandas as pd\n",
    "import numpy as np\n",
    "import matplotlib.pyplot as plt\n",
    "from sklearn.linear_model import LinearRegression as LR\n",
    "from sklearn.linear_model import RidgeCV\n",
    "\n",
    "from sklearn.cross_decomposition import PLSRegression as PLS\n",
    "import pandas_market_calendars as mcal\n",
    "\n",
    "from valkyrie.data import *\n",
    "from valkyrie.quants import *\n",
    "from valkyrie.tools import *\n",
    "from valkyrie.securities import *\n",
    "\n",
    "from IPython.core.display import display, HTML\n",
    "display(HTML(\"<style>.container { width:100% !important; }</style>\"))\n",
    "%matplotlib notebook"
   ]
  },
  {
   "cell_type": "code",
   "execution_count": 2,
   "id": "dcde57d8",
   "metadata": {},
   "outputs": [],
   "source": [
    "stocks = stocks_good_dvd()\n",
    "black_list = {'AGNCP', 'AGNCO', 'NLY PRI'}\n",
    "stocks = list(filter(lambda x : x not in black_list, stocks))\n",
    "stocks = [stk for stk in stocks if 'AGNC' in stk]"
   ]
  },
  {
   "cell_type": "code",
   "execution_count": 12,
   "id": "217eff75",
   "metadata": {},
   "outputs": [
    {
     "name": "stdout",
     "output_type": "stream",
     "text": [
      "error loading stocks File d:/valkyrie/data/resampled/hist_ib_raw_md/good_dvd///2020//06//24/AGNCM.h5 does not exist\n",
      "error loading stocks File d:/valkyrie/data/resampled/hist_ib_raw_md/good_dvd///2020//10//05/AGNCM.h5 does not exist\n",
      "error loading stocks File d:/valkyrie/data/resampled/hist_ib_raw_md/good_dvd///2020//06//15/AGNCN.h5 does not exist\n",
      "fitting for AGNCM\n",
      "fitting h_100_m_Linefit_False_q=0.01_nf_120_nt_10\n",
      "fitting for AGNCN\n",
      "fitting h_100_m_Linefit_False_q=0.01_nf_120_nt_10\n",
      "Wall time: 15.1 s\n"
     ]
    },
    {
     "data": {
      "text/html": [
       "<div>\n",
       "<style scoped>\n",
       "    .dataframe tbody tr th:only-of-type {\n",
       "        vertical-align: middle;\n",
       "    }\n",
       "\n",
       "    .dataframe tbody tr th {\n",
       "        vertical-align: top;\n",
       "    }\n",
       "\n",
       "    .dataframe thead th {\n",
       "        text-align: right;\n",
       "    }\n",
       "</style>\n",
       "<table border=\"1\" class=\"dataframe\">\n",
       "  <thead>\n",
       "    <tr style=\"text-align: right;\">\n",
       "      <th></th>\n",
       "      <th>param</th>\n",
       "      <th>n_cv</th>\n",
       "      <th>trains</th>\n",
       "      <th>horizon</th>\n",
       "      <th>score_in_median</th>\n",
       "      <th>score_in_mean</th>\n",
       "      <th>score_in_win</th>\n",
       "      <th>score_median</th>\n",
       "      <th>score_mean</th>\n",
       "      <th>score_win</th>\n",
       "    </tr>\n",
       "    <tr>\n",
       "      <th>stock</th>\n",
       "      <th></th>\n",
       "      <th></th>\n",
       "      <th></th>\n",
       "      <th></th>\n",
       "      <th></th>\n",
       "      <th></th>\n",
       "      <th></th>\n",
       "      <th></th>\n",
       "      <th></th>\n",
       "      <th></th>\n",
       "    </tr>\n",
       "  </thead>\n",
       "  <tbody>\n",
       "    <tr>\n",
       "      <th>AGNCM</th>\n",
       "      <td>h_100_m_Linefit_False_q=0.01_nf_120_nt_10</td>\n",
       "      <td>23</td>\n",
       "      <td>120</td>\n",
       "      <td>100</td>\n",
       "      <td>0.065669</td>\n",
       "      <td>0.065669</td>\n",
       "      <td>1.0</td>\n",
       "      <td>0.053576</td>\n",
       "      <td>0.054888</td>\n",
       "      <td>0.913043</td>\n",
       "    </tr>\n",
       "    <tr>\n",
       "      <th>AGNCN</th>\n",
       "      <td>h_100_m_Linefit_False_q=0.01_nf_120_nt_10</td>\n",
       "      <td>23</td>\n",
       "      <td>120</td>\n",
       "      <td>100</td>\n",
       "      <td>0.055915</td>\n",
       "      <td>0.055915</td>\n",
       "      <td>1.0</td>\n",
       "      <td>0.061779</td>\n",
       "      <td>0.051069</td>\n",
       "      <td>0.869565</td>\n",
       "    </tr>\n",
       "  </tbody>\n",
       "</table>\n",
       "</div>"
      ],
      "text/plain": [
       "                                           param  n_cv  trains  horizon  \\\n",
       "stock                                                                     \n",
       "AGNCM  h_100_m_Linefit_False_q=0.01_nf_120_nt_10    23     120      100   \n",
       "AGNCN  h_100_m_Linefit_False_q=0.01_nf_120_nt_10    23     120      100   \n",
       "\n",
       "       score_in_median  score_in_mean  score_in_win  score_median  score_mean  \\\n",
       "stock                                                                           \n",
       "AGNCM         0.065669       0.065669           1.0      0.053576    0.054888   \n",
       "AGNCN         0.055915       0.055915           1.0      0.061779    0.051069   \n",
       "\n",
       "       score_win  \n",
       "stock             \n",
       "AGNCM   0.913043  \n",
       "AGNCN   0.869565  "
      ]
     },
     "execution_count": 12,
     "metadata": {},
     "output_type": "execute_result"
    }
   ],
   "source": [
    "%%time \n",
    "sdate, edate ='2020-06-01', '2021-05-31'\n",
    "xy_builder = DataMgrCYieldEma(sdate = sdate, edate = edate, stocks = stocks, ema_mults = [5, 15])\n",
    "model = WinsorizedLM(0.01, PLS, n_components=2)\n",
    "model = WinsorizedLM(0.01, LR, fit_intercept = False)\n",
    "df_res = fit_stocks(xy_builder, fit_tscv, [model])\n",
    "df_res"
   ]
  },
  {
   "cell_type": "code",
   "execution_count": 7,
   "id": "536d7fd2",
   "metadata": {},
   "outputs": [
    {
     "data": {
      "text/html": [
       "<div>\n",
       "<style scoped>\n",
       "    .dataframe tbody tr th:only-of-type {\n",
       "        vertical-align: middle;\n",
       "    }\n",
       "\n",
       "    .dataframe tbody tr th {\n",
       "        vertical-align: top;\n",
       "    }\n",
       "\n",
       "    .dataframe thead th {\n",
       "        text-align: right;\n",
       "    }\n",
       "</style>\n",
       "<table border=\"1\" class=\"dataframe\">\n",
       "  <thead>\n",
       "    <tr style=\"text-align: right;\">\n",
       "      <th></th>\n",
       "      <th>param</th>\n",
       "      <th>n_cv</th>\n",
       "      <th>trains</th>\n",
       "      <th>horizon</th>\n",
       "      <th>score_in_median</th>\n",
       "      <th>score_in_mean</th>\n",
       "      <th>score_in_win</th>\n",
       "      <th>score_median</th>\n",
       "      <th>score_mean</th>\n",
       "      <th>score_win</th>\n",
       "    </tr>\n",
       "    <tr>\n",
       "      <th>stock</th>\n",
       "      <th></th>\n",
       "      <th></th>\n",
       "      <th></th>\n",
       "      <th></th>\n",
       "      <th></th>\n",
       "      <th></th>\n",
       "      <th></th>\n",
       "      <th></th>\n",
       "      <th></th>\n",
       "      <th></th>\n",
       "    </tr>\n",
       "  </thead>\n",
       "  <tbody>\n",
       "    <tr>\n",
       "      <th>AGNCM</th>\n",
       "      <td>h_100_m_PLSRn_c_2_q=0.01_nf_120_nt_10</td>\n",
       "      <td>23</td>\n",
       "      <td>120</td>\n",
       "      <td>100</td>\n",
       "      <td>0.052000</td>\n",
       "      <td>0.052000</td>\n",
       "      <td>1.0</td>\n",
       "      <td>0.056490</td>\n",
       "      <td>0.058229</td>\n",
       "      <td>0.956522</td>\n",
       "    </tr>\n",
       "    <tr>\n",
       "      <th>AGNCN</th>\n",
       "      <td>h_100_m_PLSRn_c_2_q=0.01_nf_120_nt_10</td>\n",
       "      <td>23</td>\n",
       "      <td>120</td>\n",
       "      <td>100</td>\n",
       "      <td>0.043179</td>\n",
       "      <td>0.043179</td>\n",
       "      <td>1.0</td>\n",
       "      <td>0.047091</td>\n",
       "      <td>0.043791</td>\n",
       "      <td>0.782609</td>\n",
       "    </tr>\n",
       "  </tbody>\n",
       "</table>\n",
       "</div>"
      ],
      "text/plain": [
       "                                       param  n_cv  trains  horizon  \\\n",
       "stock                                                                 \n",
       "AGNCM  h_100_m_PLSRn_c_2_q=0.01_nf_120_nt_10    23     120      100   \n",
       "AGNCN  h_100_m_PLSRn_c_2_q=0.01_nf_120_nt_10    23     120      100   \n",
       "\n",
       "       score_in_median  score_in_mean  score_in_win  score_median  score_mean  \\\n",
       "stock                                                                           \n",
       "AGNCM         0.052000       0.052000           1.0      0.056490    0.058229   \n",
       "AGNCN         0.043179       0.043179           1.0      0.047091    0.043791   \n",
       "\n",
       "       score_win  \n",
       "stock             \n",
       "AGNCM   0.956522  \n",
       "AGNCN   0.782609  "
      ]
     },
     "execution_count": 7,
     "metadata": {},
     "output_type": "execute_result"
    }
   ],
   "source": [
    "df_res"
   ]
  },
  {
   "cell_type": "code",
   "execution_count": null,
   "id": "b597dea9",
   "metadata": {},
   "outputs": [],
   "source": [
    " df_res, xcols, ycol, wcol = xy_builder.build_xy('AGNCM')"
   ]
  },
  {
   "cell_type": "markdown",
   "id": "11fda72d",
   "metadata": {},
   "source": [
    "# Naive Test"
   ]
  },
  {
   "cell_type": "code",
   "execution_count": null,
   "id": "f6428de5",
   "metadata": {},
   "outputs": [],
   "source": [
    "df_xy['AGNCM_cy_upx'] = df_xy['AGNCM_cy_upx'].clip(0.065519, 0.078873)"
   ]
  },
  {
   "cell_type": "code",
   "execution_count": null,
   "id": "ba6f3523",
   "metadata": {},
   "outputs": [],
   "source": [
    "df_xy = df.copy()\n",
    "df_xy['AGNCM_cy_upx'] = df_xy['AGNCM_cy_upx'].clip(0.065519, 0.078873)\n",
    "horizon = 100\n",
    "ycol = 'AGNCM_cy_upx'\n",
    "df_xy = df.copy()\n",
    "y = df_xy.iloc[horizon:] [ycol].values - df_xy.iloc[:-horizon] [ycol].values\n",
    "x = df_xy.iloc[:-horizon].eval('AGNCM_cy_upx_ema_100 - AGNCM_cy_upx').values\n",
    "df_xy = df_xy.iloc[:-horizon].copy()\n",
    "df_xy['x'] = x\n",
    "df_xy['y'] = y\n",
    "df_xy['x'] = df_xy['x'].clip(-0.002212, 0.001254)\n",
    "df_xy['y'] = df_xy['y'].clip(-0.000614, 0.000633)\n",
    "x = x.reshape(-1,1)"
   ]
  },
  {
   "cell_type": "code",
   "execution_count": null,
   "id": "b5226bc2",
   "metadata": {},
   "outputs": [],
   "source": [
    "df_xy.describe(percentiles=[0.01,0.99]).T"
   ]
  },
  {
   "cell_type": "code",
   "execution_count": null,
   "id": "34671e09",
   "metadata": {},
   "outputs": [],
   "source": [
    "x.shape"
   ]
  },
  {
   "cell_type": "code",
   "execution_count": null,
   "id": "d2ce5349",
   "metadata": {},
   "outputs": [],
   "source": [
    "df_zz = pd.DataFrame({\n",
    "    'r2_in' : re_in,\n",
    "    'r2_out': re_out})\n",
    "df_zz"
   ]
  },
  {
   "cell_type": "code",
   "execution_count": null,
   "id": "144eb5bf",
   "metadata": {},
   "outputs": [],
   "source": [
    "n_per_day = int( (16 - 9.5 ) * 3600 / 30)\n",
    "n = 40 * n_per_day\n",
    "m = 5 *  n_per_day\n",
    "\n",
    "re_in = []\n",
    "re_out = []\n",
    "\n",
    "for i in np.arange((x.shape[0] - n)/m - 1):    \n",
    "    i = int(i)\n",
    "    f1,f2 = i * (m+n), (i+1) * n + i * m\n",
    "    t1,t2 = f2, (i+1) * (n+m)    \n",
    "    \n",
    "    lr = LR()\n",
    "    lr.fit(x[f1:f2], y[f1:f2])\n",
    "    ri = lr.score(x[f1:f2], y[f1:f2])\n",
    "    ro = lr.score(x[t1:t2], y[t1:t2])\n",
    "    re_in.append(ri)\n",
    "    re_out.append(ro)\n",
    "    \n",
    "df_zz = pd.DataFrame({\n",
    "    'r2_in' : re_in,\n",
    "    'r2_out': re_out})\n",
    "df_zz"
   ]
  },
  {
   "cell_type": "code",
   "execution_count": 13,
   "id": "b7ae0b56",
   "metadata": {},
   "outputs": [
    {
     "data": {
      "text/plain": [
       "2.509999999999991"
      ]
     },
     "execution_count": 13,
     "metadata": {},
     "output_type": "execute_result"
    }
   ],
   "source": [
    "741.37 - 738.86"
   ]
  },
  {
   "cell_type": "code",
   "execution_count": null,
   "id": "bacd6054",
   "metadata": {},
   "outputs": [],
   "source": []
  }
 ],
 "metadata": {
  "kernelspec": {
   "display_name": "Python 3 (ipykernel)",
   "language": "python",
   "name": "python3"
  },
  "language_info": {
   "codemirror_mode": {
    "name": "ipython",
    "version": 3
   },
   "file_extension": ".py",
   "mimetype": "text/x-python",
   "name": "python",
   "nbconvert_exporter": "python",
   "pygments_lexer": "ipython3",
   "version": "3.9.7"
  }
 },
 "nbformat": 4,
 "nbformat_minor": 5
}
