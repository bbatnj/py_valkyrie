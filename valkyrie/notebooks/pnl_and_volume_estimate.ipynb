{
 "cells": [
  {
   "cell_type": "code",
   "execution_count": 13,
   "id": "ac8ffe53",
   "metadata": {},
   "outputs": [
    {
     "name": "stdout",
     "output_type": "stream",
     "text": [
      "D:\\valkyrie\\python\n"
     ]
    }
   ],
   "source": [
    "cd .."
   ]
  },
  {
   "cell_type": "code",
   "execution_count": 52,
   "id": "cd0280ac",
   "metadata": {},
   "outputs": [
    {
     "data": {
      "text/html": [
       "<style>.container { width:100% !important; }</style>"
      ],
      "text/plain": [
       "<IPython.core.display.HTML object>"
      ]
     },
     "metadata": {},
     "output_type": "display_data"
    }
   ],
   "source": [
    "import requests\n",
    "import urllib\n",
    "from html_table_parser.parser import HTMLTableParser\n",
    "from universe import *\n",
    "from valkyrie_tools import *\n",
    "from IPython.core.display import display, HTML\n",
    "display(HTML(\"<style>.container { width:100% !important; }</style>\"))"
   ]
  },
  {
   "cell_type": "code",
   "execution_count": 15,
   "id": "c2439232",
   "metadata": {},
   "outputs": [],
   "source": [
    "import pandas as pd"
   ]
  },
  {
   "cell_type": "code",
   "execution_count": 66,
   "id": "7ad8edc3",
   "metadata": {},
   "outputs": [],
   "source": [
    "df  = pd.read_hdf('D:\\\\valkyrie\\\\data\\\\hist_ib_raw_md\\\\2020\\\\11\\\\04\\\\bid_ask\\\\BAC PRB.h5')"
   ]
  },
  {
   "cell_type": "code",
   "execution_count": 68,
   "id": "3634b736",
   "metadata": {},
   "outputs": [],
   "source": [
    "df2 = pd.read_hdf('D:\\\\valkyrie\\\\data\\\\hist_ib_raw_md\\\\2020\\\\11\\\\04\\\\trades\\\\BAC PRB.h5')"
   ]
  },
  {
   "cell_type": "code",
   "execution_count": 69,
   "id": "c6908de3",
   "metadata": {},
   "outputs": [
    {
     "data": {
      "text/html": [
       "<div>\n",
       "<style scoped>\n",
       "    .dataframe tbody tr th:only-of-type {\n",
       "        vertical-align: middle;\n",
       "    }\n",
       "\n",
       "    .dataframe tbody tr th {\n",
       "        vertical-align: top;\n",
       "    }\n",
       "\n",
       "    .dataframe thead th {\n",
       "        text-align: right;\n",
       "    }\n",
       "</style>\n",
       "<table border=\"1\" class=\"dataframe\">\n",
       "  <thead>\n",
       "    <tr style=\"text-align: right;\">\n",
       "      <th></th>\n",
       "      <th>price</th>\n",
       "      <th>size</th>\n",
       "      <th>exchange</th>\n",
       "      <th>specialConditions</th>\n",
       "      <th>ticker</th>\n",
       "    </tr>\n",
       "    <tr>\n",
       "      <th>time</th>\n",
       "      <th></th>\n",
       "      <th></th>\n",
       "      <th></th>\n",
       "      <th></th>\n",
       "      <th></th>\n",
       "    </tr>\n",
       "  </thead>\n",
       "  <tbody>\n",
       "    <tr>\n",
       "      <th>2020-11-04 09:12:22-05:00</th>\n",
       "      <td>26.700</td>\n",
       "      <td>1</td>\n",
       "      <td>ARCA</td>\n",
       "      <td>TI</td>\n",
       "      <td>BAC PRB</td>\n",
       "    </tr>\n",
       "    <tr>\n",
       "      <th>2020-11-04 09:30:00-05:00</th>\n",
       "      <td>26.900</td>\n",
       "      <td>1005</td>\n",
       "      <td>NYSE</td>\n",
       "      <td>O</td>\n",
       "      <td>BAC PRB</td>\n",
       "    </tr>\n",
       "    <tr>\n",
       "      <th>2020-11-04 09:30:11-05:00</th>\n",
       "      <td>26.900</td>\n",
       "      <td>21</td>\n",
       "      <td>FINRA</td>\n",
       "      <td>4 I</td>\n",
       "      <td>BAC PRB</td>\n",
       "    </tr>\n",
       "    <tr>\n",
       "      <th>2020-11-04 09:31:15-05:00</th>\n",
       "      <td>26.915</td>\n",
       "      <td>1300</td>\n",
       "      <td>FINRA</td>\n",
       "      <td></td>\n",
       "      <td>BAC PRB</td>\n",
       "    </tr>\n",
       "    <tr>\n",
       "      <th>2020-11-04 09:31:35-05:00</th>\n",
       "      <td>26.970</td>\n",
       "      <td>67</td>\n",
       "      <td>IEX</td>\n",
       "      <td>I</td>\n",
       "      <td>BAC PRB</td>\n",
       "    </tr>\n",
       "  </tbody>\n",
       "</table>\n",
       "</div>"
      ],
      "text/plain": [
       "                            price  size exchange specialConditions   ticker\n",
       "time                                                                       \n",
       "2020-11-04 09:12:22-05:00  26.700     1     ARCA                TI  BAC PRB\n",
       "2020-11-04 09:30:00-05:00  26.900  1005     NYSE               O    BAC PRB\n",
       "2020-11-04 09:30:11-05:00  26.900    21    FINRA               4 I  BAC PRB\n",
       "2020-11-04 09:31:15-05:00  26.915  1300    FINRA                    BAC PRB\n",
       "2020-11-04 09:31:35-05:00  26.970    67      IEX                 I  BAC PRB"
      ]
     },
     "execution_count": 69,
     "metadata": {},
     "output_type": "execute_result"
    }
   ],
   "source": [
    "df2.head()"
   ]
  },
  {
   "cell_type": "code",
   "execution_count": 67,
   "id": "d574b531",
   "metadata": {},
   "outputs": [
    {
     "data": {
      "text/html": [
       "<div>\n",
       "<style scoped>\n",
       "    .dataframe tbody tr th:only-of-type {\n",
       "        vertical-align: middle;\n",
       "    }\n",
       "\n",
       "    .dataframe tbody tr th {\n",
       "        vertical-align: top;\n",
       "    }\n",
       "\n",
       "    .dataframe thead th {\n",
       "        text-align: right;\n",
       "    }\n",
       "</style>\n",
       "<table border=\"1\" class=\"dataframe\">\n",
       "  <thead>\n",
       "    <tr style=\"text-align: right;\">\n",
       "      <th></th>\n",
       "      <th>priceBid</th>\n",
       "      <th>priceAsk</th>\n",
       "      <th>sizeBid</th>\n",
       "      <th>sizeAsk</th>\n",
       "      <th>ticker</th>\n",
       "    </tr>\n",
       "    <tr>\n",
       "      <th>time</th>\n",
       "      <th></th>\n",
       "      <th></th>\n",
       "      <th></th>\n",
       "      <th></th>\n",
       "      <th></th>\n",
       "    </tr>\n",
       "  </thead>\n",
       "  <tbody>\n",
       "    <tr>\n",
       "      <th>2020-11-04 04:00:00-05:00</th>\n",
       "      <td>26.39</td>\n",
       "      <td>0.00</td>\n",
       "      <td>100</td>\n",
       "      <td>0</td>\n",
       "      <td>BAC PRB</td>\n",
       "    </tr>\n",
       "    <tr>\n",
       "      <th>2020-11-04 07:00:27-05:00</th>\n",
       "      <td>26.39</td>\n",
       "      <td>27.97</td>\n",
       "      <td>100</td>\n",
       "      <td>5700</td>\n",
       "      <td>BAC PRB</td>\n",
       "    </tr>\n",
       "    <tr>\n",
       "      <th>2020-11-04 09:28:26-05:00</th>\n",
       "      <td>26.39</td>\n",
       "      <td>27.97</td>\n",
       "      <td>300</td>\n",
       "      <td>5900</td>\n",
       "      <td>BAC PRB</td>\n",
       "    </tr>\n",
       "    <tr>\n",
       "      <th>2020-11-04 09:29:45-05:00</th>\n",
       "      <td>26.39</td>\n",
       "      <td>27.97</td>\n",
       "      <td>400</td>\n",
       "      <td>5900</td>\n",
       "      <td>BAC PRB</td>\n",
       "    </tr>\n",
       "    <tr>\n",
       "      <th>2020-11-04 09:29:45-05:00</th>\n",
       "      <td>26.39</td>\n",
       "      <td>27.97</td>\n",
       "      <td>400</td>\n",
       "      <td>6000</td>\n",
       "      <td>BAC PRB</td>\n",
       "    </tr>\n",
       "  </tbody>\n",
       "</table>\n",
       "</div>"
      ],
      "text/plain": [
       "                           priceBid  priceAsk  sizeBid  sizeAsk   ticker\n",
       "time                                                                    \n",
       "2020-11-04 04:00:00-05:00     26.39      0.00      100        0  BAC PRB\n",
       "2020-11-04 07:00:27-05:00     26.39     27.97      100     5700  BAC PRB\n",
       "2020-11-04 09:28:26-05:00     26.39     27.97      300     5900  BAC PRB\n",
       "2020-11-04 09:29:45-05:00     26.39     27.97      400     5900  BAC PRB\n",
       "2020-11-04 09:29:45-05:00     26.39     27.97      400     6000  BAC PRB"
      ]
     },
     "execution_count": 67,
     "metadata": {},
     "output_type": "execute_result"
    }
   ],
   "source": [
    "df.head()"
   ]
  },
  {
   "cell_type": "code",
   "execution_count": 55,
   "id": "50f6f95d",
   "metadata": {},
   "outputs": [],
   "source": [
    "xx = 'D:\\\\valkyrie\\\\data\\\\hist_ib_raw_md\\\\2020\\\\11\\\\04\\\\bid_ask\\\\BAC PRB.h5'.replace('\\\\','//')"
   ]
  },
  {
   "cell_type": "code",
   "execution_count": 56,
   "id": "511eda5b",
   "metadata": {},
   "outputs": [],
   "source": [
    "df_x = pd.read_hdf(xx)"
   ]
  },
  {
   "cell_type": "code",
   "execution_count": 57,
   "id": "81bcce4a",
   "metadata": {},
   "outputs": [
    {
     "data": {
      "text/html": [
       "<div>\n",
       "<style scoped>\n",
       "    .dataframe tbody tr th:only-of-type {\n",
       "        vertical-align: middle;\n",
       "    }\n",
       "\n",
       "    .dataframe tbody tr th {\n",
       "        vertical-align: top;\n",
       "    }\n",
       "\n",
       "    .dataframe thead th {\n",
       "        text-align: right;\n",
       "    }\n",
       "</style>\n",
       "<table border=\"1\" class=\"dataframe\">\n",
       "  <thead>\n",
       "    <tr style=\"text-align: right;\">\n",
       "      <th></th>\n",
       "      <th>priceBid</th>\n",
       "      <th>priceAsk</th>\n",
       "      <th>sizeBid</th>\n",
       "      <th>sizeAsk</th>\n",
       "      <th>ticker</th>\n",
       "    </tr>\n",
       "    <tr>\n",
       "      <th>time</th>\n",
       "      <th></th>\n",
       "      <th></th>\n",
       "      <th></th>\n",
       "      <th></th>\n",
       "      <th></th>\n",
       "    </tr>\n",
       "  </thead>\n",
       "  <tbody>\n",
       "    <tr>\n",
       "      <th>2020-11-04 04:00:00-05:00</th>\n",
       "      <td>26.39</td>\n",
       "      <td>0.00</td>\n",
       "      <td>100</td>\n",
       "      <td>0</td>\n",
       "      <td>BAC PRB</td>\n",
       "    </tr>\n",
       "    <tr>\n",
       "      <th>2020-11-04 07:00:27-05:00</th>\n",
       "      <td>26.39</td>\n",
       "      <td>27.97</td>\n",
       "      <td>100</td>\n",
       "      <td>5700</td>\n",
       "      <td>BAC PRB</td>\n",
       "    </tr>\n",
       "    <tr>\n",
       "      <th>2020-11-04 09:28:26-05:00</th>\n",
       "      <td>26.39</td>\n",
       "      <td>27.97</td>\n",
       "      <td>300</td>\n",
       "      <td>5900</td>\n",
       "      <td>BAC PRB</td>\n",
       "    </tr>\n",
       "    <tr>\n",
       "      <th>2020-11-04 09:29:45-05:00</th>\n",
       "      <td>26.39</td>\n",
       "      <td>27.97</td>\n",
       "      <td>400</td>\n",
       "      <td>5900</td>\n",
       "      <td>BAC PRB</td>\n",
       "    </tr>\n",
       "    <tr>\n",
       "      <th>2020-11-04 09:29:45-05:00</th>\n",
       "      <td>26.39</td>\n",
       "      <td>27.97</td>\n",
       "      <td>400</td>\n",
       "      <td>6000</td>\n",
       "      <td>BAC PRB</td>\n",
       "    </tr>\n",
       "    <tr>\n",
       "      <th>...</th>\n",
       "      <td>...</td>\n",
       "      <td>...</td>\n",
       "      <td>...</td>\n",
       "      <td>...</td>\n",
       "      <td>...</td>\n",
       "    </tr>\n",
       "    <tr>\n",
       "      <th>2020-11-04 16:00:01-05:00</th>\n",
       "      <td>26.39</td>\n",
       "      <td>0.00</td>\n",
       "      <td>100</td>\n",
       "      <td>0</td>\n",
       "      <td>BAC PRB</td>\n",
       "    </tr>\n",
       "    <tr>\n",
       "      <th>2020-11-04 16:00:25-05:00</th>\n",
       "      <td>26.40</td>\n",
       "      <td>0.00</td>\n",
       "      <td>200</td>\n",
       "      <td>0</td>\n",
       "      <td>BAC PRB</td>\n",
       "    </tr>\n",
       "    <tr>\n",
       "      <th>2020-11-04 16:15:01-05:00</th>\n",
       "      <td>26.39</td>\n",
       "      <td>0.00</td>\n",
       "      <td>100</td>\n",
       "      <td>0</td>\n",
       "      <td>BAC PRB</td>\n",
       "    </tr>\n",
       "    <tr>\n",
       "      <th>2020-11-04 17:28:09-05:00</th>\n",
       "      <td>26.39</td>\n",
       "      <td>27.15</td>\n",
       "      <td>100</td>\n",
       "      <td>10000</td>\n",
       "      <td>BAC PRB</td>\n",
       "    </tr>\n",
       "    <tr>\n",
       "      <th>2020-11-04 17:32:26-05:00</th>\n",
       "      <td>26.39</td>\n",
       "      <td>27.10</td>\n",
       "      <td>100</td>\n",
       "      <td>900</td>\n",
       "      <td>BAC PRB</td>\n",
       "    </tr>\n",
       "  </tbody>\n",
       "</table>\n",
       "<p>1050 rows × 5 columns</p>\n",
       "</div>"
      ],
      "text/plain": [
       "                           priceBid  priceAsk  sizeBid  sizeAsk   ticker\n",
       "time                                                                    \n",
       "2020-11-04 04:00:00-05:00     26.39      0.00      100        0  BAC PRB\n",
       "2020-11-04 07:00:27-05:00     26.39     27.97      100     5700  BAC PRB\n",
       "2020-11-04 09:28:26-05:00     26.39     27.97      300     5900  BAC PRB\n",
       "2020-11-04 09:29:45-05:00     26.39     27.97      400     5900  BAC PRB\n",
       "2020-11-04 09:29:45-05:00     26.39     27.97      400     6000  BAC PRB\n",
       "...                             ...       ...      ...      ...      ...\n",
       "2020-11-04 16:00:01-05:00     26.39      0.00      100        0  BAC PRB\n",
       "2020-11-04 16:00:25-05:00     26.40      0.00      200        0  BAC PRB\n",
       "2020-11-04 16:15:01-05:00     26.39      0.00      100        0  BAC PRB\n",
       "2020-11-04 17:28:09-05:00     26.39     27.15      100    10000  BAC PRB\n",
       "2020-11-04 17:32:26-05:00     26.39     27.10      100      900  BAC PRB\n",
       "\n",
       "[1050 rows x 5 columns]"
      ]
     },
     "execution_count": 57,
     "metadata": {},
     "output_type": "execute_result"
    }
   ],
   "source": [
    "df_x"
   ]
  },
  {
   "cell_type": "code",
   "execution_count": 5,
   "id": "214f9af9",
   "metadata": {},
   "outputs": [
    {
     "data": {
      "text/plain": [
       "(1000, 5)"
      ]
     },
     "execution_count": 5,
     "metadata": {},
     "output_type": "execute_result"
    }
   ],
   "source": [
    "ymd_dir()"
   ]
  },
  {
   "cell_type": "code",
   "execution_count": 16,
   "id": "34acb697",
   "metadata": {},
   "outputs": [],
   "source": [
    "df = pd.read_hdf('D://valkyrie//data_bak//AGNCP.h5')"
   ]
  },
  {
   "cell_type": "code",
   "execution_count": 61,
   "id": "a58eb141",
   "metadata": {},
   "outputs": [],
   "source": [
    "stock_list = ['AGNCM']\n",
    "date = '20201104'"
   ]
  },
  {
   "cell_type": "code",
   "execution_count": 100,
   "id": "655359e1",
   "metadata": {},
   "outputs": [],
   "source": [
    "zz = gen_marked_md(date, stock_list, '1s')"
   ]
  },
  {
   "cell_type": "code",
   "execution_count": 99,
   "id": "b53cc594",
   "metadata": {},
   "outputs": [],
   "source": [
    "def gen_marked_md(date, stock_list, trade_marking_offset, \n",
    "                  output_path = 'D://valkyrie//data//marked_md',\n",
    "                  src_path = 'D://valkyrie//data//hist_ib_raw_md'):\n",
    "    os.makedirs(output_path + ymd_dir(date), exist_ok=True)\n",
    "    src_path = 'D://valkyrie//data//hist_ib_raw_md' + ymd_dir(date)\n",
    "        \n",
    "    df_re = []\n",
    "    for stk in stock_list:\n",
    "        df_bidask = pd.read_hdf(src_path + f'//bid_ask//{stk}.h5')\n",
    "        df_trades = pd.read_hdf(src_path + f'//trades//{stk}.h5')\n",
    "        df_trades.index = df_trades.index - pd.Timedelta(trade_marking_offset)\n",
    "        df_bidask = df_bidask.query('0 < priceBid < priceAsk ').copy()\n",
    "        df_merged = pd.concat([df_bidask, df_trades]).sort_index()\n",
    "        \n",
    "        for c in 'priceBid priceAsk sizeBid sizeAsk'.split():\n",
    "            df_merged[c] = df_merged[c].ffill()\n",
    "        df_merged.rename({'priceBid' : 'bid',\n",
    "                          'priceAsk' : 'ask',\n",
    "                          'sizeBid'  : 'bz',\n",
    "                          'sizeAsk'  : 'az',\n",
    "                          'price'    : 'trd_px',\n",
    "                          'size'     : 'trd_sz',\n",
    "                          'exchange' : 'exch'\n",
    "                         },axis=1, inplace=True)\n",
    "        \n",
    "        df_merged['mid']   = df_merged.eval('0.5 * (bid + ask)')\n",
    "        df_merged['sprd']  = df_merged.eval('0.5 * (ask - bid)')\n",
    "        df_merged['bs']    = df_merged.eval('100*(trd_px - mid)').clip(-1,1)\n",
    "        df_merged['offset']=df_merged.eval('0.5*abs(bs)*((1+bs)*(ask-trd_px) + (1-bs)*(trd_px- bid))').clip(0,np.inf)        \n",
    "        df_merged['date'] = index2dt(df_merged)        \n",
    "        return df_merged\n",
    "    \n",
    "    df_re.append(df_merged)\n",
    "    return pd.concat(df_re)"
   ]
  },
  {
   "cell_type": "code",
   "execution_count": 45,
   "id": "21664bac",
   "metadata": {},
   "outputs": [],
   "source": [
    "def analyze_pnl_and_volume(df, exchs = ['NYSE','ISLAND']):\n",
    "    df_ex_trades = df_trades.query('exch != \"FINRA\"').copy()\n",
    "    if exchs:\n",
    "        df_ex_trades = df_ex_trades.query('exch in @exchs')\n",
    "\n",
    "    df_re = df_ex_trades.query('sprd > 0.05 and offset <=0.02').groupby(['date','exch'])['trd_sz'].agg(['count','sum'])    \n",
    "    return df_re, df_re.groupby('exch').agg(['median','mean','std','min','max'])"
   ]
  },
  {
   "cell_type": "code",
   "execution_count": null,
   "id": "d071df2e",
   "metadata": {},
   "outputs": [],
   "source": []
  }
 ],
 "metadata": {
  "kernelspec": {
   "display_name": "Python 3 (ipykernel)",
   "language": "python",
   "name": "python3"
  },
  "language_info": {
   "codemirror_mode": {
    "name": "ipython",
    "version": 3
   },
   "file_extension": ".py",
   "mimetype": "text/x-python",
   "name": "python",
   "nbconvert_exporter": "python",
   "pygments_lexer": "ipython3",
   "version": "3.9.7"
  }
 },
 "nbformat": 4,
 "nbformat_minor": 5
}
