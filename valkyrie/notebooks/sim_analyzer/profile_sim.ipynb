{
 "cells": [
  {
   "cell_type": "code",
   "execution_count": null,
   "id": "304308e7",
   "metadata": {
    "pycharm": {
     "name": "#%%\n"
    }
   },
   "outputs": [],
   "source": [
    "import numpy as np\n",
    "import pandas as pd\n",
    "import gc\n",
    "\n",
    "from sklearn.linear_model import LinearRegression as LR\n",
    "from statsmodels.stats.weightstats import DescrStatsW\n",
    "from IPython.core.display import display, HTML\n",
    "display(HTML(\"<style>.container { width:100% !important; }</style>\"))\n",
    "%matplotlib notebook\n",
    "pd.set_option('display.max_rows', 500)\n",
    "\n",
    "from valkyrie.avalon.feature_analyzer import FeatureMgr\n",
    "from valkyrie.securities import stocks_good_dvd, parent\n",
    "from valkyrie.quants import lm_fit"
   ]
  },
  {
   "cell_type": "code",
   "execution_count": null,
   "id": "caba5415",
   "metadata": {
    "pycharm": {
     "name": "#%%\n"
    }
   },
   "outputs": [],
   "source": [
    "%run D:\\valkyrie_shared\\python\\lib\\valkyrie\\run_notebook_import.py"
   ]
  },
  {
   "cell_type": "code",
   "execution_count": null,
   "id": "04a5ead2",
   "metadata": {
    "pycharm": {
     "name": "#%%\n"
    }
   },
   "outputs": [],
   "source": [
    "cd '/home/bb/projects/valkyrie/python'"
   ]
  },
  {
   "cell_type": "code",
   "execution_count": null,
   "id": "b7619f1b",
   "metadata": {
    "pycharm": {
     "name": "#%%\n"
    }
   },
   "outputs": [],
   "source": [
    "pwd"
   ]
  },
  {
   "cell_type": "code",
   "execution_count": null,
   "id": "787b6581",
   "metadata": {
    "pycharm": {
     "name": "#%%\n"
    }
   },
   "outputs": [],
   "source": [
    "from valkyrie.components import simulator\n",
    "args = {'config': '/home/bb/projects/valkyrie/configs/trading_config_test2.json', \n",
    "        'date': None, \n",
    "        'sdate': '20210101', \n",
    "        'edate': '20210105', \n",
    "        'log': 'critical', \n",
    "        'name': 'profiling'}"
   ]
  },
  {
   "cell_type": "code",
   "execution_count": null,
   "id": "4581bc22",
   "metadata": {
    "pycharm": {
     "name": "#%%\n"
    }
   },
   "outputs": [],
   "source": [
    "%load_ext snakeviz\n",
    "%snakeviz  simulator.main(args)"
   ]
  },
  {
   "cell_type": "code",
   "execution_count": null,
   "id": "d0010d31",
   "metadata": {
    "pycharm": {
     "name": "#%%\n"
    }
   },
   "outputs": [],
   "source": []
  }
 ],
 "metadata": {
  "kernelspec": {
   "display_name": "valkyrie_venv_win",
   "language": "python",
   "name": "valkyrie_venv_win"
  },
  "language_info": {
   "codemirror_mode": {
    "name": "ipython",
    "version": 3
   },
   "file_extension": ".py",
   "mimetype": "text/x-python",
   "name": "python",
   "nbconvert_exporter": "python",
   "pygments_lexer": "ipython3",
   "version": "3.9.13"
  }
 },
 "nbformat": 4,
 "nbformat_minor": 5
}