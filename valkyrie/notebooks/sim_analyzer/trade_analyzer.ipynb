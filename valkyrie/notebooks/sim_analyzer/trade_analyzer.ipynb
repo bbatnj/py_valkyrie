{
 "cells": [
  {
   "cell_type": "code",
   "execution_count": 1,
   "id": "a6ce435f",
   "metadata": {},
   "outputs": [
    {
     "name": "stderr",
     "output_type": "stream",
     "text": [
      "/tmp/ipykernel_263317/1962559675.py:7: DeprecationWarning: Importing display from IPython.core.display is deprecated since IPython 7.14, please import from IPython display\n",
      "  from IPython.core.display import display, HTML\n"
     ]
    },
    {
     "data": {
      "text/html": [
       "<style>.container { width:100% !important; }</style>"
      ],
      "text/plain": [
       "<IPython.core.display.HTML object>"
      ]
     },
     "metadata": {},
     "output_type": "display_data"
    }
   ],
   "source": [
    "import gc\n",
    "import os\n",
    "\n",
    "import numpy as np\n",
    "import pandas as pd\n",
    "from sklearn.linear_model import LinearRegression as LR\n",
    "from IPython.core.display import display, HTML\n",
    "display(HTML(\"<style>.container { width:100% !important; }</style>\"))\n",
    "%matplotlib notebook\n",
    "pd.set_option('display.max_rows', 500)\n",
    "\n",
    "from valkyrie.avalon.feature_analyzer import FeatureMgr\n",
    "from valkyrie.securities import stocks_good_dvd, parent\n",
    "from valkyrie.quants import lm_fit"
   ]
  },
  {
   "cell_type": "markdown",
   "id": "798115a1",
   "metadata": {},
   "source": [
    "# Load Data"
   ]
  },
  {
   "cell_type": "code",
   "execution_count": null,
   "id": "5ee8c900",
   "metadata": {},
   "outputs": [],
   "source": [
    "#feature_mgr = FeatureMgr('20210101', '20210630', ['TWO PRC'] , 'latest')#\n",
    "feature_mgr = FeatureMgr('20210101', '20210630', stocks_good_dvd() , 'eve_features3_2x0_3d')\n",
    "ret_ns = [int(1 * 2 * 60 * 6.5), int(3 * 2 * 60 * 6.5), int(5 * 2 * 60 * 6.5), int(10 * 2 * 60 * 6.5)]\n",
    "\n",
    "ret_col, s2_col = 'risk_tv', 'cywa_mkt_s2h'\n",
    "df_tv = feature_mgr.calc_rets('log', ret_col, ret_ns, s2_col)\n",
    "df_tv['parent'] = df_tv['ticker'].apply(parent)\n",
    "\n",
    "ret_col, s2_col = 'cywa_mkt_xh', 'cywa_mkt_s2h'\n",
    "df_cy = feature_mgr.calc_rets('log', ret_col, ret_ns, s2_col)\n",
    "df_cy['parent'] = df_cy['ticker'].apply(parent)\n",
    "gc.collect()"
   ]
  },
  {
   "cell_type": "code",
   "execution_count": null,
   "id": "20f5779a",
   "metadata": {},
   "outputs": [],
   "source": [
    "sim_dir = '/home/bb/projects/valkyrie/sim_dir/eve_features3_2x0_3dB/summary/fills/20210216'"
   ]
  },
  {
   "cell_type": "code",
   "execution_count": null,
   "id": "4c345bae",
   "metadata": {},
   "outputs": [],
   "source": [
    "df = []\n",
    "for fn in os.listdir(sim_dir):    \n",
    "    name = fn.split('.')[0]\n",
    "    df_temp = pd.read_hdf(f'{sim_dir}/{fn}')                \n",
    "    df.append(df_temp)\n",
    "df = pd.concat(df)"
   ]
  },
  {
   "cell_type": "code",
   "execution_count": null,
   "id": "36a17535",
   "metadata": {},
   "outputs": [],
   "source": [
    "[c for c in list(df_tv.columns) if 'feature_' in c]"
   ]
  },
  {
   "cell_type": "code",
   "execution_count": null,
   "id": "4598336f",
   "metadata": {},
   "outputs": [],
   "source": [
    "df_tv['cy_pred'] = df_tv 'feature_cluster','feature_long_dpff','feature_mkt_dpff'"
   ]
  },
  {
   "cell_type": "code",
   "execution_count": null,
   "id": "c8b3dc0c",
   "metadata": {},
   "outputs": [],
   "source": [
    "0.0001 /  0.07 * 25"
   ]
  },
  {
   "cell_type": "code",
   "execution_count": null,
   "id": "03c42a12",
   "metadata": {},
   "outputs": [],
   "source": [
    "df_tv.query('ticker == \"NRZ PRA\" and date == \"20210216\"')[['feature_cluster']].plot(alpha = 0.6)"
   ]
  },
  {
   "cell_type": "code",
   "execution_count": null,
   "id": "fca48df2",
   "metadata": {},
   "outputs": [],
   "source": [
    "df[['edge']].sum()"
   ]
  },
  {
   "cell_type": "code",
   "execution_count": null,
   "id": "9362f55e",
   "metadata": {},
   "outputs": [],
   "source": [
    "df.sort_values('edge', ascending=False)"
   ]
  },
  {
   "cell_type": "code",
   "execution_count": null,
   "id": "3b36a4b7",
   "metadata": {},
   "outputs": [],
   "source": [
    "df = pd.DataFrame(name2df, index = 'name')"
   ]
  },
  {
   "cell_type": "code",
   "execution_count": null,
   "id": "2ec155d9",
   "metadata": {},
   "outputs": [],
   "source": [
    "df"
   ]
  },
  {
   "cell_type": "markdown",
   "id": "dfe052d7",
   "metadata": {},
   "source": [
    "# Checking"
   ]
  },
  {
   "cell_type": "markdown",
   "id": "c99eeb6a",
   "metadata": {},
   "source": [
    "### against nbbo"
   ]
  },
  {
   "cell_type": "code",
   "execution_count": null,
   "id": "5669370e",
   "metadata": {},
   "outputs": [],
   "source": [
    "hls = [1, 60, 600, 3600]\n",
    "print(f'Within bbo %')\n",
    "tv_cols = [c for c in df_tv if 'cywa_' in c and '_tv' in c and 'pff_' not in c] + ['tv']\n",
    "df_against_nbbo = []\n",
    "for col in ['risk_tv'] + tv_cols:\n",
    "    below = df_tv.eval(f'{col} <= bid ').sum() / df_tv.shape[0]\n",
    "    above = df_tv.eval(f'{col} >= ask ').sum() / df_tv.shape[0]\n",
    "    df_against_nbbo.append({'name': col, 'below' : below, 'above' : above})\n",
    "df_against_nbbo = pd.DataFrame(df_against_nbbo).set_index('name')\n",
    "print(df_against_nbbo)"
   ]
  },
  {
   "cell_type": "markdown",
   "id": "1deec0b7",
   "metadata": {},
   "source": [
    "### tv stats"
   ]
  },
  {
   "cell_type": "code",
   "execution_count": null,
   "id": "e50b7141",
   "metadata": {},
   "outputs": [],
   "source": [
    "for col in tv_cols:    \n",
    "    df_tv[f'drt_{col}'] = df_tv.eval(f'{col} - risk_tv')\n",
    "dtv_cols = [c for c in df_tv if 'drt_' in c] \n",
    "cols = tv_cols + dtv_cols\n",
    "pd.concat( [pd.DataFrame(df_tv[cols].diff().std(), columns=['diff_std']), df_tv[cols].describe(percentiles = [0.01, 0.5,0.99]).T],axis= 1)"
   ]
  },
  {
   "cell_type": "markdown",
   "id": "8a0ce882",
   "metadata": {},
   "source": [
    "### dtv corr"
   ]
  },
  {
   "cell_type": "code",
   "execution_count": null,
   "id": "9f873bf9",
   "metadata": {},
   "outputs": [],
   "source": [
    "ret_cols = [f'risk_tv_ret_{ret}_n' for ret in ret_ns]\n",
    "dtv_cols = [c for c in df_tv if 'drt_' in c] \n",
    "cols = dtv_cols + ret_cols\n",
    "df_tv[cols].corr()[ret_cols + dtv_cols].query('index.str.contains(\"drt_\")')#[ret_cols + dtv_cols]"
   ]
  },
  {
   "cell_type": "code",
   "execution_count": null,
   "id": "65b8e040",
   "metadata": {},
   "outputs": [],
   "source": [
    "#weighted correlation\n",
    "from statsmodels.stats.weightstats import DescrStatsW\n",
    "wcoeff = {}\n",
    "for n in ret_ns:\n",
    "    X = df_tv[['drt_tv', f'risk_tv_ret_{n}_n']].values\n",
    "    dsw = DescrStatsW(X, weights=df_tv[f'wgt_risk_tv_ret_{n}_n'].values)\n",
    "    wcoeff[f'drt_tv_vs_risk_tv_ret_{n}_n'] = dsw.corrcoef[0,1]\n",
    "pd.DataFrame(wcoeff, index = ['corr'])"
   ]
  },
  {
   "cell_type": "markdown",
   "id": "3716d229",
   "metadata": {},
   "source": [
    "# Check by name"
   ]
  },
  {
   "cell_type": "code",
   "execution_count": null,
   "id": "0ea734f5",
   "metadata": {},
   "outputs": [],
   "source": [
    "df.query('ticker == \"AGNCM\" and date == \"20210104\"')[['bid','ask','risk_tv']].plot()"
   ]
  },
  {
   "cell_type": "code",
   "execution_count": null,
   "id": "bc69fba9",
   "metadata": {},
   "outputs": [],
   "source": [
    "df.query('ticker == \"AGNCM\"')['bid ask tv'.split() + [c for c in df if 'cywa_10' in c]].head(5000).to_csv('/home/bb/tmp/tmp.csv')"
   ]
  },
  {
   "cell_type": "code",
   "execution_count": null,
   "id": "ffa544dc",
   "metadata": {},
   "outputs": [],
   "source": [
    "df.query('ticker == \"TWO PRC\"')['bid ask tv'.split()].head(5000).plot(alpha = 0.7)"
   ]
  },
  {
   "cell_type": "code",
   "execution_count": null,
   "id": "b7a324de",
   "metadata": {},
   "outputs": [],
   "source": [
    "df.query('ticker == \"BAC PRB\" and \"20210428\" <= date <= \"20210429\"')[['cywa_mkt_s2h']].plot(alpha = 0.7)\n",
    "df.query('ticker == \"BAC PRB\" and \"20210428\" <= date <= \"20210429\"')[['bid','ask','risk_tv']].plot(alpha = 0.7)"
   ]
  },
  {
   "cell_type": "code",
   "execution_count": null,
   "id": "a899ae29",
   "metadata": {},
   "outputs": [],
   "source": [
    "xcols = [c for c in df if 'x_' in c]\n",
    "df[xcols + ['mid_ret_780_n']].corr()"
   ]
  },
  {
   "cell_type": "code",
   "execution_count": null,
   "id": "a9bf0d9b",
   "metadata": {},
   "outputs": [],
   "source": [
    "df[['risk_tv_ret_780_n', 'cywa_10_ret_780_n', 'mid_ret_780_n']].describe()"
   ]
  },
  {
   "cell_type": "code",
   "execution_count": null,
   "id": "350d25eb",
   "metadata": {},
   "outputs": [],
   "source": [
    "xcols = ['intercept', 'auto_short_minus_cx', 'auto_long_minus_short']\n",
    "#xcols = []\n",
    "xcols += ['PFF_cur_diff', 'PFF_short_hl_diff', 'PFF_long_hl_diff']"
   ]
  },
  {
   "cell_type": "code",
   "execution_count": null,
   "id": "f33ee082",
   "metadata": {},
   "outputs": [],
   "source": [
    "df[ycols].describe()"
   ]
  },
  {
   "cell_type": "markdown",
   "id": "15ca4463",
   "metadata": {},
   "source": [
    "# Combine Features"
   ]
  },
  {
   "cell_type": "code",
   "execution_count": null,
   "id": "917c627d",
   "metadata": {},
   "outputs": [],
   "source": [
    "ret_ns"
   ]
  },
  {
   "cell_type": "code",
   "execution_count": null,
   "id": "9279ab70",
   "metadata": {},
   "outputs": [],
   "source": [
    "cywa_hl = 'long'\n",
    "yhz = 2340\n",
    "\n",
    "\n",
    "df['feature_cluster'] = df.eval(f'cluster_{cywa_hl}_avg_xh - (cywa_{cywa_hl}_xh - cywa_mkt_xh)')                                  \n",
    "df['feature_long_dpff'] = df.eval(f'pff_cywa_{cywa_hl}_xh - cywa_{cywa_hl}_xh')\n",
    "df['feature_mkt_dpff'] = df.eval(f'pff_cywa_mkt_xh - cywa_mkt_xh ')\n",
    "df['total_s2'] = df.eval(f'cywa_mkt_s2h + cywa_{cywa_hl}_s2h + cluster_{cywa_hl}_avg_s2 + (1.0 / wgt_cywa_mkt_xh_ret_{yhz}_n)')\n",
    "df['wgt'] = df.eval('1.0 / total_s2')\n",
    "\n",
    "df_fit = df.query('abs(feature_cluster) >= 0.0 * 1.0e-4 or abs(feature_long_dpff - feature_mkt_dpff) >= 0.0 * 1.0e-4').copy()\n",
    "print(f'{df_fit.shape[0]/df.shape[0]}')\n",
    "\n",
    "xcols = [c for c in df if 'feature_' in c]\n",
    "ycols = [f'cywa_mkt_xh_ret_{yhz}_n']\n",
    "#xcols = ['feature_cluster']\n",
    "xcols = [c for c in df_fit if 'feature_' in c]\n",
    "res = lm_fit(df_fit, xcols, ycols, ['wgt'])\n",
    "res"
   ]
  },
  {
   "cell_type": "code",
   "execution_count": null,
   "id": "5df714fb",
   "metadata": {},
   "outputs": [],
   "source": [
    "zz = res.loc['model']"
   ]
  },
  {
   "cell_type": "code",
   "execution_count": null,
   "id": "2784db0b",
   "metadata": {},
   "outputs": [],
   "source": [
    "zz.lr"
   ]
  },
  {
   "cell_type": "code",
   "execution_count": null,
   "id": "b0ce8782",
   "metadata": {},
   "outputs": [],
   "source": [
    "res.to_csv('/home/bb/projects/valkyrie/configs/coeffs_tmp.txt')"
   ]
  },
  {
   "cell_type": "code",
   "execution_count": null,
   "id": "72ac48a9",
   "metadata": {},
   "outputs": [],
   "source": []
  },
  {
   "cell_type": "code",
   "execution_count": null,
   "id": "676d5f91",
   "metadata": {},
   "outputs": [],
   "source": [
    "2+3"
   ]
  },
  {
   "cell_type": "code",
   "execution_count": null,
   "id": "ad9a6db3",
   "metadata": {},
   "outputs": [],
   "source": [
    "df_cy['date'].unique()"
   ]
  },
  {
   "cell_type": "code",
   "execution_count": null,
   "id": "455e4152",
   "metadata": {},
   "outputs": [],
   "source": []
  },
  {
   "cell_type": "code",
   "execution_count": null,
   "id": "58c9759e",
   "metadata": {},
   "outputs": [],
   "source": [
    "df_test = df_cy.query('date == \"20210301\"').copy()"
   ]
  },
  {
   "cell_type": "code",
   "execution_count": null,
   "id": "a04f0129",
   "metadata": {},
   "outputs": [],
   "source": [
    "df_test['edge_abs'] = df_test.eval( '(tv > ask) * (tv - ask) + (bid > tv) * (bid - tv)')"
   ]
  },
  {
   "cell_type": "code",
   "execution_count": null,
   "id": "0a2b0e3c",
   "metadata": {},
   "outputs": [],
   "source": [
    "df_test.query('edge_abs > 0').sort_values('edge_abs', ascending=False)['ticker tv bid \tbz \task \taz edge_abs'.split()]"
   ]
  },
  {
   "cell_type": "code",
   "execution_count": null,
   "id": "21dc6d4a",
   "metadata": {},
   "outputs": [],
   "source": [
    "df_test.query('ticker == \"AGNCM\"')['bid tv ask'.split()].plot()"
   ]
  },
  {
   "cell_type": "code",
   "execution_count": null,
   "id": "ff7528a8",
   "metadata": {},
   "outputs": [],
   "source": []
  }
 ],
 "metadata": {
  "kernelspec": {
   "display_name": "Python 3 (ipykernel)",
   "language": "python",
   "name": "python3"
  },
  "language_info": {
   "codemirror_mode": {
    "name": "ipython",
    "version": 3
   },
   "file_extension": ".py",
   "mimetype": "text/x-python",
   "name": "python",
   "nbconvert_exporter": "python",
   "pygments_lexer": "ipython3",
   "version": "3.9.13"
  }
 },
 "nbformat": 4,
 "nbformat_minor": 5
}
