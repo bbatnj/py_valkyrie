{
 "cells": [
  {
   "cell_type": "code",
   "execution_count": 1,
   "id": "385acdd2",
   "metadata": {},
   "outputs": [
    {
     "name": "stderr",
     "output_type": "stream",
     "text": [
      "/tmp/ipykernel_11070/1899750729.py:8: DeprecationWarning: Importing display from IPython.core.display is deprecated since IPython 7.14, please import from IPython display\n",
      "  from IPython.core.display import display, HTML\n"
     ]
    },
    {
     "data": {
      "text/html": [
       "<style>.container { width:100% !important; }</style>"
      ],
      "text/plain": [
       "<IPython.core.display.HTML object>"
      ]
     },
     "metadata": {},
     "output_type": "display_data"
    }
   ],
   "source": [
    "import pdb\n",
    "\n",
    "import numpy as np\n",
    "import pandas as pd\n",
    "\n",
    "from valkyrie.securities import *\n",
    "\n",
    "from IPython.core.display import display, HTML\n",
    "display(HTML(\"<style>.container { width:100% !important; }</style>\"))\n",
    "%matplotlib notebook\n",
    "pd.set_option('display.max_rows', 500)\n",
    "pd.set_option('display.max_colwidth',100)"
   ]
  },
  {
   "cell_type": "code",
   "execution_count": 2,
   "id": "168248c6",
   "metadata": {},
   "outputs": [],
   "source": [
    "def build_universe_df(url):\n",
    "    from html_table_parser.parser import HTMLTableParser\n",
    "    with open(url, 'r') as f:\n",
    "        xhtml = f.read()\n",
    "    p = HTMLTableParser()\n",
    "    p.feed(xhtml)\n",
    "    table = p.tables[-2]\n",
    "\n",
    "    orig_len = len(table)\n",
    "\n",
    "    table = [r for r in table if len(r) == 12]\n",
    "    new_len = len(table)\n",
    "    print(f'remaing table rows : {new_len}/{orig_len}')\n",
    "\n",
    "    cols = ['SymbolCUSIP', 'des', 'exch', 'IPO', 'cpn', 'LiqPref', 'CallMat', 'rating', 'Tax15', 'Conv', 'Prosp',\n",
    "      'Distribution Dates']\n",
    "    df = pd.DataFrame(table[1:], columns=['orig_' + c for c in cols])\n",
    "    df['symbol'] = df['orig_SymbolCUSIP'].apply(lambda s: substr(s, 0).replace('-', ' PR'))\n",
    "    df['cusip'] = df['orig_SymbolCUSIP'].apply(lambda s: substr(s, 1))\n",
    "    df['des'] = df['orig_des']\n",
    "    df['exch'] = df['orig_exch'].apply(lambda s: substr(s, 0))\n",
    "    df['ipo'] = df['orig_IPO'].apply(str2ts)\n",
    "    for c in ['symbol', 'cusip', 'des', 'exch']:\n",
    "        df[c] = df[c].astype(str)\n",
    "        \n",
    "    df['float'] = df['des'].apply(lambda x : 'FLOAT' in x.upper())\n",
    "    df['parent']= df['symbol'].apply(lambda x : parent(x))\n",
    "    return df[[c for c in df if 'orig' not in c]].set_index('symbol')#df.drop([c for c in df if 'orig_' in c], axis=1).sort_values('symbol').reset_index().drop('index', axis=1)"
   ]
  },
  {
   "cell_type": "code",
   "execution_count": 3,
   "id": "3238a8fb",
   "metadata": {},
   "outputs": [],
   "source": [
    "url ='/home/bb/projects/valkyrie/data/universe/All-Exchange-Traded-Income-Securities_20220112.html'"
   ]
  },
  {
   "cell_type": "code",
   "execution_count": 4,
   "id": "07d50bc2",
   "metadata": {},
   "outputs": [
    {
     "name": "stdout",
     "output_type": "stream",
     "text": [
      "remaing table rows : 1059/1064\n"
     ]
    }
   ],
   "source": [
    "df = build_universe_df(url)"
   ]
  },
  {
   "cell_type": "code",
   "execution_count": 10,
   "id": "06953372",
   "metadata": {},
   "outputs": [
    {
     "data": {
      "text/html": [
       "<div>\n",
       "<style scoped>\n",
       "    .dataframe tbody tr th:only-of-type {\n",
       "        vertical-align: middle;\n",
       "    }\n",
       "\n",
       "    .dataframe tbody tr th {\n",
       "        vertical-align: top;\n",
       "    }\n",
       "\n",
       "    .dataframe thead th {\n",
       "        text-align: right;\n",
       "    }\n",
       "</style>\n",
       "<table border=\"1\" class=\"dataframe\">\n",
       "  <thead>\n",
       "    <tr style=\"text-align: right;\">\n",
       "      <th></th>\n",
       "      <th>cusip</th>\n",
       "      <th>des</th>\n",
       "      <th>exch</th>\n",
       "      <th>ipo</th>\n",
       "      <th>float</th>\n",
       "      <th>parent</th>\n",
       "    </tr>\n",
       "    <tr>\n",
       "      <th>symbol</th>\n",
       "      <th></th>\n",
       "      <th></th>\n",
       "      <th></th>\n",
       "      <th></th>\n",
       "      <th></th>\n",
       "      <th></th>\n",
       "    </tr>\n",
       "  </thead>\n",
       "  <tbody>\n",
       "    <tr>\n",
       "      <th>BAC PRE</th>\n",
       "      <td>060505815</td>\n",
       "      <td>Bank of America, Floating Rate Dep Shares Non-cumul Preferred Stock, Series E</td>\n",
       "      <td>NYSE</td>\n",
       "      <td>2006-11-01</td>\n",
       "      <td>True</td>\n",
       "      <td>BAC</td>\n",
       "    </tr>\n",
       "  </tbody>\n",
       "</table>\n",
       "</div>"
      ],
      "text/plain": [
       "             cusip  \\\n",
       "symbol               \n",
       "BAC PRE  060505815   \n",
       "\n",
       "                                                                                   des  \\\n",
       "symbol                                                                                   \n",
       "BAC PRE  Bank of America, Floating Rate Dep Shares Non-cumul Preferred Stock, Series E   \n",
       "\n",
       "         exch        ipo  float parent  \n",
       "symbol                                  \n",
       "BAC PRE  NYSE 2006-11-01   True    BAC  "
      ]
     },
     "execution_count": 10,
     "metadata": {},
     "output_type": "execute_result"
    }
   ],
   "source": [
    "df.query('parent == \"BAC\" and float')"
   ]
  },
  {
   "cell_type": "code",
   "execution_count": 19,
   "id": "bddfd0d1",
   "metadata": {},
   "outputs": [
    {
     "data": {
      "text/html": [
       "<div>\n",
       "<style scoped>\n",
       "    .dataframe tbody tr th:only-of-type {\n",
       "        vertical-align: middle;\n",
       "    }\n",
       "\n",
       "    .dataframe tbody tr th {\n",
       "        vertical-align: top;\n",
       "    }\n",
       "\n",
       "    .dataframe thead th {\n",
       "        text-align: right;\n",
       "    }\n",
       "</style>\n",
       "<table border=\"1\" class=\"dataframe\">\n",
       "  <thead>\n",
       "    <tr style=\"text-align: right;\">\n",
       "      <th></th>\n",
       "      <th>cusip</th>\n",
       "      <th>des</th>\n",
       "      <th>exch</th>\n",
       "      <th>ipo</th>\n",
       "      <th>float</th>\n",
       "      <th>parent</th>\n",
       "    </tr>\n",
       "    <tr>\n",
       "      <th>symbol</th>\n",
       "      <th></th>\n",
       "      <th></th>\n",
       "      <th></th>\n",
       "      <th></th>\n",
       "      <th></th>\n",
       "      <th></th>\n",
       "    </tr>\n",
       "  </thead>\n",
       "  <tbody>\n",
       "    <tr>\n",
       "      <th>WFC PRD</th>\n",
       "      <td>95002Y400</td>\n",
       "      <td>Wells Fargo Co 4.25% Dep Shares Non-Cumul Perp Cls A Preferred Stock Series DD</td>\n",
       "      <td>NYSE</td>\n",
       "      <td>2021-07-20</td>\n",
       "      <td>False</td>\n",
       "      <td>WFC</td>\n",
       "    </tr>\n",
       "    <tr>\n",
       "      <th>WFC PRC</th>\n",
       "      <td>95002Y202</td>\n",
       "      <td>Wells Fargo Co., 4.375% Dep Shares Non-Cumul Class A Preferred Stock Series CC</td>\n",
       "      <td>NYSE</td>\n",
       "      <td>2021-01-25</td>\n",
       "      <td>False</td>\n",
       "      <td>WFC</td>\n",
       "    </tr>\n",
       "    <tr>\n",
       "      <th>WFC PRA</th>\n",
       "      <td>94988U128</td>\n",
       "      <td>Wells Fargo Co., 4.70% Dep Shares Non-Cumul Class A Preferred Stock Series AA</td>\n",
       "      <td>NYSE</td>\n",
       "      <td>2020-10-21</td>\n",
       "      <td>False</td>\n",
       "      <td>WFC</td>\n",
       "    </tr>\n",
       "    <tr>\n",
       "      <th>WFC PRZ</th>\n",
       "      <td>94988U151</td>\n",
       "      <td>Wells Fargo Co. 4.75% Dep Shares Non-Cumul Perp Cls A Preferred Stock Series Z</td>\n",
       "      <td>NYSE</td>\n",
       "      <td>2020-01-15</td>\n",
       "      <td>False</td>\n",
       "      <td>WFC</td>\n",
       "    </tr>\n",
       "    <tr>\n",
       "      <th>WFC PRY</th>\n",
       "      <td>94988U656</td>\n",
       "      <td>Wells Fargo Co., 5.625% Dep Shares Non-Cumul Class A Preferred Stock Series Y</td>\n",
       "      <td>NYSE</td>\n",
       "      <td>2017-04-17</td>\n",
       "      <td>False</td>\n",
       "      <td>WFC</td>\n",
       "    </tr>\n",
       "    <tr>\n",
       "      <th>WFC PRL</th>\n",
       "      <td>949746804</td>\n",
       "      <td>Wells Fargo Co., 7.50% Non-Cumul Perp Conv Cl A Preferred Stock, Series L</td>\n",
       "      <td>NYSE</td>\n",
       "      <td>2008-04-14</td>\n",
       "      <td>False</td>\n",
       "      <td>WFC</td>\n",
       "    </tr>\n",
       "  </tbody>\n",
       "</table>\n",
       "</div>"
      ],
      "text/plain": [
       "             cusip  \\\n",
       "symbol               \n",
       "WFC PRD  95002Y400   \n",
       "WFC PRC  95002Y202   \n",
       "WFC PRA  94988U128   \n",
       "WFC PRZ  94988U151   \n",
       "WFC PRY  94988U656   \n",
       "WFC PRL  949746804   \n",
       "\n",
       "                                                                                    des  \\\n",
       "symbol                                                                                    \n",
       "WFC PRD  Wells Fargo Co 4.25% Dep Shares Non-Cumul Perp Cls A Preferred Stock Series DD   \n",
       "WFC PRC  Wells Fargo Co., 4.375% Dep Shares Non-Cumul Class A Preferred Stock Series CC   \n",
       "WFC PRA   Wells Fargo Co., 4.70% Dep Shares Non-Cumul Class A Preferred Stock Series AA   \n",
       "WFC PRZ  Wells Fargo Co. 4.75% Dep Shares Non-Cumul Perp Cls A Preferred Stock Series Z   \n",
       "WFC PRY   Wells Fargo Co., 5.625% Dep Shares Non-Cumul Class A Preferred Stock Series Y   \n",
       "WFC PRL       Wells Fargo Co., 7.50% Non-Cumul Perp Conv Cl A Preferred Stock, Series L   \n",
       "\n",
       "         exch        ipo  float parent  \n",
       "symbol                                  \n",
       "WFC PRD  NYSE 2021-07-20  False    WFC  \n",
       "WFC PRC  NYSE 2021-01-25  False    WFC  \n",
       "WFC PRA  NYSE 2020-10-21  False    WFC  \n",
       "WFC PRZ  NYSE 2020-01-15  False    WFC  \n",
       "WFC PRY  NYSE 2017-04-17  False    WFC  \n",
       "WFC PRL  NYSE 2008-04-14  False    WFC  "
      ]
     },
     "execution_count": 19,
     "metadata": {},
     "output_type": "execute_result"
    }
   ],
   "source": [
    "df.query('parent == \"WFC\" and not float')"
   ]
  },
  {
   "cell_type": "code",
   "execution_count": 12,
   "id": "271d9cb3",
   "metadata": {},
   "outputs": [
    {
     "data": {
      "text/html": [
       "<div>\n",
       "<style scoped>\n",
       "    .dataframe tbody tr th:only-of-type {\n",
       "        vertical-align: middle;\n",
       "    }\n",
       "\n",
       "    .dataframe tbody tr th {\n",
       "        vertical-align: top;\n",
       "    }\n",
       "\n",
       "    .dataframe thead th {\n",
       "        text-align: right;\n",
       "    }\n",
       "</style>\n",
       "<table border=\"1\" class=\"dataframe\">\n",
       "  <thead>\n",
       "    <tr style=\"text-align: right;\">\n",
       "      <th></th>\n",
       "      <th>cusip</th>\n",
       "      <th>des</th>\n",
       "      <th>exch</th>\n",
       "      <th>ipo</th>\n",
       "      <th>float</th>\n",
       "      <th>parent</th>\n",
       "    </tr>\n",
       "    <tr>\n",
       "      <th>symbol</th>\n",
       "      <th></th>\n",
       "      <th></th>\n",
       "      <th></th>\n",
       "      <th></th>\n",
       "      <th></th>\n",
       "      <th></th>\n",
       "    </tr>\n",
       "  </thead>\n",
       "  <tbody>\n",
       "    <tr>\n",
       "      <th>MS PRK</th>\n",
       "      <td>61762V606</td>\n",
       "      <td>Morgan Stanley, 5.85% Dep Shares Fixed/Float Non-Cumul Preferred Stock Series K</td>\n",
       "      <td>NYSE</td>\n",
       "      <td>2017-01-24</td>\n",
       "      <td>True</td>\n",
       "      <td>MS</td>\n",
       "    </tr>\n",
       "    <tr>\n",
       "      <th>MS PRI</th>\n",
       "      <td>61761J406</td>\n",
       "      <td>Morgan Stanley, 6.375% Dep Shares Fixed/Float Non-Cumul Preferred Stock Series I</td>\n",
       "      <td>NYSE</td>\n",
       "      <td>2014-09-11</td>\n",
       "      <td>True</td>\n",
       "      <td>MS</td>\n",
       "    </tr>\n",
       "    <tr>\n",
       "      <th>MS PRF</th>\n",
       "      <td>61763E207</td>\n",
       "      <td>Morgan Stanley, 6.875% Dep Shares Fixed/Floating Non-Cumul Preferred Stock Ser F</td>\n",
       "      <td>NYSE</td>\n",
       "      <td>2013-12-05</td>\n",
       "      <td>True</td>\n",
       "      <td>MS</td>\n",
       "    </tr>\n",
       "    <tr>\n",
       "      <th>MS PRE</th>\n",
       "      <td>61762V200</td>\n",
       "      <td>Morgan Stanley, 7.125% Dep Shares Fixed/Floating Non-Cumul Preferred Stock Ser E</td>\n",
       "      <td>NYSE</td>\n",
       "      <td>2013-09-24</td>\n",
       "      <td>True</td>\n",
       "      <td>MS</td>\n",
       "    </tr>\n",
       "    <tr>\n",
       "      <th>MS PRA</th>\n",
       "      <td>61747S504</td>\n",
       "      <td>Morgan Stanley Floating Rate Dep Shares Series A Non-cumul Preferred Stock</td>\n",
       "      <td>NYSE</td>\n",
       "      <td>2006-06-28</td>\n",
       "      <td>True</td>\n",
       "      <td>MS</td>\n",
       "    </tr>\n",
       "  </tbody>\n",
       "</table>\n",
       "</div>"
      ],
      "text/plain": [
       "            cusip  \\\n",
       "symbol              \n",
       "MS PRK  61762V606   \n",
       "MS PRI  61761J406   \n",
       "MS PRF  61763E207   \n",
       "MS PRE  61762V200   \n",
       "MS PRA  61747S504   \n",
       "\n",
       "                                                                                     des  \\\n",
       "symbol                                                                                     \n",
       "MS PRK   Morgan Stanley, 5.85% Dep Shares Fixed/Float Non-Cumul Preferred Stock Series K   \n",
       "MS PRI  Morgan Stanley, 6.375% Dep Shares Fixed/Float Non-Cumul Preferred Stock Series I   \n",
       "MS PRF  Morgan Stanley, 6.875% Dep Shares Fixed/Floating Non-Cumul Preferred Stock Ser F   \n",
       "MS PRE  Morgan Stanley, 7.125% Dep Shares Fixed/Floating Non-Cumul Preferred Stock Ser E   \n",
       "MS PRA        Morgan Stanley Floating Rate Dep Shares Series A Non-cumul Preferred Stock   \n",
       "\n",
       "        exch        ipo  float parent  \n",
       "symbol                                 \n",
       "MS PRK  NYSE 2017-01-24   True     MS  \n",
       "MS PRI  NYSE 2014-09-11   True     MS  \n",
       "MS PRF  NYSE 2013-12-05   True     MS  \n",
       "MS PRE  NYSE 2013-09-24   True     MS  \n",
       "MS PRA  NYSE 2006-06-28   True     MS  "
      ]
     },
     "execution_count": 12,
     "metadata": {},
     "output_type": "execute_result"
    }
   ],
   "source": [
    "df.query('parent == \"MS\" and float')"
   ]
  },
  {
   "cell_type": "code",
   "execution_count": 13,
   "id": "33094bae",
   "metadata": {},
   "outputs": [
    {
     "data": {
      "text/html": [
       "<div>\n",
       "<style scoped>\n",
       "    .dataframe tbody tr th:only-of-type {\n",
       "        vertical-align: middle;\n",
       "    }\n",
       "\n",
       "    .dataframe tbody tr th {\n",
       "        vertical-align: top;\n",
       "    }\n",
       "\n",
       "    .dataframe thead th {\n",
       "        text-align: right;\n",
       "    }\n",
       "</style>\n",
       "<table border=\"1\" class=\"dataframe\">\n",
       "  <thead>\n",
       "    <tr style=\"text-align: right;\">\n",
       "      <th></th>\n",
       "      <th>cusip</th>\n",
       "      <th>des</th>\n",
       "      <th>exch</th>\n",
       "      <th>ipo</th>\n",
       "      <th>float</th>\n",
       "      <th>parent</th>\n",
       "    </tr>\n",
       "    <tr>\n",
       "      <th>symbol</th>\n",
       "      <th></th>\n",
       "      <th></th>\n",
       "      <th></th>\n",
       "      <th></th>\n",
       "      <th></th>\n",
       "      <th></th>\n",
       "    </tr>\n",
       "  </thead>\n",
       "  <tbody>\n",
       "    <tr>\n",
       "      <th>GS PRK</th>\n",
       "      <td>38148B108</td>\n",
       "      <td>Goldman Sachs Group, 6.375% Dep Sh Fixd/Float Non-Cumul Preferred Stock Series K</td>\n",
       "      <td>NYSE</td>\n",
       "      <td>2014-04-21</td>\n",
       "      <td>True</td>\n",
       "      <td>GS</td>\n",
       "    </tr>\n",
       "    <tr>\n",
       "      <th>GS PRJ</th>\n",
       "      <td>38145G308</td>\n",
       "      <td>Goldman Sachs Group, 5.50% Dep Shares Fixd/Float Non-Cumul Preferred Stock Ser J</td>\n",
       "      <td>NYSE</td>\n",
       "      <td>2013-04-17</td>\n",
       "      <td>True</td>\n",
       "      <td>GS</td>\n",
       "    </tr>\n",
       "    <tr>\n",
       "      <th>GS PRD</th>\n",
       "      <td>38144G804</td>\n",
       "      <td>Goldman Sachs Group, Dep Shares Float Rate Non-Cumul Preferred Stock, Series D</td>\n",
       "      <td>NYSE</td>\n",
       "      <td>2006-05-18</td>\n",
       "      <td>True</td>\n",
       "      <td>GS</td>\n",
       "    </tr>\n",
       "    <tr>\n",
       "      <th>GS PRC</th>\n",
       "      <td>38144X609</td>\n",
       "      <td>Goldman Sachs Group, Dep Shares Float Rate Non-cumul Preferred Stock, Series C</td>\n",
       "      <td>NYSE</td>\n",
       "      <td>2005-10-25</td>\n",
       "      <td>True</td>\n",
       "      <td>GS</td>\n",
       "    </tr>\n",
       "    <tr>\n",
       "      <th>GS PRA</th>\n",
       "      <td>38143Y665</td>\n",
       "      <td>Goldman Sachs Group, Dep Shares Float Rate Non-cumul Preferred Stock, Series A</td>\n",
       "      <td>NYSE</td>\n",
       "      <td>2005-04-18</td>\n",
       "      <td>True</td>\n",
       "      <td>GS</td>\n",
       "    </tr>\n",
       "  </tbody>\n",
       "</table>\n",
       "</div>"
      ],
      "text/plain": [
       "            cusip  \\\n",
       "symbol              \n",
       "GS PRK  38148B108   \n",
       "GS PRJ  38145G308   \n",
       "GS PRD  38144G804   \n",
       "GS PRC  38144X609   \n",
       "GS PRA  38143Y665   \n",
       "\n",
       "                                                                                     des  \\\n",
       "symbol                                                                                     \n",
       "GS PRK  Goldman Sachs Group, 6.375% Dep Sh Fixd/Float Non-Cumul Preferred Stock Series K   \n",
       "GS PRJ  Goldman Sachs Group, 5.50% Dep Shares Fixd/Float Non-Cumul Preferred Stock Ser J   \n",
       "GS PRD    Goldman Sachs Group, Dep Shares Float Rate Non-Cumul Preferred Stock, Series D   \n",
       "GS PRC    Goldman Sachs Group, Dep Shares Float Rate Non-cumul Preferred Stock, Series C   \n",
       "GS PRA    Goldman Sachs Group, Dep Shares Float Rate Non-cumul Preferred Stock, Series A   \n",
       "\n",
       "        exch        ipo  float parent  \n",
       "symbol                                 \n",
       "GS PRK  NYSE 2014-04-21   True     GS  \n",
       "GS PRJ  NYSE 2013-04-17   True     GS  \n",
       "GS PRD  NYSE 2006-05-18   True     GS  \n",
       "GS PRC  NYSE 2005-10-25   True     GS  \n",
       "GS PRA  NYSE 2005-04-18   True     GS  "
      ]
     },
     "execution_count": 13,
     "metadata": {},
     "output_type": "execute_result"
    }
   ],
   "source": [
    "df.query('parent == \"GS\" and float')"
   ]
  },
  {
   "cell_type": "code",
   "execution_count": 16,
   "id": "6708b1cb",
   "metadata": {},
   "outputs": [
    {
     "data": {
      "text/plain": [
       "0.046620046620046623"
      ]
     },
     "execution_count": 16,
     "metadata": {},
     "output_type": "execute_result"
    }
   ],
   "source": [
    "0.04 / 21.45*25"
   ]
  },
  {
   "cell_type": "code",
   "execution_count": 15,
   "id": "6cf17bc4",
   "metadata": {},
   "outputs": [
    {
     "data": {
      "text/plain": [
       "0.0585"
      ]
     },
     "execution_count": 15,
     "metadata": {},
     "output_type": "execute_result"
    }
   ],
   "source": [
    "0.0585"
   ]
  },
  {
   "cell_type": "code",
   "execution_count": 17,
   "id": "e78cfc8d",
   "metadata": {},
   "outputs": [
    {
     "data": {
      "text/plain": [
       "5.257298367144977"
      ]
     },
     "execution_count": 17,
     "metadata": {},
     "output_type": "execute_result"
    }
   ],
   "source": [
    "4.25 / 20.21 * 25"
   ]
  },
  {
   "cell_type": "code",
   "execution_count": 18,
   "id": "69c32357",
   "metadata": {},
   "outputs": [
    {
     "data": {
      "text/plain": [
       "4.6360686138154845"
      ]
     },
     "execution_count": 18,
     "metadata": {},
     "output_type": "execute_result"
    }
   ],
   "source": [
    "4.00 / 21.57 * 25"
   ]
  },
  {
   "cell_type": "code",
   "execution_count": 22,
   "id": "7b10f914",
   "metadata": {},
   "outputs": [
    {
     "data": {
      "text/plain": [
       "4.205476744186046"
      ]
     },
     "execution_count": 22,
     "metadata": {},
     "output_type": "execute_result"
    }
   ],
   "source": [
    "(2.86671 + 0.75) / 21.50 * 25"
   ]
  },
  {
   "cell_type": "code",
   "execution_count": 21,
   "id": "4d847d6e",
   "metadata": {},
   "outputs": [
    {
     "data": {
      "text/plain": [
       "7.5"
      ]
     },
     "execution_count": 21,
     "metadata": {},
     "output_type": "execute_result"
    }
   ],
   "source": [
    " 3.64 + 3.86"
   ]
  },
  {
   "cell_type": "code",
   "execution_count": null,
   "id": "55d10b94",
   "metadata": {},
   "outputs": [],
   "source": []
  }
 ],
 "metadata": {
  "kernelspec": {
   "display_name": "valkyrie_venv",
   "language": "python",
   "name": "valkyrie_venv"
  },
  "language_info": {
   "codemirror_mode": {
    "name": "ipython",
    "version": 3
   },
   "file_extension": ".py",
   "mimetype": "text/x-python",
   "name": "python",
   "nbconvert_exporter": "python",
   "pygments_lexer": "ipython3",
   "version": "3.9.7"
  }
 },
 "nbformat": 4,
 "nbformat_minor": 5
}
