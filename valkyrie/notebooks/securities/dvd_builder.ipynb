{
 "cells": [
  {
   "cell_type": "code",
   "execution_count": 17,
   "id": "9064060a",
   "metadata": {},
   "outputs": [
    {
     "data": {
      "text/html": [
       "<style>.container { width:100% !important; }</style>"
      ],
      "text/plain": [
       "<IPython.core.display.HTML object>"
      ]
     },
     "metadata": {},
     "output_type": "display_data"
    }
   ],
   "source": [
    "import pandas as pd\n",
    "import numpy as np\n",
    "from IPython.core.display import display, HTML\n",
    "display(HTML(\"<style>.container { width:100% !important; }</style>\"))\n",
    "%matplotlib notebook\n",
    "import os\n",
    "from valkyrie.securities import *\n",
    "from valkyrie.securities import gen_dvd_files\n"
   ]
  },
  {
   "cell_type": "code",
   "execution_count": 2,
   "id": "fe46e15e",
   "metadata": {},
   "outputs": [],
   "source": [
    "stocks = stocks_good_dvd()"
   ]
  },
  {
   "cell_type": "code",
   "execution_count": 3,
   "id": "0450221f",
   "metadata": {},
   "outputs": [],
   "source": [
    "stocks = ['PFF']"
   ]
  },
  {
   "cell_type": "code",
   "execution_count": 4,
   "id": "2d558629",
   "metadata": {},
   "outputs": [
    {
     "name": "stdout",
     "output_type": "stream",
     "text": [
      "generating dvd for PFF\n",
      "error for PFF due to PFF dvd amount changed PFF dvd date error\n"
     ]
    }
   ],
   "source": [
    "gen_dvd_files(stocks, outpath = 'd:/valkyrie/data/universe/dvd/research_20220205')"
   ]
  },
  {
   "cell_type": "code",
   "execution_count": 7,
   "id": "7e174e9e",
   "metadata": {},
   "outputs": [],
   "source": [
    "MONTHLY_DVD_STOCKS = {'PFF'}\n",
    "stock = 'PFF'\n",
    "dvd_freq = 'M' if stock in MONTHLY_DVD_STOCKS else 'Q'"
   ]
  },
  {
   "cell_type": "code",
   "execution_count": 8,
   "id": "82a08126",
   "metadata": {},
   "outputs": [
    {
     "data": {
      "text/plain": [
       "'M'"
      ]
     },
     "execution_count": 8,
     "metadata": {},
     "output_type": "execute_result"
    }
   ],
   "source": [
    "dvd_freq"
   ]
  },
  {
   "cell_type": "code",
   "execution_count": 97,
   "id": "d089bf13",
   "metadata": {},
   "outputs": [],
   "source": [
    "fn = 'd:/valkyrie/data/resampled/hist_ib_raw_md/good_dvd/2021/02/01/PFF.h5'\n",
    "#fn = 'd:/valkyrie/data/raw/hist_ib/bid_ask/2020/12/15/PFF.h5'"
   ]
  },
  {
   "cell_type": "code",
   "execution_count": 98,
   "id": "4cccb0ab",
   "metadata": {},
   "outputs": [],
   "source": [
    "df = pd.read_hdf(fn)"
   ]
  },
  {
   "cell_type": "code",
   "execution_count": 99,
   "id": "f419efb6",
   "metadata": {},
   "outputs": [
    {
     "data": {
      "text/html": [
       "<div>\n",
       "<style scoped>\n",
       "    .dataframe tbody tr th:only-of-type {\n",
       "        vertical-align: middle;\n",
       "    }\n",
       "\n",
       "    .dataframe tbody tr th {\n",
       "        vertical-align: top;\n",
       "    }\n",
       "\n",
       "    .dataframe thead th {\n",
       "        text-align: right;\n",
       "    }\n",
       "</style>\n",
       "<table border=\"1\" class=\"dataframe\">\n",
       "  <thead>\n",
       "    <tr style=\"text-align: right;\">\n",
       "      <th></th>\n",
       "      <th>bid</th>\n",
       "      <th>ask</th>\n",
       "      <th>bz</th>\n",
       "      <th>az</th>\n",
       "      <th>ticker</th>\n",
       "      <th>spread</th>\n",
       "      <th>ymd</th>\n",
       "      <th>exDate</th>\n",
       "      <th>amount</th>\n",
       "      <th>dExDate</th>\n",
       "      <th>accrued</th>\n",
       "      <th>upx</th>\n",
       "      <th>cy_upx</th>\n",
       "      <th>cy_bid</th>\n",
       "      <th>cy_ask</th>\n",
       "    </tr>\n",
       "    <tr>\n",
       "      <th>time</th>\n",
       "      <th></th>\n",
       "      <th></th>\n",
       "      <th></th>\n",
       "      <th></th>\n",
       "      <th></th>\n",
       "      <th></th>\n",
       "      <th></th>\n",
       "      <th></th>\n",
       "      <th></th>\n",
       "      <th></th>\n",
       "      <th></th>\n",
       "      <th></th>\n",
       "      <th></th>\n",
       "      <th></th>\n",
       "      <th></th>\n",
       "    </tr>\n",
       "  </thead>\n",
       "  <tbody>\n",
       "    <tr>\n",
       "      <th>2021-02-01 09:30:00-05:00</th>\n",
       "      <td>37.75</td>\n",
       "      <td>37.78</td>\n",
       "      <td>100.0</td>\n",
       "      <td>100.0</td>\n",
       "      <td>PFF</td>\n",
       "      <td>0.03</td>\n",
       "      <td>20210201</td>\n",
       "      <td>2021-02-01</td>\n",
       "      <td>0.15</td>\n",
       "      <td>0</td>\n",
       "      <td>0.0</td>\n",
       "      <td>37.765000</td>\n",
       "      <td>0.047663</td>\n",
       "      <td>0.047682</td>\n",
       "      <td>0.047644</td>\n",
       "    </tr>\n",
       "    <tr>\n",
       "      <th>2021-02-01 09:30:30-05:00</th>\n",
       "      <td>37.76</td>\n",
       "      <td>37.77</td>\n",
       "      <td>300.0</td>\n",
       "      <td>5100.0</td>\n",
       "      <td>PFF</td>\n",
       "      <td>0.01</td>\n",
       "      <td>20210201</td>\n",
       "      <td>2021-02-01</td>\n",
       "      <td>0.15</td>\n",
       "      <td>0</td>\n",
       "      <td>0.0</td>\n",
       "      <td>37.760556</td>\n",
       "      <td>0.047669</td>\n",
       "      <td>0.047669</td>\n",
       "      <td>0.047657</td>\n",
       "    </tr>\n",
       "    <tr>\n",
       "      <th>2021-02-01 09:31:00-05:00</th>\n",
       "      <td>37.76</td>\n",
       "      <td>37.77</td>\n",
       "      <td>300.0</td>\n",
       "      <td>5100.0</td>\n",
       "      <td>PFF</td>\n",
       "      <td>0.01</td>\n",
       "      <td>20210201</td>\n",
       "      <td>2021-02-01</td>\n",
       "      <td>0.15</td>\n",
       "      <td>0</td>\n",
       "      <td>0.0</td>\n",
       "      <td>37.760556</td>\n",
       "      <td>0.047669</td>\n",
       "      <td>0.047669</td>\n",
       "      <td>0.047657</td>\n",
       "    </tr>\n",
       "    <tr>\n",
       "      <th>2021-02-01 09:31:30-05:00</th>\n",
       "      <td>37.77</td>\n",
       "      <td>37.78</td>\n",
       "      <td>600.0</td>\n",
       "      <td>2500.0</td>\n",
       "      <td>PFF</td>\n",
       "      <td>0.01</td>\n",
       "      <td>20210201</td>\n",
       "      <td>2021-02-01</td>\n",
       "      <td>0.15</td>\n",
       "      <td>0</td>\n",
       "      <td>0.0</td>\n",
       "      <td>37.771935</td>\n",
       "      <td>0.047654</td>\n",
       "      <td>0.047657</td>\n",
       "      <td>0.047644</td>\n",
       "    </tr>\n",
       "    <tr>\n",
       "      <th>2021-02-01 09:32:00-05:00</th>\n",
       "      <td>37.77</td>\n",
       "      <td>37.78</td>\n",
       "      <td>4800.0</td>\n",
       "      <td>1700.0</td>\n",
       "      <td>PFF</td>\n",
       "      <td>0.01</td>\n",
       "      <td>20210201</td>\n",
       "      <td>2021-02-01</td>\n",
       "      <td>0.15</td>\n",
       "      <td>0</td>\n",
       "      <td>0.0</td>\n",
       "      <td>37.777385</td>\n",
       "      <td>0.047648</td>\n",
       "      <td>0.047657</td>\n",
       "      <td>0.047644</td>\n",
       "    </tr>\n",
       "  </tbody>\n",
       "</table>\n",
       "</div>"
      ],
      "text/plain": [
       "                             bid    ask      bz      az ticker  spread  \\\n",
       "time                                                                     \n",
       "2021-02-01 09:30:00-05:00  37.75  37.78   100.0   100.0    PFF    0.03   \n",
       "2021-02-01 09:30:30-05:00  37.76  37.77   300.0  5100.0    PFF    0.01   \n",
       "2021-02-01 09:31:00-05:00  37.76  37.77   300.0  5100.0    PFF    0.01   \n",
       "2021-02-01 09:31:30-05:00  37.77  37.78   600.0  2500.0    PFF    0.01   \n",
       "2021-02-01 09:32:00-05:00  37.77  37.78  4800.0  1700.0    PFF    0.01   \n",
       "\n",
       "                                ymd      exDate  amount  dExDate  accrued  \\\n",
       "time                                                                        \n",
       "2021-02-01 09:30:00-05:00  20210201  2021-02-01    0.15        0      0.0   \n",
       "2021-02-01 09:30:30-05:00  20210201  2021-02-01    0.15        0      0.0   \n",
       "2021-02-01 09:31:00-05:00  20210201  2021-02-01    0.15        0      0.0   \n",
       "2021-02-01 09:31:30-05:00  20210201  2021-02-01    0.15        0      0.0   \n",
       "2021-02-01 09:32:00-05:00  20210201  2021-02-01    0.15        0      0.0   \n",
       "\n",
       "                                 upx    cy_upx    cy_bid    cy_ask  \n",
       "time                                                                \n",
       "2021-02-01 09:30:00-05:00  37.765000  0.047663  0.047682  0.047644  \n",
       "2021-02-01 09:30:30-05:00  37.760556  0.047669  0.047669  0.047657  \n",
       "2021-02-01 09:31:00-05:00  37.760556  0.047669  0.047669  0.047657  \n",
       "2021-02-01 09:31:30-05:00  37.771935  0.047654  0.047657  0.047644  \n",
       "2021-02-01 09:32:00-05:00  37.777385  0.047648  0.047657  0.047644  "
      ]
     },
     "execution_count": 99,
     "metadata": {},
     "output_type": "execute_result"
    }
   ],
   "source": [
    "df.head()"
   ]
  },
  {
   "cell_type": "code",
   "execution_count": null,
   "id": "520376e8",
   "metadata": {},
   "outputs": [],
   "source": []
  }
 ],
 "metadata": {
  "kernelspec": {
   "display_name": "Python 3 (ipykernel)",
   "language": "python",
   "name": "python3"
  },
  "language_info": {
   "codemirror_mode": {
    "name": "ipython",
    "version": 3
   },
   "file_extension": ".py",
   "mimetype": "text/x-python",
   "name": "python",
   "nbconvert_exporter": "python",
   "pygments_lexer": "ipython3",
   "version": "3.9.7"
  }
 },
 "nbformat": 4,
 "nbformat_minor": 5
}
