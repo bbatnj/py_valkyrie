{
 "cells": [
  {
   "cell_type": "code",
   "execution_count": 4,
   "id": "67c56d37",
   "metadata": {},
   "outputs": [
    {
     "name": "stderr",
     "output_type": "stream",
     "text": [
      "/media/veracrypt1/python/valkyrie/apps/run_notebook_import.py:11: DeprecationWarning: Importing display from IPython.core.display is deprecated since IPython 7.14, please import from IPython display\n",
      "  from IPython.core.display import display, HTML\n"
     ]
    },
    {
     "data": {
      "text/html": [
       "<style>.container { width:100% !important; }</style>"
      ],
      "text/plain": [
       "<IPython.core.display.HTML object>"
      ]
     },
     "metadata": {},
     "output_type": "display_data"
    },
    {
     "ename": "IndentationError",
     "evalue": "expected an indented block after 'if' statement on line 107 (linear_model.py, line 109)",
     "output_type": "error",
     "traceback": [
      "\u001b[0;36m  File \u001b[0;32m/media/veracrypt1/python/valkyrie/lib/valkyrie/quants/linear_model.py:109\u001b[0;36m\u001b[0m\n\u001b[0;31m    x_coef = lm.coef_.reshape(-1)\u001b[0m\n\u001b[0m    ^\u001b[0m\n\u001b[0;31mIndentationError\u001b[0m\u001b[0;31m:\u001b[0m expected an indented block after 'if' statement on line 107\n"
     ]
    }
   ],
   "source": [
    "%run /home/bb/src/python/valkyrie/apps/run_notebook_import.py"
   ]
  },
  {
   "cell_type": "code",
   "execution_count": null,
   "id": "492cf17b",
   "metadata": {},
   "outputs": [],
   "source": [
    "import requests\n",
    "import time\n",
    "\n",
    "servers = [\n",
    "    \"https://usegalaxy.org\",\n",
    "    \"https://usegalaxy.org.au\",\n",
    "    \"https://usegalaxy.eu\",\n",
    "    \"https://usegalaxy.fr\",\n",
    "    \"https://usegalaxy.be\",\n",
    "]\n",
    "\n",
    "data = {}\n",
    "start = time.time()\n",
    "for url in servers:\n",
    "    print(url)\n",
    "    try:\n",
    "        response = requests.get(url + \"/api/version\", timeout=2).json()\n",
    "        data[url] = response['version_major']\n",
    "    except requests.exceptions.ConnectTimeout:\n",
    "        data[url] = None\n",
    "    except requests.exceptions.ReadTimeout:\n",
    "        data[url] = None\n",
    "\n",
    "\n",
    "# How long did it take to execute\n",
    "print(time.time() - start)\n",
    "\n",
    "for k, v in data.items():\n",
    "    print(k, v)\n"
   ]
  },
  {
   "cell_type": "code",
   "execution_count": null,
   "id": "5ea91956",
   "metadata": {},
   "outputs": [],
   "source": [
    "def fetch_version(server_url):\n",
    "    try:\n",
    "        response = requests.get(url + \"/api/version\", timeout=2).json()\n",
    "        return response['version_major']\n",
    "    except requests.exceptions.ConnectTimeout:\n",
    "        return None\n",
    "    except requests.exceptions.ReadTimeout:\n",
    "        return None\n"
   ]
  },
  {
   "cell_type": "code",
   "execution_count": null,
   "id": "2d2fc7f8",
   "metadata": {},
   "outputs": [],
   "source": [
    "from multiprocessing import Pool\n",
    "\n",
    "start = time.time()\n",
    "with Pool(4) as p:\n",
    "    versions = p.map(fetch_version, servers)\n",
    "    data = dict(zip(servers, versions))\n",
    "print(time.time() - start)\n",
    "\n",
    "for k, v in data.items():\n",
    "    print(k, v)\n"
   ]
  },
  {
   "cell_type": "code",
   "execution_count": 2,
   "id": "e557cc45",
   "metadata": {},
   "outputs": [],
   "source": [
    "import numpy"
   ]
  },
  {
   "cell_type": "code",
   "execution_count": 3,
   "id": "886532f6",
   "metadata": {},
   "outputs": [
    {
     "data": {
      "text/plain": [
       "7.38905609893065"
      ]
     },
     "execution_count": 3,
     "metadata": {},
     "output_type": "execute_result"
    }
   ],
   "source": [
    "numpy.exp(2)"
   ]
  },
  {
   "cell_type": "code",
   "execution_count": null,
   "id": "aa1685a3",
   "metadata": {},
   "outputs": [],
   "source": []
  }
 ],
 "metadata": {
  "kernelspec": {
   "display_name": "Python 3 (ipykernel)",
   "language": "python",
   "name": "python3"
  },
  "language_info": {
   "codemirror_mode": {
    "name": "ipython",
    "version": 3
   },
   "file_extension": ".py",
   "mimetype": "text/x-python",
   "name": "python",
   "nbconvert_exporter": "python",
   "pygments_lexer": "ipython3",
   "version": "3.11.5"
  }
 },
 "nbformat": 4,
 "nbformat_minor": 5
}
