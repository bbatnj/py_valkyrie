{
 "cells": [
  {
   "cell_type": "code",
   "execution_count": null,
   "id": "94090416",
   "metadata": {},
   "outputs": [],
   "source": [
    "%run D:\\valkyrie_shared\\python\\lib\\valkyrie\\run_notebook_import.py"
   ]
  },
  {
   "cell_type": "code",
   "execution_count": null,
   "id": "b435210d",
   "metadata": {},
   "outputs": [],
   "source": [
    "instrs = stocks_good_dvd()\n",
    "#instrs = ['AGNCM']\n",
    "feature_mgr = FeatureMgr('20210101', '20210630', instrs + ['PFF'], 'sampled_for_ml_ii')\n",
    "sampled_freq_s = 300\n",
    "n_sample_per_day = TRADING_SEC_PER_DAY / sampled_freq_s\n",
    "ret_ns = [round(i * n_sample_per_day) for i in [1] ]\n",
    "\n",
    "ret_col, s2_col = 'risk_tv', 'cywa_mkt_s2h'\n",
    "df_tv = feature_mgr.calc_rets_('log', ret_col, ret_ns, s2_col, wmul = 1e-7)\n",
    "df_tv['parent'] = df_tv['ticker'].apply(parent)\n",
    "\n",
    "ret_col, s2_col = 'cywa_mkt_xh', 'cywa_mkt_s2h'\n",
    "df_cy = feature_mgr.calc_rets_('log', ret_col, ret_ns, s2_col, wmul = 1e-7)\n",
    "df_cy['parent'] = df_cy['ticker'].apply(parent)\n",
    "gc.collect()"
   ]
  },
  {
   "cell_type": "code",
   "execution_count": null,
   "id": "147f7724",
   "metadata": {},
   "outputs": [],
   "source": [
    "ret_ns"
   ]
  },
  {
   "cell_type": "code",
   "execution_count": null,
   "id": "b6a7562c",
   "metadata": {},
   "outputs": [],
   "source": [
    "ins_nbs2 = []\n",
    "for stk in instrs:\n",
    "    ins_nbs2.append(ml_data.InsNB(stk,   ['PFF']))"
   ]
  },
  {
   "cell_type": "markdown",
   "id": "3f8161a7",
   "metadata": {},
   "source": [
    "# Test Net"
   ]
  },
  {
   "cell_type": "code",
   "execution_count": null,
   "id": "c438dc9e",
   "metadata": {},
   "outputs": [],
   "source": [
    "xcols = ['cywa_mkt_xh']\n",
    "ycol = 'risk_tv_ret_78_n'\n",
    "wcol = 'wgt_cywa_mkt_xh_ret_78_n'"
   ]
  },
  {
   "cell_type": "code",
   "execution_count": null,
   "id": "584be67f",
   "metadata": {},
   "outputs": [],
   "source": [
    "T = 1\n",
    "mrf = ml_data.MultiRecField(feature_mgr.stk2df, ins_nbs2, xcols, ycol, wcol, T)\n",
    "dm = ml_data.DataModule.from_dataset(mrf, None, 1024)"
   ]
  },
  {
   "cell_type": "code",
   "execution_count": null,
   "id": "887d6f74",
   "metadata": {},
   "outputs": [],
   "source": [
    "class AvgNetII(ml_modules.Regressor):\n",
    "  def __init__(self, lr):\n",
    "    print(\"LeNet Init\")\n",
    "    super().__init__('l1')\n",
    "    self.save_hyperparameters()\n",
    "    self.net = nn.Sequential(\n",
    "      nn.Flatten(),\n",
    "      nn.Linear(2,1, bias=False)\n",
    "      )"
   ]
  },
  {
   "cell_type": "code",
   "execution_count": null,
   "id": "9146bcfd",
   "metadata": {},
   "outputs": [],
   "source": [
    "net = AvgNetII(lr = 1e-2)\n",
    "X = mrf[0][0]\n",
    "ml_utils.layer_summary(net, X.shape)\n",
    "ml_utils.parameter_summary(net)"
   ]
  },
  {
   "cell_type": "code",
   "execution_count": null,
   "id": "97f00020",
   "metadata": {},
   "outputs": [],
   "source": [
    "len(mrf)"
   ]
  },
  {
   "cell_type": "code",
   "execution_count": null,
   "id": "1f2309d3",
   "metadata": {},
   "outputs": [],
   "source": [
    "net.apply_init([next(iter(dm.get_dataloader(True)))[0]], ml_utils.init_cnn)"
   ]
  },
  {
   "cell_type": "code",
   "execution_count": null,
   "id": "8e146a0b",
   "metadata": {},
   "outputs": [],
   "source": [
    "trainer = ml_modules.Trainer(max_epochs=80, num_gpus=1)\n",
    "with Timer('training'):\n",
    "    trainer.fit(net, dm)"
   ]
  },
  {
   "cell_type": "code",
   "execution_count": null,
   "id": "aeb00d57",
   "metadata": {},
   "outputs": [],
   "source": [
    "r2, abs_loss, abs_zr_loss, X, Xnet, Y, W, lr = mrf_linear_fit(mrf)"
   ]
  },
  {
   "cell_type": "code",
   "execution_count": null,
   "id": "788c7569",
   "metadata": {},
   "outputs": [],
   "source": [
    "trainer.loss_total"
   ]
  },
  {
   "cell_type": "code",
   "execution_count": null,
   "id": "8929ac55",
   "metadata": {},
   "outputs": [],
   "source": [
    "def calc_net_loss(net, X,Y,W):\n",
    "    X = torch.tensor(X, dtype=torch.float32).unsqueeze(-1)\n",
    "\n",
    "    YW[:,0] = net(X.to(ml_utils.gpu())).view(-1)\n",
    "\n",
    "    YW = torch.empty(Y.shape[0],2, dtype=torch.float32).to(ml_utils.gpu())\n",
    "\n",
    "    YW[:,1] = torch.tensor(W)\n"
   ]
  },
  {
   "cell_type": "code",
   "execution_count": null,
   "id": "fc1fa43e",
   "metadata": {},
   "outputs": [],
   "source": [
    "X.shape"
   ]
  },
  {
   "cell_type": "code",
   "execution_count": null,
   "id": "f1429fb0",
   "metadata": {},
   "outputs": [],
   "source": [
    "trainer.loss_total"
   ]
  },
  {
   "cell_type": "code",
   "execution_count": null,
   "id": "05c59299",
   "metadata": {},
   "outputs": [],
   "source": [
    "r2, abs_loss, abs_zr_loss, X, Y, W, lr = mrf_linear_fit(mrf)"
   ]
  },
  {
   "cell_type": "code",
   "execution_count": null,
   "id": "2c63c1f5",
   "metadata": {},
   "outputs": [],
   "source": [
    "mrf[0][0].shape"
   ]
  },
  {
   "cell_type": "code",
   "execution_count": null,
   "id": "de903bdd",
   "metadata": {},
   "outputs": [],
   "source": [
    "Xx = torch.tensor(X.reshape(-1,2,1), dtype=torch.float32)"
   ]
  },
  {
   "cell_type": "code",
   "execution_count": null,
   "id": "08ae8aa6",
   "metadata": {},
   "outputs": [],
   "source": [
    "Xx.to(ml_utils.gpu())"
   ]
  },
  {
   "cell_type": "code",
   "execution_count": null,
   "id": "16958ecc",
   "metadata": {},
   "outputs": [],
   "source": [
    "YW = torch.empty(Y.shape[0],2, dtype=torch.float32).to(ml_utils.gpu())\n",
    "YW[:,0] = net(Xx.to(ml_utils.gpu())).view(-1)\n",
    "YW[:,1] = torch.tensor(W)"
   ]
  },
  {
   "cell_type": "code",
   "execution_count": null,
   "id": "4f92ae30",
   "metadata": {},
   "outputs": [],
   "source": [
    "net(Xx.to(ml_utils.gpu())).shape"
   ]
  },
  {
   "cell_type": "code",
   "execution_count": null,
   "id": "c14cf780",
   "metadata": {},
   "outputs": [],
   "source": [
    "def eval_init_loss(net, dm):\n",
    "    init_loss, loss = 0.0, 0.0\n",
    "    dl = dm.get_dataloader(True)\n",
    "    for i, batch in enumerate(dl):\n",
    "        X, YW = batch[0], batch[-1]                \n",
    "        ZEROS = torch.zeros(YW.shape[0])\n",
    "        with torch.no_grad():\n",
    "            init_loss += net.loss(ZEROS, YW)    \n",
    "            Y_hat = net(X.to(ml_utils.gpu()))\n",
    "            loss += net.loss(Y_hat, YW.to(ml_utils.gpu()))\n",
    "            #Y_hat = lr.predict(X.view(-1, 6)) #net(X.to(ml_utils.gpu())).to(ml_utils.cpu())\n",
    "            #Y_hat = torch.tensor(Y_hat)\n",
    "            #Y_hat = YW[:,0]\n",
    "            #loss += net.loss(Y_hat, YW)            \n",
    "            \n",
    "    return init_loss, loss"
   ]
  },
  {
   "cell_type": "code",
   "execution_count": null,
   "id": "508c571a",
   "metadata": {},
   "outputs": [],
   "source": [
    "[k for k in net.net[1].named_parameters()]"
   ]
  },
  {
   "cell_type": "code",
   "execution_count": null,
   "id": "1ee1db94",
   "metadata": {},
   "outputs": [],
   "source": [
    "eval_init_loss(net, dm)"
   ]
  },
  {
   "cell_type": "code",
   "execution_count": null,
   "id": "03c25456",
   "metadata": {},
   "outputs": [],
   "source": [
    "Y_hat = lr.predict(X)"
   ]
  },
  {
   "cell_type": "code",
   "execution_count": null,
   "id": "d713658e",
   "metadata": {},
   "outputs": [],
   "source": [
    "YW = torch.empty(Y.shape[0],2)\n",
    "YW[:,0] = torch.tensor(Y)\n",
    "YW[:,1] = torch.tensor(W)\n",
    "Z = torch.zeros(Y.shape[0])\n",
    "\n",
    "y_hat = Y_hat\n",
    "Y_hat = torch.tensor(y_hat)"
   ]
  },
  {
   "cell_type": "code",
   "execution_count": null,
   "id": "21086d5c",
   "metadata": {},
   "outputs": [],
   "source": [
    "Y_hatN = net(torch.tensor(X, dtype=torch.float32).to(ml_utils.gpu()))"
   ]
  },
  {
   "cell_type": "code",
   "execution_count": null,
   "id": "0144238d",
   "metadata": {},
   "outputs": [],
   "source": [
    "net.loss(Y_hatN, YW.to(ml_utils.gpu()))"
   ]
  },
  {
   "cell_type": "code",
   "execution_count": null,
   "id": "051f01df",
   "metadata": {},
   "outputs": [],
   "source": [
    "Y"
   ]
  },
  {
   "cell_type": "code",
   "execution_count": null,
   "id": "25e40a7c",
   "metadata": {},
   "outputs": [],
   "source": [
    "Y_hatN"
   ]
  },
  {
   "cell_type": "code",
   "execution_count": null,
   "id": "54fc3c49",
   "metadata": {},
   "outputs": [],
   "source": [
    "W"
   ]
  },
  {
   "cell_type": "code",
   "execution_count": null,
   "id": "feb68d0f",
   "metadata": {},
   "outputs": [],
   "source": [
    "torch.sum(torch.abs(Y_hatN.view(-1)-torch.tensor(Y).to(ml_utils.gpu())) * torch.tensor(W).to(ml_utils.gpu()))"
   ]
  },
  {
   "cell_type": "code",
   "execution_count": null,
   "id": "8a292e7e",
   "metadata": {},
   "outputs": [],
   "source": [
    "y_hatn = Y_hatN.detach().cpu().numpy().reshape(-1)"
   ]
  },
  {
   "cell_type": "code",
   "execution_count": null,
   "id": "e92facb0",
   "metadata": {},
   "outputs": [],
   "source": [
    "dfxx = pd.DataFrame({'y_hatn' : y_hatn, 'y_hat':y_hat, 'w':W})"
   ]
  },
  {
   "cell_type": "code",
   "execution_count": null,
   "id": "094086f9",
   "metadata": {},
   "outputs": [],
   "source": [
    "dfxx.describe()"
   ]
  },
  {
   "cell_type": "code",
   "execution_count": null,
   "id": "a8b5a186",
   "metadata": {},
   "outputs": [],
   "source": [
    "net.loss(Y_hatN, YW)"
   ]
  },
  {
   "cell_type": "code",
   "execution_count": null,
   "id": "029c6915",
   "metadata": {},
   "outputs": [],
   "source": [
    "Y_hat.shape"
   ]
  },
  {
   "cell_type": "code",
   "execution_count": null,
   "id": "07e0c05e",
   "metadata": {},
   "outputs": [],
   "source": [
    "Y_hatN.shape"
   ]
  },
  {
   "cell_type": "code",
   "execution_count": null,
   "id": "f00a0e0e",
   "metadata": {},
   "outputs": [],
   "source": []
  }
 ],
 "metadata": {
  "kernelspec": {
   "display_name": "Python 3 (ipykernel)",
   "language": "python",
   "name": "python3"
  },
  "language_info": {
   "codemirror_mode": {
    "name": "ipython",
    "version": 3
   },
   "file_extension": ".py",
   "mimetype": "text/x-python",
   "name": "python",
   "nbconvert_exporter": "python",
   "pygments_lexer": "ipython3",
   "version": "3.11.5"
  }
 },
 "nbformat": 4,
 "nbformat_minor": 5
}
