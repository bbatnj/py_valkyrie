{
 "cells": [
  {
   "cell_type": "code",
   "execution_count": null,
   "id": "d512a9b0",
   "metadata": {
    "pycharm": {
     "name": "#%%\n"
    }
   },
   "outputs": [],
   "source": [
    "%run D:\\valkyrie_shared\\python\\lib\\valkyrie\\run_notebook_import.py"
   ]
  },
  {
   "cell_type": "code",
   "execution_count": null,
   "id": "1aa5e05d",
   "metadata": {
    "pycharm": {
     "name": "#%%\n"
    }
   },
   "outputs": [],
   "source": [
    "#feature_mgr = FeatureMgr('20210101', '20210630', ['AGNCM', 'BAC PRN', 'WFC PRZ'] , 'eve_features3_2x0_quoter_cooldown_600')\n",
    "feature_mgr = FeatureMgr('20210101', '20210630', stocks_good_dvd() , 'eve_features3_2x0_quoter_cooldown_600')\n",
    "ret_ns = [int(1 * 2 * 60 * 6.5), int(3 * 2 * 60 * 6.5), int(5 * 2 * 60 * 6.5), int(10 * 2 * 60 * 6.5)]\n",
    "\n",
    "ret_col, s2_col = 'risk_tv', 'cywa_mkt_s2h'\n",
    "df_tv = feature_mgr.calc_rets('log', ret_col, ret_ns, s2_col)\n",
    "df_tv['parent'] = df_tv['ticker'].apply(parent)\n",
    "\n",
    "ret_col, s2_col = 'cywa_mkt_xh', 'cywa_mkt_s2h'\n",
    "df_cy = feature_mgr.calc_rets('log', ret_col, ret_ns, s2_col)\n",
    "df_cy['parent'] = df_cy['ticker'].apply(parent)\n",
    "gc.collect()"
   ]
  },
  {
   "cell_type": "code",
   "execution_count": null,
   "id": "ee9f11bd",
   "metadata": {
    "pycharm": {
     "name": "#%%\n"
    }
   },
   "outputs": [],
   "source": [
    "\n",
    "ins_nbs = []\n",
    "ins_nbs.append(ml_data.InsNB('AGNCM',   ['BAC PRN', 'WFC PRZ']))\n",
    "ins_nbs.append(ml_data.InsNB('BAC PRN', ['AGNCM', 'WFC PRZ']))\n",
    "ins_nbs.append(ml_data.InsNB('WFC PRZ', ['AGNCM', 'BAC PRN']))\n",
    "xcols = ['cywa_short_xh', 'cywa_long_xh']\n",
    "ycol = 'cywa_mkt_xh_ret_780_n'\n",
    "wcol = 'wgt_cywa_mkt_xh_ret_780_n'"
   ]
  },
  {
   "cell_type": "code",
   "execution_count": null,
   "id": "7271d2e5",
   "metadata": {
    "pycharm": {
     "name": "#%%\n"
    }
   },
   "outputs": [],
   "source": [
    "T = 4\n",
    "i2df = feature_mgr.stk2df\n",
    "mrf = ml_data.MultiRecField(i2df, ins_nbs, xcols, ycol, wcol, T)"
   ]
  },
  {
   "cell_type": "code",
   "execution_count": null,
   "id": "dd5710d8",
   "metadata": {
    "pycharm": {
     "name": "#%%\n"
    }
   },
   "outputs": [],
   "source": [
    "tn = mrf.n_samples_per_ins\n",
    "i = 41116 + tn * 2\n",
    "z = mrf[i][0]\n",
    "### verify below manually\n",
    "#z\n",
    "#j = i % tn\n",
    "#pd.concat([i2df[ticker][xcols + [ycol] + ['cywa_mkt_xh_ret_780_n']] for ticker in ['AGNCM','BAC PRN', 'WFC PRZ']], axis = 1).iloc[j:j+T]"
   ]
  },
  {
   "cell_type": "code",
   "execution_count": null,
   "id": "7a51faa4",
   "metadata": {
    "pycharm": {
     "name": "#%%\n"
    }
   },
   "outputs": [],
   "source": [
    "z.shape"
   ]
  },
  {
   "cell_type": "markdown",
   "id": "a2359c9e",
   "metadata": {
    "pycharm": {
     "name": "#%% md\n"
    }
   },
   "source": [
    "# Test Speed"
   ]
  },
  {
   "cell_type": "code",
   "execution_count": null,
   "id": "7f1efb9b",
   "metadata": {
    "pycharm": {
     "name": "#%%\n"
    }
   },
   "outputs": [],
   "source": [
    "len(mrf)"
   ]
  },
  {
   "cell_type": "code",
   "execution_count": null,
   "id": "c0602feb",
   "metadata": {
    "pycharm": {
     "name": "#%%\n"
    }
   },
   "outputs": [],
   "source": [
    "with Timer('test1'):\n",
    "    for i in range(len(mrf)):    \n",
    "        z, _ = mrf[i]"
   ]
  },
  {
   "cell_type": "code",
   "execution_count": null,
   "id": "b4fd6636",
   "metadata": {
    "pycharm": {
     "name": "#%%\n"
    }
   },
   "outputs": [],
   "source": [
    "dm = ml_data.DataModule.from_dataset(mrf, mrf,128)\n",
    "with Timer('data_loader'):\n",
    "    data_loader = dm.get_dataloader(True)\n",
    "    for i, z in enumerate(data_loader):\n",
    "        y = z"
   ]
  },
  {
   "cell_type": "markdown",
   "id": "6c6d8f02",
   "metadata": {
    "pycharm": {
     "name": "#%% md\n"
    }
   },
   "source": [
    "# Test Speed II"
   ]
  },
  {
   "cell_type": "code",
   "execution_count": null,
   "id": "2ce86c12",
   "metadata": {
    "pycharm": {
     "name": "#%%\n"
    }
   },
   "outputs": [],
   "source": [
    "stks = stocks_good_dvd()\n",
    "ins_nbs2 = []\n",
    "for stk in stks:\n",
    "    ins_nbs2.append(ml_data.InsNB(stk,   ['AGNCM']))"
   ]
  },
  {
   "cell_type": "code",
   "execution_count": null,
   "id": "fabe16a1",
   "metadata": {
    "pycharm": {
     "name": "#%%\n"
    }
   },
   "outputs": [],
   "source": [
    "mrf2 = ml_data.MultiRecField(i2df, ins_nbs2, xcols, ycol, wcol, T)"
   ]
  },
  {
   "cell_type": "code",
   "execution_count": null,
   "id": "20743c0e",
   "metadata": {
    "pycharm": {
     "name": "#%%\n"
    }
   },
   "outputs": [],
   "source": [
    "len(mrf2)"
   ]
  },
  {
   "cell_type": "code",
   "execution_count": null,
   "id": "6a74ef42",
   "metadata": {
    "pycharm": {
     "name": "#%%\n"
    }
   },
   "outputs": [],
   "source": [
    "with Timer('test2'):\n",
    "    for i in range(len(mrf2)):    \n",
    "        z, _ = mrf2[i]"
   ]
  },
  {
   "cell_type": "code",
   "execution_count": null,
   "id": "69fdfdb5",
   "metadata": {
    "pycharm": {
     "name": "#%%\n"
    }
   },
   "outputs": [],
   "source": [
    "dm = ml_data.DataModule.from_dataset(mrf2, mrf2, 128,num_workers = 2)\n",
    "with Timer('data_loader'):\n",
    "    data_loader = dm.get_dataloader(True)\n",
    "    for i, z in enumerate(data_loader):\n",
    "        y = z"
   ]
  },
  {
   "cell_type": "code",
   "execution_count": null,
   "id": "7e8e9d70",
   "metadata": {
    "pycharm": {
     "name": "#%%\n"
    }
   },
   "outputs": [],
   "source": [
    "dm = ml_data.DataModule.from_dataset(mrf2, mrf2, 128, num_workers = 1)\n",
    "with Timer('data_loader'):\n",
    "    data_loader = dm.get_dataloader(True)\n",
    "    for i, z in enumerate(data_loader):\n",
    "        y = z"
   ]
  },
  {
   "cell_type": "code",
   "execution_count": null,
   "id": "dff8fd5c",
   "metadata": {
    "pycharm": {
     "name": "#%%\n"
    }
   },
   "outputs": [],
   "source": [
    "dm = ml_data.DataModule.from_dataset(mrf2, mrf2, 128, num_workers = 8)\n",
    "with Timer('data_loader'):\n",
    "    data_loader = dm.get_dataloader(True)\n",
    "    for i, z in enumerate(data_loader):\n",
    "        y = z"
   ]
  },
  {
   "cell_type": "code",
   "execution_count": null,
   "id": "e27d8620",
   "metadata": {
    "pycharm": {
     "name": "#%%\n"
    }
   },
   "outputs": [],
   "source": []
  }
 ],
 "metadata": {
  "kernelspec": {
   "display_name": "Python 3 (ipykernel)",
   "language": "python",
   "name": "python3"
  },
  "language_info": {
   "codemirror_mode": {
    "name": "ipython",
    "version": 3
   },
   "file_extension": ".py",
   "mimetype": "text/x-python",
   "name": "python",
   "nbconvert_exporter": "python",
   "pygments_lexer": "ipython3",
   "version": "3.11.5"
  }
 },
 "nbformat": 4,
 "nbformat_minor": 5
}
