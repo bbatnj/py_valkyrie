{
 "cells": [
  {
   "cell_type": "code",
   "execution_count": null,
   "id": "9219b397",
   "metadata": {},
   "outputs": [],
   "source": [
    "class AlexNetReg(ml_modules.Regressor):\n",
    "    def __init__(self, lr=0.01):\n",
    "        super().__init__('l1')\n",
    "        self.save_hyperparameters()\n",
    "        self.net = nn.Sequential(\n",
    "            nn.LazyConv2d(96, kernel_size=5, stride=4, padding=1), nn.ReLU(),\n",
    "            nn.LazyConv2d(256, kernel_size=5, padding=2), nn.ReLU(),            \n",
    "            nn.LazyConv2d(384, kernel_size=3, padding=1), nn.ReLU(),\n",
    "            nn.LazyConv2d(384, kernel_size=3, padding=1), nn.ReLU(),\n",
    "            nn.LazyConv2d(256, kernel_size=3, padding=1), nn.ReLU(),\n",
    "            nn.Flatten(),\n",
    "            nn.LazyLinear(4096), nn.ReLU(), nn.Dropout(p=0.5),\n",
    "            nn.LazyLinear(4096), nn.ReLU(),nn.Dropout(p=0.5),\n",
    "            nn.LazyLinear(1))\n",
    "        self.net.apply(d2l.init_cnn)\n",
    "        "
   ]
  },
  {
   "cell_type": "code",
   "execution_count": null,
   "id": "340da1e3",
   "metadata": {},
   "outputs": [],
   "source": [
    "class LeNetReg(ml_modules.Regressor):\n",
    "  \"\"\"Defined in :numref:`sec_lenet`\"\"\"\n",
    "  def __init__(self, lr=0.1, num_classes=10):\n",
    "    print(\"LeNet Init\")\n",
    "    super().__init__('L1')\n",
    "    self.save_hyperparameters()\n",
    "    self.net = nn.Sequential(\n",
    "      nn.LazyConv2d(6, kernel_size=5, padding=2), nn.LeakyReLU(0.1),\n",
    "      nn.AvgPool2d(kernel_size=2, stride=2),\n",
    "      nn.LazyConv2d(16, kernel_size=5), nn.LeakyReLU(0.1),\n",
    "      nn.AvgPool2d(kernel_size=2, stride=2),\n",
    "      nn.Flatten(),\n",
    "      nn.LazyLinear(120), nn.LeakyReLU(0.1),\n",
    "      nn.Linear(120,1)      \n",
    "      #nn.LazyLinear(84), nn.LeakyReLU(0.1),\n",
    "      #nn.Linear(84,1)      \n",
    "      )"
   ]
  },
  {
   "cell_type": "code",
   "execution_count": null,
   "id": "5b10ed59",
   "metadata": {},
   "outputs": [],
   "source": [
    "\n",
    "class SaotomeNet(ml_modules.Regressor):\n",
    "    def __init__(self, lr):\n",
    "        super().__init__('l1')\n",
    "        self.save_hyperparameters()\n",
    "        \n",
    "        c_mul = 2\n",
    "        n_c0o = n_field\n",
    "        n_c1o = c_mul * n_c0o\n",
    "        n_c2o = c_mul * n_c1o\n",
    "        n_c3o = c_mul * n_c2o\n",
    "        n_c4o = c_mul * n_c3o\n",
    "                                        \n",
    "        self.net = nn.Sequential(\n",
    "           Filter1D(groups = n_c0o               , n_out_channel = n_c1o, kernel_size = 5, stride = 2),BN1D(n_c1o * n_instr), LReLU(0.01),\n",
    "           Filter1D(groups = int(n_c1o / n_field), n_out_channel = n_c2o, kernel_size = 3, stride = 2),BN1D(n_c2o * n_instr), LReLU(0.01),\n",
    "           Filter1D(groups = int(n_c2o / n_field), n_out_channel = n_c3o, kernel_size = 3, stride = 2),BN1D(n_c3o * n_instr), LReLU(0.01),\n",
    "           Filter1D(groups = int(n_c3o / n_field), n_out_channel = n_c4o, kernel_size = 3, stride = 2),BN1D(n_c4o * n_instr), LReLU(0.01),                       \n",
    "           nn.LazyConv2d(96, kernel_size=3, stride=1, padding=1), nn.ReLU(),\n",
    "           nn.LazyConv2d(256, kernel_size=3, padding=1), nn.ReLU(),                       \n",
    "           nn.Flatten(),           \n",
    "           nn.LazyLinear(64), nn.ReLU(),\n",
    "           nn.LazyLinear(1)\n",
    "        )\n",
    "    \n",
    "class LinearReg(ml_modules.Regressor):\n",
    "    def __init__(self, lr=1e-3):\n",
    "        super().__init__('l1')\n",
    "        self.save_hyperparameters()\n",
    "                                          \n",
    "        self.net = nn.Sequential(          \n",
    "            nn.Flatten(),\n",
    "            nn.LazyLinear(1))  "
   ]
  }
 ],
 "metadata": {
  "kernelspec": {
   "display_name": "Python 3 (ipykernel)",
   "language": "python",
   "name": "python3"
  },
  "language_info": {
   "codemirror_mode": {
    "name": "ipython",
    "version": 3
   },
   "file_extension": ".py",
   "mimetype": "text/x-python",
   "name": "python",
   "nbconvert_exporter": "python",
   "pygments_lexer": "ipython3",
   "version": "3.11.5"
  }
 },
 "nbformat": 4,
 "nbformat_minor": 5
}
