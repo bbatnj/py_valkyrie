{
 "cells": [
  {
   "cell_type": "code",
   "execution_count": 2,
   "id": "94090416",
   "metadata": {},
   "outputs": [
    {
     "data": {
      "text/html": [
       "<style>.container { width:100% !important; }</style>"
      ],
      "text/plain": [
       "<IPython.core.display.HTML object>"
      ]
     },
     "metadata": {},
     "output_type": "display_data"
    },
    {
     "name": "stdout",
     "output_type": "stream",
     "text": [
      "D:/valkyrie_shared/sim_dir\n"
     ]
    }
   ],
   "source": [
    "%run D:\\valkyrie_shared\\python\\lib\\valkyrie\\run_notebook_import.py"
   ]
  },
  {
   "cell_type": "code",
   "execution_count": 3,
   "id": "5d0e2d14",
   "metadata": {},
   "outputs": [
    {
     "data": {
      "text/plain": [
       "0"
      ]
     },
     "execution_count": 3,
     "metadata": {},
     "output_type": "execute_result"
    }
   ],
   "source": [
    "instrs = stocks_good_dvd()\n",
    "feature_mgr = FeatureMgr('20210101', '20210630', instrs + ['PFF'], 'sampled_for_ml_ii')\n",
    "sampled_freq_s = 300\n",
    "n_sample_per_day = TRADING_SEC_PER_DAY / sampled_freq_s\n",
    "ret_ns = [round(i * n_sample_per_day) for i in [1] ]\n",
    "\n",
    "ret_col, s2_col = 'risk_tv', 'cywa_mkt_s2h'\n",
    "df_tv = feature_mgr.calc_rets_('log', ret_col, ret_ns, s2_col, wmul = 1e-7)\n",
    "df_tv['parent'] = df_tv['ticker'].apply(parent)\n",
    "\n",
    "ret_col, s2_col = 'cywa_mkt_xh', 'cywa_mkt_s2h'\n",
    "df_cy = feature_mgr.calc_rets_('log', ret_col, ret_ns, s2_col, wmul = 1e-7)\n",
    "df_cy['parent'] = df_cy['ticker'].apply(parent)\n",
    "gc.collect()"
   ]
  },
  {
   "cell_type": "code",
   "execution_count": 10,
   "id": "dce755ee",
   "metadata": {},
   "outputs": [],
   "source": [
    "z = torch.tensor([4.0,2],device=ml_utils.gpu())"
   ]
  },
  {
   "cell_type": "code",
   "execution_count": null,
   "id": "6587526f",
   "metadata": {},
   "outputs": [],
   "source": [
    "z.device"
   ]
  },
  {
   "cell_type": "code",
   "execution_count": null,
   "id": "4a0e2722",
   "metadata": {},
   "outputs": [],
   "source": []
  },
  {
   "cell_type": "code",
   "execution_count": null,
   "id": "628d14e7",
   "metadata": {},
   "outputs": [],
   "source": []
  },
  {
   "cell_type": "code",
   "execution_count": 4,
   "id": "57fd28cd",
   "metadata": {},
   "outputs": [
    {
     "data": {
      "text/plain": [
       "[78]"
      ]
     },
     "execution_count": 4,
     "metadata": {},
     "output_type": "execute_result"
    }
   ],
   "source": [
    "ret_ns"
   ]
  },
  {
   "cell_type": "code",
   "execution_count": 5,
   "id": "060e3f88",
   "metadata": {},
   "outputs": [],
   "source": [
    "ins_nbs2 = []\n",
    "for stk in instrs:\n",
    "    ins_nbs2.append(ml_data.InsNB(stk,   ['PFF']))"
   ]
  },
  {
   "cell_type": "code",
   "execution_count": null,
   "id": "87fffdbd",
   "metadata": {},
   "outputs": [],
   "source": [
    "xcols = ['cywa_mkt_xh']\n",
    "ycol = 'risk_tv_ret_78_n'\n",
    "wcol = 'wgt_cywa_mkt_xh_ret_78_n'\n",
    "T = 512\n",
    "mrf = ml_data.MultiRecField(feature_mgr.stk2df, ins_nbs2, xcols, ycol, wcol, T)"
   ]
  },
  {
   "cell_type": "code",
   "execution_count": null,
   "id": "19014568",
   "metadata": {},
   "outputs": [],
   "source": [
    "dm = ml_data.DataModule.from_dataset(mrf, None, batch_size= 4096)"
   ]
  },
  {
   "cell_type": "code",
   "execution_count": null,
   "id": "29873b68",
   "metadata": {},
   "outputs": [],
   "source": [
    "len(mrf)"
   ]
  },
  {
   "cell_type": "code",
   "execution_count": null,
   "id": "98069b38",
   "metadata": {},
   "outputs": [],
   "source": [
    "n_field, n_instr = 1, 2\n",
    "\n",
    "class SaotomeNetII(ml_modules.Regressor):\n",
    "    def __init__(self, lr):\n",
    "        super().__init__('l1')\n",
    "        self.save_hyperparameters()\n",
    "        \n",
    "        c_mul = 2\n",
    "        n_c0o = n_field\n",
    "        n_c1o = c_mul * n_c0o\n",
    "        n_c2o = c_mul * n_c1o\n",
    "        n_c3o = c_mul * n_c2o\n",
    "        n_c4o = c_mul * n_c3o\n",
    "        n_c5o = c_mul * n_c4o\n",
    "                                        \n",
    "        self.net = nn.Sequential(\n",
    "           Filter1D(groups = n_c0o, n_out_channel = n_c1o, kernel_size = 5, stride = 2),BN1D(n_c1o * n_instr), LReLU(0.01),\n",
    "           Filter1D(groups = n_c1o, n_out_channel = n_c2o, kernel_size = 5, stride = 2),BN1D(n_c2o * n_instr), LReLU(0.01),\n",
    "           Filter1D(groups = n_c2o, n_out_channel = n_c3o, kernel_size = 5, stride = 2),BN1D(n_c3o * n_instr), LReLU(0.01),\n",
    "           Filter1D(groups = n_c3o, n_out_channel = n_c4o, kernel_size = 5, stride = 2),BN1D(n_c4o * n_instr), LReLU(0.01),\n",
    "           #Filter1D(n_c4o, groups = n_c4o, n_out_channel = n_c5o, kernel_size = 5, stride = 2),BN1D(n_c5o * n_instr), LReLU(0.01),\n",
    "           nn.LazyConv2d(64, kernel_size=3, stride=1, padding=1), nn.ReLU(),\n",
    "           nn.LazyConv2d(128, kernel_size=3, padding=1), nn.ReLU(),                       \n",
    "           nn.LazyConv2d(64, kernel_size=3, padding=1), nn.ReLU(),                       \n",
    "           nn.LazyConv2d(32, kernel_size=3, padding=1), nn.ReLU(),                       \n",
    "           nn.Flatten(),           \n",
    "           nn.LazyLinear(128), LReLU(0.01),\n",
    "           nn.LazyLinear(32), LReLU(0.01),           \n",
    "           nn.LazyLinear(1)\n",
    "        )"
   ]
  },
  {
   "cell_type": "code",
   "execution_count": null,
   "id": "b557331b",
   "metadata": {},
   "outputs": [],
   "source": [
    "len(mrf)"
   ]
  },
  {
   "cell_type": "code",
   "execution_count": null,
   "id": "572e0203",
   "metadata": {},
   "outputs": [],
   "source": [
    "net = SaotomeNetII(lr = 1e-3)\n",
    "X = mrf[0][0]\n",
    "ml_utils.layer_summary(net, X.shape)\n",
    "ml_utils.parameter_summary(net)"
   ]
  },
  {
   "cell_type": "code",
   "execution_count": null,
   "id": "969e4913",
   "metadata": {},
   "outputs": [],
   "source": [
    "with Timer('training'):    \n",
    "    trainer = ml_modules.Trainer(max_epochs=10, num_gpus=1)    \n",
    "    net.apply_init([next(iter(dm.get_dataloader(True)))[0]], ml_utils.init_cnn)\n",
    "    trainer.fit(net, dm)"
   ]
  },
  {
   "cell_type": "code",
   "execution_count": null,
   "id": "eb93ff40",
   "metadata": {},
   "outputs": [],
   "source": [
    "trainer.loss_total"
   ]
  },
  {
   "cell_type": "code",
   "execution_count": null,
   "id": "21fa24e2",
   "metadata": {},
   "outputs": [],
   "source": []
  },
  {
   "cell_type": "code",
   "execution_count": null,
   "id": "aba5ba2b",
   "metadata": {},
   "outputs": [],
   "source": []
  },
  {
   "cell_type": "code",
   "execution_count": null,
   "id": "92ce74ea",
   "metadata": {},
   "outputs": [],
   "source": []
  },
  {
   "cell_type": "code",
   "execution_count": null,
   "id": "2fe008ef",
   "metadata": {},
   "outputs": [],
   "source": []
  },
  {
   "cell_type": "code",
   "execution_count": null,
   "id": "edac2327",
   "metadata": {},
   "outputs": [],
   "source": []
  },
  {
   "cell_type": "code",
   "execution_count": null,
   "id": "c833f4c2",
   "metadata": {},
   "outputs": [],
   "source": []
  },
  {
   "cell_type": "code",
   "execution_count": null,
   "id": "3f247127",
   "metadata": {},
   "outputs": [],
   "source": []
  },
  {
   "cell_type": "code",
   "execution_count": null,
   "id": "657777df",
   "metadata": {},
   "outputs": [],
   "source": []
  },
  {
   "cell_type": "code",
   "execution_count": null,
   "id": "18f9b650",
   "metadata": {},
   "outputs": [],
   "source": []
  },
  {
   "cell_type": "code",
   "execution_count": null,
   "id": "c0f48d56",
   "metadata": {},
   "outputs": [],
   "source": []
  },
  {
   "cell_type": "code",
   "execution_count": null,
   "id": "49bf8fe5",
   "metadata": {},
   "outputs": [],
   "source": []
  }
 ],
 "metadata": {
  "kernelspec": {
   "display_name": "valkyrie_venv_win",
   "language": "python",
   "name": "valkyrie_venv_win"
  },
  "language_info": {
   "codemirror_mode": {
    "name": "ipython",
    "version": 3
   },
   "file_extension": ".py",
   "mimetype": "text/x-python",
   "name": "python",
   "nbconvert_exporter": "python",
   "pygments_lexer": "ipython3",
   "version": "3.9.13"
  }
 },
 "nbformat": 4,
 "nbformat_minor": 5
}
