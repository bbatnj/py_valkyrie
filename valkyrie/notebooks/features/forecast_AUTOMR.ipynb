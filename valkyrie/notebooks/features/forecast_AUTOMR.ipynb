{
 "cells": [
  {
   "cell_type": "code",
   "execution_count": 1,
   "id": "a6ce435f",
   "metadata": {},
   "outputs": [
    {
     "name": "stderr",
     "output_type": "stream",
     "text": [
      "/tmp/ipykernel_345551/313506668.py:6: DeprecationWarning: Importing display from IPython.core.display is deprecated since IPython 7.14, please import from IPython display\n",
      "  from IPython.core.display import display, HTML\n"
     ]
    },
    {
     "data": {
      "text/html": [
       "<style>.container { width:100% !important; }</style>"
      ],
      "text/plain": [
       "<IPython.core.display.HTML object>"
      ]
     },
     "metadata": {},
     "output_type": "display_data"
    }
   ],
   "source": [
    "import numpy as np\n",
    "import pandas as pd\n",
    "import gc\n",
    "from sklearn.linear_model import LinearRegression as LR\n",
    "\n",
    "from IPython.core.display import display, HTML\n",
    "display(HTML(\"<style>.container { width:100% !important; }</style>\"))\n",
    "%matplotlib notebook\n",
    "pd.set_option('display.max_rows', 500)\n",
    "\n",
    "from valkyrie.avalon.feature_analyzer import FeatureMgr\n",
    "from valkyrie.securities import stocks_good_dvd, parent\n",
    "from valkyrie.quants import WinsorizedLM"
   ]
  },
  {
   "cell_type": "code",
   "execution_count": null,
   "id": "f136d6d1",
   "metadata": {},
   "outputs": [],
   "source": []
  },
  {
   "cell_type": "markdown",
   "id": "798115a1",
   "metadata": {},
   "source": [
    "# Load Data"
   ]
  },
  {
   "cell_type": "code",
   "execution_count": 3,
   "id": "20f5779a",
   "metadata": {},
   "outputs": [],
   "source": [
    "#feature_mgr = FeatureMgr('20210101', '20210630', ['TWO PRC'] , 'latest')#\n",
    "feature_mgr = FeatureMgr('20210101', '20210630', stocks_good_dvd() , 'eve_quoter_comet_weighted_fit_demean_1w')\n",
    "rets = [1 , 2 , 5, 10, 12, 15]\n",
    "ret_ns = [int(n * 2 * 60 * 6.5) for n in rets]\n",
    "\n",
    "ret_col, s2_col = 'cywa_mkt_xh', 'cywa_mkt_s2h'\n",
    "df = feature_mgr.calc_rets(ret_col, ret_ns, s2_col)\n",
    "gc.collect()\n",
    "df['parent'] = df['ticker'].apply(parent)"
   ]
  },
  {
   "cell_type": "markdown",
   "id": "16f023e5",
   "metadata": {},
   "source": [
    "# LM Fitting"
   ]
  },
  {
   "cell_type": "code",
   "execution_count": 32,
   "id": "2122d8ba",
   "metadata": {},
   "outputs": [],
   "source": [
    "def lm_fit(df, xcols, ycols, wcols, quantile = 0.03, fit_intercept = False):\n",
    "    hz2coeffs = {}\n",
    "    #print(xcols)\n",
    "    for ycol, wcol in zip(ycols, wcols):\n",
    "        X = df[xcols].values.copy()        \n",
    "        y = df[ycol].values.copy()\n",
    "        w = df[wcol].values.copy()\n",
    "        \n",
    "        ym = np.sum(y*w) / np.sum(w)        \n",
    "        y = y - ym\n",
    "        \n",
    "        wlm = WinsorizedLM(quantile = quantile, linear_model = LR, fit_intercept = fit_intercept)\n",
    "        wlm.fit(X, y, w)\n",
    "        r2 = wlm.score(X, y, w)\n",
    "        #print(f'ycol:{ycol} r2:{r2}')#, corr:{np.sqrt(r2)}')        \n",
    "        coeffs = {c.replace('feature_', '') : wlm.lm.coef_[0][i] for i, c in enumerate(df[xcols]) }# | {'intercept' : wlm.lm.intercept_[0]}\n",
    "        if fit_intercept:\n",
    "            coeffs = coeffs | {'intercept' : wlm.lm.intercept_[0]}\n",
    "        hz2coeffs[ycol] = coeffs\n",
    "        print(hz2coeffs)\n",
    "                \n",
    "    return r2, hz2coeffs\n",
    "\n",
    "feature2fml = {}\n",
    "#ycols = [f'risk_tv_ret_{hz}_n' for hz in ret_ns]\n",
    "#wcols = [f'wgt_risk_tv_ret_{hz}_n' for hz in ret_ns]\n",
    "\n",
    "ycols = [f'cywa_mkt_xh_ret_{hz}_n' for hz in ret_ns]\n",
    "wcols = [f'wgt_cywa_mkt_xh_ret_{hz}_n' for hz in ret_ns]"
   ]
  },
  {
   "cell_type": "markdown",
   "id": "911b7ab6",
   "metadata": {},
   "source": [
    "# AUTOMR LM fit"
   ]
  },
  {
   "cell_type": "code",
   "execution_count": 38,
   "id": "f9b7db5e",
   "metadata": {},
   "outputs": [
    {
     "name": "stdout",
     "output_type": "stream",
     "text": [
      "{'cywa_mkt_xh_ret_3900_n': {'1': -0.434072326660206, '2': 0.44181007090067037}}\n",
      "(0.03036400569084652, {'cywa_mkt_xh_ret_3900_n': {'1': -0.434072326660206, '2': 0.44181007090067037}})\n"
     ]
    }
   ],
   "source": [
    "df_automr = df[['ticker','parent'] +[c for c in df if 'cywa' in c]].copy() # + ['intercept']\n",
    "\n",
    "#df_automr['feature_1'] = df_automr.eval(f'cywa_vlong_xh')\n",
    "#df_automr['feature_2'] = df_automr.eval(f'cywa_mid_xh ')\n",
    "#df_automr['feature_3'] = df_automr.eval(f'cywa_mkt_xh')\n",
    "#df_automr['feature_4'] = df_automr.eval(f'pff_cywa_mkt_xh')\n",
    "#df_automr['feature_5'] = df_automr.eval(f'pff_cywa_vlong_xh')\n",
    "\n",
    "df_automr['feature_1'] = df_automr.eval(f'pff_cywa_vlong_xh - cywa_vlong_xh')\n",
    "df_automr['feature_2'] = df_automr.eval(f'pff_cywa_mkt_xh - cywa_mkt_xh ')\n",
    "\n",
    "#df_automr['feature_0'] = df_automr.eval(f'-(pff_cywa_vlong_xh - cywa_vlong_xh) + (pff_cywa_mkt_xh - cywa_mkt_xh)')\n",
    "\n",
    "            \n",
    "xcols = [c for c in df_automr if 'feature_' in c]\n",
    "#print(df_automr.groupby('ticker').apply(lambda df : lm_fit(df, xcols, [ycols[0]], wcols)))\n",
    "\n",
    "print(lm_fit(df_automr, xcols, [ycols[2]], wcols))"
   ]
  },
  {
   "cell_type": "code",
   "execution_count": 23,
   "id": "703a2743",
   "metadata": {},
   "outputs": [
    {
     "data": {
      "text/plain": [
       "parent\n",
       "AGNC    0.006833\n",
       "BAC     0.000586\n",
       "C       0.000433\n",
       "CIM     0.003369\n",
       "JPM     0.000638\n",
       "NLY     0.005423\n",
       "NRZ     0.005891\n",
       "PMT     0.004240\n",
       "STAR    0.029147\n",
       "TWO     0.007206\n",
       "WFC     0.001860\n",
       "dtype: float64"
      ]
     },
     "execution_count": 23,
     "metadata": {},
     "output_type": "execute_result"
    }
   ],
   "source": [
    "df_automr = df[['ticker','parent'] +[c for c in df if 'cywa' in c]].copy() # + ['intercept']\n",
    "\n",
    "df_automr['feature_1'] = df_automr.eval(f'cywa_vlong_xh')\n",
    "df_automr['feature_2'] = df_automr.eval(f'cywa_mid_xh ')\n",
    "df_automr['feature_3'] = df_automr.eval(f'cywa_mkt_xh')\n",
    "#df_automr['feature_4'] = df_automr.eval(f'pff_cywa_mkt_xh')\n",
    "#df_automr['feature_5'] = df_automr.eval(f'pff_cywa_vlong_xh')\n",
    "\n",
    "            \n",
    "xcols = [c for c in df_automr if 'feature_' in c]\n",
    "pff_coeffs = lm_fit(df_automr, xcols, ycols, wcols)\n",
    "df_automr.groupby('parent').apply(lambda df : lm_fit(df, xcols, [ycols[0]], wcols))"
   ]
  },
  {
   "cell_type": "code",
   "execution_count": null,
   "id": "d0d069ae",
   "metadata": {},
   "outputs": [],
   "source": []
  }
 ],
 "metadata": {
  "kernelspec": {
   "display_name": "Python 3 (ipykernel)",
   "language": "python",
   "name": "python3"
  },
  "language_info": {
   "codemirror_mode": {
    "name": "ipython",
    "version": 3
   },
   "file_extension": ".py",
   "mimetype": "text/x-python",
   "name": "python",
   "nbconvert_exporter": "python",
   "pygments_lexer": "ipython3",
   "version": "3.9.7"
  }
 },
 "nbformat": 4,
 "nbformat_minor": 5
}
