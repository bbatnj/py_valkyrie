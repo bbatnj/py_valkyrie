{
 "cells": [
  {
   "cell_type": "code",
   "execution_count": 1,
   "id": "a6ce435f",
   "metadata": {},
   "outputs": [
    {
     "name": "stderr",
     "output_type": "stream",
     "text": [
      "/tmp/ipykernel_591279/3906435911.py:7: DeprecationWarning: Importing display from IPython.core.display is deprecated since IPython 7.14, please import from IPython display\n",
      "  from IPython.core.display import display, HTML\n"
     ]
    },
    {
     "data": {
      "text/html": [
       "<style>.container { width:100% !important; }</style>"
      ],
      "text/plain": [
       "<IPython.core.display.HTML object>"
      ]
     },
     "metadata": {},
     "output_type": "display_data"
    }
   ],
   "source": [
    "import numpy as np\n",
    "from collections import defaultdict as dd\n",
    "import pandas as pd\n",
    "import gc\n",
    "from sklearn.linear_model import LinearRegression as LR\n",
    "\n",
    "from IPython.core.display import display, HTML\n",
    "display(HTML(\"<style>.container { width:100% !important; }</style>\"))\n",
    "%matplotlib notebook\n",
    "pd.set_option('display.max_rows', 500)\n",
    "\n",
    "from valkyrie.avalon.feature_analyzer import FeatureMgr\n",
    "from valkyrie.securities import stocks_good_dvd, parent\n",
    "from valkyrie.quants import lm_fit"
   ]
  },
  {
   "cell_type": "markdown",
   "id": "798115a1",
   "metadata": {},
   "source": [
    "# Load Data"
   ]
  },
  {
   "cell_type": "code",
   "execution_count": 2,
   "id": "20f5779a",
   "metadata": {},
   "outputs": [],
   "source": [
    "#feature_mgr = FeatureMgr('20210101', '20210630', ['TWO PRC'] , 'latest')#\n",
    "feature_mgr = FeatureMgr('20210101', '20210630', stocks_good_dvd() , 'eve_recording3')\n",
    "rets = [1 , 2 , 5, 10, 12, 15]\n",
    "ret_ns = [int(n * 2 * 60 * 6.5) for n in rets]\n",
    "\n",
    "ret_col, s2_col = 'cywa_mkt_xh', 'cywa_mkt_s2h'\n",
    "df = feature_mgr.calc_rets(ret_col, ret_ns, s2_col)\n",
    "gc.collect()\n",
    "df['parent'] = df['ticker'].apply(parent)"
   ]
  },
  {
   "cell_type": "markdown",
   "id": "681ef8b9",
   "metadata": {},
   "source": [
    "# Cluster fitting"
   ]
  },
  {
   "cell_type": "code",
   "execution_count": 4,
   "id": "c1ee38f6",
   "metadata": {},
   "outputs": [],
   "source": [
    "df_cluster = df.copy()"
   ]
  },
  {
   "cell_type": "code",
   "execution_count": 11,
   "id": "e8eb43f3",
   "metadata": {},
   "outputs": [
    {
     "name": "stdout",
     "output_type": "stream",
     "text": [
      "========= long ========\n"
     ]
    },
    {
     "data": {
      "text/html": [
       "<div>\n",
       "<style scoped>\n",
       "    .dataframe tbody tr th:only-of-type {\n",
       "        vertical-align: middle;\n",
       "    }\n",
       "\n",
       "    .dataframe tbody tr th {\n",
       "        vertical-align: top;\n",
       "    }\n",
       "\n",
       "    .dataframe thead th {\n",
       "        text-align: right;\n",
       "    }\n",
       "</style>\n",
       "<table border=\"1\" class=\"dataframe\">\n",
       "  <thead>\n",
       "    <tr style=\"text-align: right;\">\n",
       "      <th></th>\n",
       "      <th>cywa_mkt_xh_ret_780_n</th>\n",
       "    </tr>\n",
       "  </thead>\n",
       "  <tbody>\n",
       "    <tr>\n",
       "      <th>r2</th>\n",
       "      <td>0.03196</td>\n",
       "    </tr>\n",
       "    <tr>\n",
       "      <th>feature_long</th>\n",
       "      <td>-0.399869</td>\n",
       "    </tr>\n",
       "    <tr>\n",
       "      <th>model</th>\n",
       "      <td>Linefit_False_q=0.03</td>\n",
       "    </tr>\n",
       "  </tbody>\n",
       "</table>\n",
       "</div>"
      ],
      "text/plain": [
       "             cywa_mkt_xh_ret_780_n\n",
       "r2                         0.03196\n",
       "feature_long             -0.399869\n",
       "model         Linefit_False_q=0.03"
      ]
     },
     "metadata": {},
     "output_type": "display_data"
    },
    {
     "name": "stdout",
     "output_type": "stream",
     "text": [
      "========= vlong ========\n"
     ]
    },
    {
     "data": {
      "text/html": [
       "<div>\n",
       "<style scoped>\n",
       "    .dataframe tbody tr th:only-of-type {\n",
       "        vertical-align: middle;\n",
       "    }\n",
       "\n",
       "    .dataframe tbody tr th {\n",
       "        vertical-align: top;\n",
       "    }\n",
       "\n",
       "    .dataframe thead th {\n",
       "        text-align: right;\n",
       "    }\n",
       "</style>\n",
       "<table border=\"1\" class=\"dataframe\">\n",
       "  <thead>\n",
       "    <tr style=\"text-align: right;\">\n",
       "      <th></th>\n",
       "      <th>cywa_mkt_xh_ret_780_n</th>\n",
       "    </tr>\n",
       "  </thead>\n",
       "  <tbody>\n",
       "    <tr>\n",
       "      <th>r2</th>\n",
       "      <td>0.027766</td>\n",
       "    </tr>\n",
       "    <tr>\n",
       "      <th>feature_vlong</th>\n",
       "      <td>-0.33448</td>\n",
       "    </tr>\n",
       "    <tr>\n",
       "      <th>model</th>\n",
       "      <td>Linefit_False_q=0.03</td>\n",
       "    </tr>\n",
       "  </tbody>\n",
       "</table>\n",
       "</div>"
      ],
      "text/plain": [
       "              cywa_mkt_xh_ret_780_n\n",
       "r2                         0.027766\n",
       "feature_vlong              -0.33448\n",
       "model          Linefit_False_q=0.03"
      ]
     },
     "metadata": {},
     "output_type": "display_data"
    },
    {
     "name": "stdout",
     "output_type": "stream",
     "text": [
      "========= vvlong ========\n"
     ]
    },
    {
     "data": {
      "text/html": [
       "<div>\n",
       "<style scoped>\n",
       "    .dataframe tbody tr th:only-of-type {\n",
       "        vertical-align: middle;\n",
       "    }\n",
       "\n",
       "    .dataframe tbody tr th {\n",
       "        vertical-align: top;\n",
       "    }\n",
       "\n",
       "    .dataframe thead th {\n",
       "        text-align: right;\n",
       "    }\n",
       "</style>\n",
       "<table border=\"1\" class=\"dataframe\">\n",
       "  <thead>\n",
       "    <tr style=\"text-align: right;\">\n",
       "      <th></th>\n",
       "      <th>cywa_mkt_xh_ret_780_n</th>\n",
       "    </tr>\n",
       "  </thead>\n",
       "  <tbody>\n",
       "    <tr>\n",
       "      <th>r2</th>\n",
       "      <td>0.026001</td>\n",
       "    </tr>\n",
       "    <tr>\n",
       "      <th>feature_vvlong</th>\n",
       "      <td>-0.312218</td>\n",
       "    </tr>\n",
       "    <tr>\n",
       "      <th>model</th>\n",
       "      <td>Linefit_False_q=0.03</td>\n",
       "    </tr>\n",
       "  </tbody>\n",
       "</table>\n",
       "</div>"
      ],
      "text/plain": [
       "               cywa_mkt_xh_ret_780_n\n",
       "r2                          0.026001\n",
       "feature_vvlong             -0.312218\n",
       "model           Linefit_False_q=0.03"
      ]
     },
     "metadata": {},
     "output_type": "display_data"
    },
    {
     "name": "stdout",
     "output_type": "stream",
     "text": [
      "========= vvvlong ========\n"
     ]
    },
    {
     "data": {
      "text/html": [
       "<div>\n",
       "<style scoped>\n",
       "    .dataframe tbody tr th:only-of-type {\n",
       "        vertical-align: middle;\n",
       "    }\n",
       "\n",
       "    .dataframe tbody tr th {\n",
       "        vertical-align: top;\n",
       "    }\n",
       "\n",
       "    .dataframe thead th {\n",
       "        text-align: right;\n",
       "    }\n",
       "</style>\n",
       "<table border=\"1\" class=\"dataframe\">\n",
       "  <thead>\n",
       "    <tr style=\"text-align: right;\">\n",
       "      <th></th>\n",
       "      <th>cywa_mkt_xh_ret_780_n</th>\n",
       "    </tr>\n",
       "  </thead>\n",
       "  <tbody>\n",
       "    <tr>\n",
       "      <th>r2</th>\n",
       "      <td>0.026</td>\n",
       "    </tr>\n",
       "    <tr>\n",
       "      <th>feature_vvvlong</th>\n",
       "      <td>-0.31221</td>\n",
       "    </tr>\n",
       "    <tr>\n",
       "      <th>model</th>\n",
       "      <td>Linefit_False_q=0.03</td>\n",
       "    </tr>\n",
       "  </tbody>\n",
       "</table>\n",
       "</div>"
      ],
      "text/plain": [
       "                cywa_mkt_xh_ret_780_n\n",
       "r2                              0.026\n",
       "feature_vvvlong              -0.31221\n",
       "model            Linefit_False_q=0.03"
      ]
     },
     "metadata": {},
     "output_type": "display_data"
    }
   ],
   "source": [
    "r2s = dd(lambda : {})\n",
    "res = {}\n",
    "yhz = 780\n",
    "for hz in ['long', 'vlong', 'vvlong', 'vvvlong']:\n",
    "    print(f'========= {hz} ========')\n",
    "    \n",
    "    #ycols = [f'cywa_mkt_xh_ret_{yhz}_n' for yhz in ret_ns]\n",
    "    #wcols = [f'total_wgt_cywa_mkt_xh_ret_{yhz}_n' for yhz in ret_ns]\n",
    "    \n",
    "    #df_cluster[f'feature_{hz}'] = df_cluster.eval(f' : ')        \n",
    "    df_cluster[f'feature_{hz}'] = df_cluster.eval(f'cluster_{hz}_avg_xh - (cywa_{hz}_xh - cywa_mkt_xh)')\n",
    "\n",
    "    ycol = f'cywa_mkt_xh_ret_{yhz}_n'\n",
    "    wcol = f'total_wgt_cywa_mkt_xh_ret_{yhz}_n'\n",
    "    df_cluster[wcol] = df_cluster.eval(f'cywa_mkt_s2h + cywa_{hz}_s2h + cluster_{hz}_avg_s2 + (1.0 / wgt_cywa_mkt_xh_ret_{yhz}_n)')\n",
    "    df_cluster[wcol] = df_cluster.eval(f'1.0/{wcol}')\n",
    "\n",
    "    feature= f'feature_{hz}'\n",
    "    df_z = df_cluster.query(f'abs({feature}) >= 1.0 * 1.0e-4')\n",
    "\n",
    "    res[hz] = lm_fit(df_z, [f'feature_{hz}'], [ycol], [wcol])\n",
    "    display(res[hz])\n",
    "                \n",
    "#r2s = pd.DataFrame(r2s)"
   ]
  },
  {
   "cell_type": "code",
   "execution_count": null,
   "id": "3d0b8fc4",
   "metadata": {},
   "outputs": [],
   "source": [
    "df_cluster[[c for c in df_cluster if 'feature_' in c]].describe()"
   ]
  },
  {
   "cell_type": "markdown",
   "id": "3a945b44",
   "metadata": {},
   "source": [
    "# Trade Imbalance Fitting"
   ]
  },
  {
   "cell_type": "code",
   "execution_count": null,
   "id": "49734cc6",
   "metadata": {},
   "outputs": [],
   "source": [
    "df_ti = df.copy()"
   ]
  },
  {
   "cell_type": "code",
   "execution_count": null,
   "id": "9af93374",
   "metadata": {},
   "outputs": [],
   "source": [
    "df_ti.columns"
   ]
  },
  {
   "cell_type": "code",
   "execution_count": null,
   "id": "97e04452",
   "metadata": {},
   "outputs": [],
   "source": [
    "for net in ['vshort', 'short', 'mid', 'long']:\n",
    "    df_ti[f'net_{net}'] = df_ti.eval(f'buytrade_{net} - selltrade_{net}')\n",
    "    df_ti[f'cluster_net_{net}'] = df_ti.eval(f'cluster_buy_{net} - cluster_sell_{net}')\n",
    "    for gross in ['long', 'vlong']:\n",
    "        df_ti[f'gross_{gross}'] = df_ti.eval(f'buytrade_{gross} + selltrade_{gross} + midtrade_{gross}')\n",
    "        df_ti[f'feature_{net}_{gross}'] = df_ti.eval(f'(net_{net} / (gross_{gross})) * cywa_mid_xh')        \n",
    "        df_ti[f'feature_{net}_{gross}'] = df_ti[f'feature_{net}_{gross}'].fillna(0.0)\n",
    "        \n",
    "        df_ti[f'cluster_gross_{gross}'] = df_ti.eval(f'cluster_buy_{gross} + cluster_sell_{gross} + cluster_mid_{gross}')\n",
    "        df_ti[f'feature_cluster_{net}_{gross}'] = df_ti.eval(f'(cluster_net_{net} / (cluster_gross_{gross})) * cywa_mid_xh')        \n",
    "        df_ti[f'feature_cluster_{net}_{gross}'] = df_ti[f'feature_cluster_{net}_{gross}'].fillna(0.0)"
   ]
  },
  {
   "cell_type": "code",
   "execution_count": null,
   "id": "a3ac2d8c",
   "metadata": {},
   "outputs": [],
   "source": [
    "df_ti.query('date >= \"20210215\"')[['ticker'] + [c for c in df_ti if 'net_' in c or 'gross_' in c or 'feature_' in c]].describe()"
   ]
  },
  {
   "cell_type": "code",
   "execution_count": null,
   "id": "668f9b8d",
   "metadata": {},
   "outputs": [],
   "source": [
    "df_ti.query('date >= \"20210215\"')[['ticker'] + [c for c in df_ti if 'feature_' in c]].describe()"
   ]
  },
  {
   "cell_type": "code",
   "execution_count": null,
   "id": "be02f8ab",
   "metadata": {},
   "outputs": [],
   "source": [
    "df_ti_top = df_ti.query('date >= \"20210215\"').copy()"
   ]
  },
  {
   "cell_type": "code",
   "execution_count": null,
   "id": "cf4dd39e",
   "metadata": {},
   "outputs": [],
   "source": [
    "features = [f for f in df_ti if 'feature_' in f and 'vshort' in f]\n",
    "\n",
    "r2s = dd(lambda : {})\n",
    "for feature in features:    \n",
    "    print(feature)\n",
    "    for yhz in ret_ns:\n",
    "        #print(f'====== {yhz} =========')\n",
    "        ycol = f'cywa_mkt_xh_ret_{yhz}_n'\n",
    "        wcol = f'wgt_cywa_mkt_xh_ret_{yhz}_n'\n",
    "        df_z = df_ti_top.query(f'abs({feature}) > 1e-4')[[feature, ycol, wcol]].copy()        \n",
    "        r2, n, coeffs = lm_fit(df_z, [feature], [ycol], [wcol])\n",
    "        r2s[yhz][feature] = (r2, n)\n",
    "            \n",
    "r2s = pd.DataFrame(r2s)"
   ]
  },
  {
   "cell_type": "code",
   "execution_count": null,
   "id": "22a8f255",
   "metadata": {},
   "outputs": [],
   "source": [
    "r2s"
   ]
  },
  {
   "cell_type": "code",
   "execution_count": null,
   "id": "7efc7e4d",
   "metadata": {},
   "outputs": [],
   "source": []
  }
 ],
 "metadata": {
  "kernelspec": {
   "display_name": "Python 3 (ipykernel)",
   "language": "python",
   "name": "python3"
  },
  "language_info": {
   "codemirror_mode": {
    "name": "ipython",
    "version": 3
   },
   "file_extension": ".py",
   "mimetype": "text/x-python",
   "name": "python",
   "nbconvert_exporter": "python",
   "pygments_lexer": "ipython3",
   "version": "3.9.7"
  }
 },
 "nbformat": 4,
 "nbformat_minor": 5
}
