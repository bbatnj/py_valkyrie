{
 "cells": [
  {
   "cell_type": "code",
   "execution_count": 1,
   "id": "17e721dc",
   "metadata": {},
   "outputs": [
    {
     "name": "stderr",
     "output_type": "stream",
     "text": [
      "/tmp/ipykernel_197583/171514420.py:17: DeprecationWarning: Importing display from IPython.core.display is deprecated since IPython 7.14, please import from IPython display\n",
      "  from IPython.core.display import display, HTML\n"
     ]
    },
    {
     "data": {
      "text/html": [
       "<style>.container { width:100% !important; }</style>"
      ],
      "text/plain": [
       "<IPython.core.display.HTML object>"
      ]
     },
     "metadata": {},
     "output_type": "display_data"
    }
   ],
   "source": [
    "import pdb\n",
    "from itertools import product as cartesianproduct\n",
    "from functools import partial\n",
    "\n",
    "import pandas as pd\n",
    "import numpy as np\n",
    "import matplotlib.pyplot as pltr\n",
    "from sklearn.linear_model import LinearRegression as LR\n",
    "from sklearn.cross_decomposition import PLSRegression as PLS\n",
    "import pandas_market_calendars as mcal\n",
    "\n",
    "from valkyrie.data import *\n",
    "from valkyrie.quants import *\n",
    "from valkyrie.tools import *\n",
    "from valkyrie.securities import *\n",
    "\n",
    "from IPython.core.display import display, HTML\n",
    "display(HTML(\"<style>.container { width:100% !important; }</style>\"))\n",
    "%matplotlib notebook"
   ]
  },
  {
   "cell_type": "code",
   "execution_count": 2,
   "id": "9b65170e",
   "metadata": {},
   "outputs": [
    {
     "name": "stdout",
     "output_type": "stream",
     "text": [
      "error loading stocks File d:/valkyrie/data/resampled/hist_ib_raw_md/good_dvd///2020//06//01/AGNCM.h5 does not exist\n",
      "error loading stocks File d:/valkyrie/data/resampled/hist_ib_raw_md/good_dvd///2020//06//02/AGNCM.h5 does not exist\n",
      "error loading stocks File d:/valkyrie/data/resampled/hist_ib_raw_md/good_dvd///2020//06//03/AGNCM.h5 does not exist\n",
      "error loading stocks File d:/valkyrie/data/resampled/hist_ib_raw_md/good_dvd///2020//06//04/AGNCM.h5 does not exist\n",
      "error loading stocks File d:/valkyrie/data/resampled/hist_ib_raw_md/good_dvd///2020//06//05/AGNCM.h5 does not exist\n",
      "error loading stocks File d:/valkyrie/data/resampled/hist_ib_raw_md/good_dvd///2020//06//08/AGNCM.h5 does not exist\n",
      "error loading stocks File d:/valkyrie/data/resampled/hist_ib_raw_md/good_dvd///2020//06//09/AGNCM.h5 does not exist\n",
      "error loading stocks File d:/valkyrie/data/resampled/hist_ib_raw_md/good_dvd///2020//06//10/AGNCM.h5 does not exist\n",
      "error loading stocks File d:/valkyrie/data/resampled/hist_ib_raw_md/good_dvd///2020//06//11/AGNCM.h5 does not exist\n",
      "error loading stocks File d:/valkyrie/data/resampled/hist_ib_raw_md/good_dvd///2020//06//12/AGNCM.h5 does not exist\n",
      "error loading stocks File d:/valkyrie/data/resampled/hist_ib_raw_md/good_dvd///2020//06//15/AGNCM.h5 does not exist\n",
      "error loading stocks File d:/valkyrie/data/resampled/hist_ib_raw_md/good_dvd///2020//06//16/AGNCM.h5 does not exist\n",
      "error loading stocks File d:/valkyrie/data/resampled/hist_ib_raw_md/good_dvd///2020//06//17/AGNCM.h5 does not exist\n",
      "error loading stocks File d:/valkyrie/data/resampled/hist_ib_raw_md/good_dvd///2020//06//18/AGNCM.h5 does not exist\n",
      "error loading stocks File d:/valkyrie/data/resampled/hist_ib_raw_md/good_dvd///2020//06//19/AGNCM.h5 does not exist\n",
      "error loading stocks File d:/valkyrie/data/resampled/hist_ib_raw_md/good_dvd///2020//06//22/AGNCM.h5 does not exist\n",
      "error loading stocks File d:/valkyrie/data/resampled/hist_ib_raw_md/good_dvd///2020//06//23/AGNCM.h5 does not exist\n",
      "error loading stocks File d:/valkyrie/data/resampled/hist_ib_raw_md/good_dvd///2020//06//24/AGNCM.h5 does not exist\n",
      "error loading stocks File d:/valkyrie/data/resampled/hist_ib_raw_md/good_dvd///2020//06//25/AGNCM.h5 does not exist\n",
      "error loading stocks File d:/valkyrie/data/resampled/hist_ib_raw_md/good_dvd///2020//06//26/AGNCM.h5 does not exist\n",
      "error loading stocks File d:/valkyrie/data/resampled/hist_ib_raw_md/good_dvd///2020//06//29/AGNCM.h5 does not exist\n",
      "error loading stocks File d:/valkyrie/data/resampled/hist_ib_raw_md/good_dvd///2020//06//30/AGNCM.h5 does not exist\n",
      "error loading stocks File d:/valkyrie/data/resampled/hist_ib_raw_md/good_dvd///2020//07//01/AGNCM.h5 does not exist\n",
      "error loading stocks File d:/valkyrie/data/resampled/hist_ib_raw_md/good_dvd///2020//07//02/AGNCM.h5 does not exist\n",
      "error loading stocks File d:/valkyrie/data/resampled/hist_ib_raw_md/good_dvd///2020//07//06/AGNCM.h5 does not exist\n",
      "error loading stocks File d:/valkyrie/data/resampled/hist_ib_raw_md/good_dvd///2020//07//07/AGNCM.h5 does not exist\n",
      "error loading stocks File d:/valkyrie/data/resampled/hist_ib_raw_md/good_dvd///2020//07//08/AGNCM.h5 does not exist\n",
      "error loading stocks File d:/valkyrie/data/resampled/hist_ib_raw_md/good_dvd///2020//07//09/AGNCM.h5 does not exist\n",
      "error loading stocks File d:/valkyrie/data/resampled/hist_ib_raw_md/good_dvd///2020//07//10/AGNCM.h5 does not exist\n",
      "error loading stocks File d:/valkyrie/data/resampled/hist_ib_raw_md/good_dvd///2020//07//13/AGNCM.h5 does not exist\n",
      "error loading stocks File d:/valkyrie/data/resampled/hist_ib_raw_md/good_dvd///2020//07//14/AGNCM.h5 does not exist\n",
      "error loading stocks File d:/valkyrie/data/resampled/hist_ib_raw_md/good_dvd///2020//07//15/AGNCM.h5 does not exist\n",
      "error loading stocks File d:/valkyrie/data/resampled/hist_ib_raw_md/good_dvd///2020//07//16/AGNCM.h5 does not exist\n",
      "error loading stocks File d:/valkyrie/data/resampled/hist_ib_raw_md/good_dvd///2020//07//17/AGNCM.h5 does not exist\n",
      "error loading stocks File d:/valkyrie/data/resampled/hist_ib_raw_md/good_dvd///2020//07//20/AGNCM.h5 does not exist\n",
      "error loading stocks File d:/valkyrie/data/resampled/hist_ib_raw_md/good_dvd///2020//07//21/AGNCM.h5 does not exist\n",
      "error loading stocks File d:/valkyrie/data/resampled/hist_ib_raw_md/good_dvd///2020//07//22/AGNCM.h5 does not exist\n",
      "error loading stocks File d:/valkyrie/data/resampled/hist_ib_raw_md/good_dvd///2020//07//23/AGNCM.h5 does not exist\n",
      "error loading stocks File d:/valkyrie/data/resampled/hist_ib_raw_md/good_dvd///2020//07//24/AGNCM.h5 does not exist\n",
      "error loading stocks File d:/valkyrie/data/resampled/hist_ib_raw_md/good_dvd///2020//07//27/AGNCM.h5 does not exist\n",
      "error loading stocks File d:/valkyrie/data/resampled/hist_ib_raw_md/good_dvd///2020//07//28/AGNCM.h5 does not exist\n",
      "error loading stocks File d:/valkyrie/data/resampled/hist_ib_raw_md/good_dvd///2020//07//29/AGNCM.h5 does not exist\n",
      "error loading stocks File d:/valkyrie/data/resampled/hist_ib_raw_md/good_dvd///2020//07//30/AGNCM.h5 does not exist\n",
      "error loading stocks File d:/valkyrie/data/resampled/hist_ib_raw_md/good_dvd///2020//07//31/AGNCM.h5 does not exist\n",
      "error loading stocks File d:/valkyrie/data/resampled/hist_ib_raw_md/good_dvd///2020//08//03/AGNCM.h5 does not exist\n",
      "error loading stocks File d:/valkyrie/data/resampled/hist_ib_raw_md/good_dvd///2020//08//04/AGNCM.h5 does not exist\n",
      "error loading stocks File d:/valkyrie/data/resampled/hist_ib_raw_md/good_dvd///2020//08//05/AGNCM.h5 does not exist\n",
      "error loading stocks File d:/valkyrie/data/resampled/hist_ib_raw_md/good_dvd///2020//08//06/AGNCM.h5 does not exist\n",
      "error loading stocks File d:/valkyrie/data/resampled/hist_ib_raw_md/good_dvd///2020//08//07/AGNCM.h5 does not exist\n",
      "error loading stocks File d:/valkyrie/data/resampled/hist_ib_raw_md/good_dvd///2020//08//10/AGNCM.h5 does not exist\n",
      "error loading stocks File d:/valkyrie/data/resampled/hist_ib_raw_md/good_dvd///2020//08//11/AGNCM.h5 does not exist\n",
      "error loading stocks File d:/valkyrie/data/resampled/hist_ib_raw_md/good_dvd///2020//08//12/AGNCM.h5 does not exist\n",
      "error loading stocks File d:/valkyrie/data/resampled/hist_ib_raw_md/good_dvd///2020//08//13/AGNCM.h5 does not exist\n",
      "error loading stocks File d:/valkyrie/data/resampled/hist_ib_raw_md/good_dvd///2020//08//14/AGNCM.h5 does not exist\n",
      "error loading stocks File d:/valkyrie/data/resampled/hist_ib_raw_md/good_dvd///2020//08//17/AGNCM.h5 does not exist\n",
      "error loading stocks File d:/valkyrie/data/resampled/hist_ib_raw_md/good_dvd///2020//08//18/AGNCM.h5 does not exist\n",
      "error loading stocks File d:/valkyrie/data/resampled/hist_ib_raw_md/good_dvd///2020//08//19/AGNCM.h5 does not exist\n",
      "error loading stocks File d:/valkyrie/data/resampled/hist_ib_raw_md/good_dvd///2020//08//20/AGNCM.h5 does not exist\n",
      "error loading stocks File d:/valkyrie/data/resampled/hist_ib_raw_md/good_dvd///2020//08//21/AGNCM.h5 does not exist\n",
      "error loading stocks File d:/valkyrie/data/resampled/hist_ib_raw_md/good_dvd///2020//08//24/AGNCM.h5 does not exist\n",
      "error loading stocks File d:/valkyrie/data/resampled/hist_ib_raw_md/good_dvd///2020//08//25/AGNCM.h5 does not exist\n",
      "error loading stocks File d:/valkyrie/data/resampled/hist_ib_raw_md/good_dvd///2020//08//26/AGNCM.h5 does not exist\n",
      "error loading stocks File d:/valkyrie/data/resampled/hist_ib_raw_md/good_dvd///2020//08//27/AGNCM.h5 does not exist\n",
      "error loading stocks File d:/valkyrie/data/resampled/hist_ib_raw_md/good_dvd///2020//08//28/AGNCM.h5 does not exist\n",
      "error loading stocks File d:/valkyrie/data/resampled/hist_ib_raw_md/good_dvd///2020//08//31/AGNCM.h5 does not exist\n",
      "error loading stocks File d:/valkyrie/data/resampled/hist_ib_raw_md/good_dvd///2020//09//01/AGNCM.h5 does not exist\n",
      "error loading stocks File d:/valkyrie/data/resampled/hist_ib_raw_md/good_dvd///2020//09//02/AGNCM.h5 does not exist\n",
      "error loading stocks File d:/valkyrie/data/resampled/hist_ib_raw_md/good_dvd///2020//09//03/AGNCM.h5 does not exist\n",
      "error loading stocks File d:/valkyrie/data/resampled/hist_ib_raw_md/good_dvd///2020//09//04/AGNCM.h5 does not exist\n",
      "error loading stocks File d:/valkyrie/data/resampled/hist_ib_raw_md/good_dvd///2020//09//08/AGNCM.h5 does not exist\n",
      "error loading stocks File d:/valkyrie/data/resampled/hist_ib_raw_md/good_dvd///2020//09//09/AGNCM.h5 does not exist\n",
      "error loading stocks File d:/valkyrie/data/resampled/hist_ib_raw_md/good_dvd///2020//09//10/AGNCM.h5 does not exist\n",
      "error loading stocks File d:/valkyrie/data/resampled/hist_ib_raw_md/good_dvd///2020//09//11/AGNCM.h5 does not exist\n",
      "error loading stocks File d:/valkyrie/data/resampled/hist_ib_raw_md/good_dvd///2020//09//14/AGNCM.h5 does not exist\n",
      "error loading stocks File d:/valkyrie/data/resampled/hist_ib_raw_md/good_dvd///2020//09//15/AGNCM.h5 does not exist\n",
      "error loading stocks File d:/valkyrie/data/resampled/hist_ib_raw_md/good_dvd///2020//09//16/AGNCM.h5 does not exist\n",
      "error loading stocks File d:/valkyrie/data/resampled/hist_ib_raw_md/good_dvd///2020//09//17/AGNCM.h5 does not exist\n",
      "error loading stocks File d:/valkyrie/data/resampled/hist_ib_raw_md/good_dvd///2020//09//18/AGNCM.h5 does not exist\n",
      "error loading stocks File d:/valkyrie/data/resampled/hist_ib_raw_md/good_dvd///2020//09//21/AGNCM.h5 does not exist\n",
      "error loading stocks File d:/valkyrie/data/resampled/hist_ib_raw_md/good_dvd///2020//09//22/AGNCM.h5 does not exist\n",
      "error loading stocks File d:/valkyrie/data/resampled/hist_ib_raw_md/good_dvd///2020//09//23/AGNCM.h5 does not exist\n",
      "error loading stocks File d:/valkyrie/data/resampled/hist_ib_raw_md/good_dvd///2020//09//24/AGNCM.h5 does not exist\n",
      "error loading stocks File d:/valkyrie/data/resampled/hist_ib_raw_md/good_dvd///2020//09//25/AGNCM.h5 does not exist\n",
      "error loading stocks File d:/valkyrie/data/resampled/hist_ib_raw_md/good_dvd///2020//09//28/AGNCM.h5 does not exist\n",
      "error loading stocks File d:/valkyrie/data/resampled/hist_ib_raw_md/good_dvd///2020//09//29/AGNCM.h5 does not exist\n",
      "error loading stocks File d:/valkyrie/data/resampled/hist_ib_raw_md/good_dvd///2020//09//30/AGNCM.h5 does not exist\n",
      "error loading stocks File d:/valkyrie/data/resampled/hist_ib_raw_md/good_dvd///2020//10//01/AGNCM.h5 does not exist\n",
      "error loading stocks File d:/valkyrie/data/resampled/hist_ib_raw_md/good_dvd///2020//10//02/AGNCM.h5 does not exist\n",
      "error loading stocks File d:/valkyrie/data/resampled/hist_ib_raw_md/good_dvd///2020//10//05/AGNCM.h5 does not exist\n",
      "error loading stocks File d:/valkyrie/data/resampled/hist_ib_raw_md/good_dvd///2020//10//06/AGNCM.h5 does not exist\n",
      "error loading stocks File d:/valkyrie/data/resampled/hist_ib_raw_md/good_dvd///2020//10//07/AGNCM.h5 does not exist\n",
      "error loading stocks File d:/valkyrie/data/resampled/hist_ib_raw_md/good_dvd///2020//10//08/AGNCM.h5 does not exist\n",
      "error loading stocks File d:/valkyrie/data/resampled/hist_ib_raw_md/good_dvd///2020//10//09/AGNCM.h5 does not exist\n",
      "error loading stocks File d:/valkyrie/data/resampled/hist_ib_raw_md/good_dvd///2020//10//12/AGNCM.h5 does not exist\n",
      "error loading stocks File d:/valkyrie/data/resampled/hist_ib_raw_md/good_dvd///2020//10//13/AGNCM.h5 does not exist\n",
      "error loading stocks File d:/valkyrie/data/resampled/hist_ib_raw_md/good_dvd///2020//10//14/AGNCM.h5 does not exist\n",
      "error loading stocks File d:/valkyrie/data/resampled/hist_ib_raw_md/good_dvd///2020//10//15/AGNCM.h5 does not exist\n",
      "error loading stocks File d:/valkyrie/data/resampled/hist_ib_raw_md/good_dvd///2020//10//16/AGNCM.h5 does not exist\n",
      "error loading stocks File d:/valkyrie/data/resampled/hist_ib_raw_md/good_dvd///2020//10//19/AGNCM.h5 does not exist\n",
      "error loading stocks File d:/valkyrie/data/resampled/hist_ib_raw_md/good_dvd///2020//10//20/AGNCM.h5 does not exist\n",
      "error loading stocks File d:/valkyrie/data/resampled/hist_ib_raw_md/good_dvd///2020//10//21/AGNCM.h5 does not exist\n",
      "error loading stocks File d:/valkyrie/data/resampled/hist_ib_raw_md/good_dvd///2020//10//22/AGNCM.h5 does not exist\n",
      "error loading stocks File d:/valkyrie/data/resampled/hist_ib_raw_md/good_dvd///2020//10//23/AGNCM.h5 does not exist\n",
      "error loading stocks File d:/valkyrie/data/resampled/hist_ib_raw_md/good_dvd///2020//10//26/AGNCM.h5 does not exist\n",
      "error loading stocks File d:/valkyrie/data/resampled/hist_ib_raw_md/good_dvd///2020//10//27/AGNCM.h5 does not exist\n",
      "error loading stocks File d:/valkyrie/data/resampled/hist_ib_raw_md/good_dvd///2020//10//28/AGNCM.h5 does not exist\n",
      "error loading stocks File d:/valkyrie/data/resampled/hist_ib_raw_md/good_dvd///2020//10//29/AGNCM.h5 does not exist\n",
      "error loading stocks File d:/valkyrie/data/resampled/hist_ib_raw_md/good_dvd///2020//10//30/AGNCM.h5 does not exist\n",
      "error loading stocks File d:/valkyrie/data/resampled/hist_ib_raw_md/good_dvd///2020//11//02/AGNCM.h5 does not exist\n",
      "error loading stocks File d:/valkyrie/data/resampled/hist_ib_raw_md/good_dvd///2020//11//03/AGNCM.h5 does not exist\n",
      "error loading stocks File d:/valkyrie/data/resampled/hist_ib_raw_md/good_dvd///2020//11//04/AGNCM.h5 does not exist\n",
      "error loading stocks File d:/valkyrie/data/resampled/hist_ib_raw_md/good_dvd///2020//11//05/AGNCM.h5 does not exist\n",
      "error loading stocks File d:/valkyrie/data/resampled/hist_ib_raw_md/good_dvd///2020//11//06/AGNCM.h5 does not exist\n",
      "error loading stocks File d:/valkyrie/data/resampled/hist_ib_raw_md/good_dvd///2020//11//09/AGNCM.h5 does not exist\n",
      "error loading stocks File d:/valkyrie/data/resampled/hist_ib_raw_md/good_dvd///2020//11//10/AGNCM.h5 does not exist\n",
      "error loading stocks File d:/valkyrie/data/resampled/hist_ib_raw_md/good_dvd///2020//11//11/AGNCM.h5 does not exist\n",
      "error loading stocks File d:/valkyrie/data/resampled/hist_ib_raw_md/good_dvd///2020//11//12/AGNCM.h5 does not exist\n",
      "error loading stocks File d:/valkyrie/data/resampled/hist_ib_raw_md/good_dvd///2020//11//13/AGNCM.h5 does not exist\n",
      "error loading stocks File d:/valkyrie/data/resampled/hist_ib_raw_md/good_dvd///2020//11//16/AGNCM.h5 does not exist\n",
      "error loading stocks File d:/valkyrie/data/resampled/hist_ib_raw_md/good_dvd///2020//11//17/AGNCM.h5 does not exist\n",
      "error loading stocks File d:/valkyrie/data/resampled/hist_ib_raw_md/good_dvd///2020//11//18/AGNCM.h5 does not exist\n",
      "error loading stocks File d:/valkyrie/data/resampled/hist_ib_raw_md/good_dvd///2020//11//19/AGNCM.h5 does not exist\n",
      "error loading stocks File d:/valkyrie/data/resampled/hist_ib_raw_md/good_dvd///2020//11//20/AGNCM.h5 does not exist\n",
      "error loading stocks File d:/valkyrie/data/resampled/hist_ib_raw_md/good_dvd///2020//11//23/AGNCM.h5 does not exist\n",
      "error loading stocks File d:/valkyrie/data/resampled/hist_ib_raw_md/good_dvd///2020//11//24/AGNCM.h5 does not exist\n",
      "error loading stocks File d:/valkyrie/data/resampled/hist_ib_raw_md/good_dvd///2020//11//25/AGNCM.h5 does not exist\n",
      "error loading stocks File d:/valkyrie/data/resampled/hist_ib_raw_md/good_dvd///2020//11//27/AGNCM.h5 does not exist\n",
      "error loading stocks File d:/valkyrie/data/resampled/hist_ib_raw_md/good_dvd///2020//11//30/AGNCM.h5 does not exist\n",
      "error loading stocks File d:/valkyrie/data/resampled/hist_ib_raw_md/good_dvd///2020//12//01/AGNCM.h5 does not exist\n",
      "error loading stocks File d:/valkyrie/data/resampled/hist_ib_raw_md/good_dvd///2020//12//02/AGNCM.h5 does not exist\n",
      "error loading stocks File d:/valkyrie/data/resampled/hist_ib_raw_md/good_dvd///2020//12//03/AGNCM.h5 does not exist\n",
      "error loading stocks File d:/valkyrie/data/resampled/hist_ib_raw_md/good_dvd///2020//12//04/AGNCM.h5 does not exist\n",
      "error loading stocks File d:/valkyrie/data/resampled/hist_ib_raw_md/good_dvd///2020//12//07/AGNCM.h5 does not exist\n",
      "error loading stocks File d:/valkyrie/data/resampled/hist_ib_raw_md/good_dvd///2020//12//08/AGNCM.h5 does not exist\n",
      "error loading stocks File d:/valkyrie/data/resampled/hist_ib_raw_md/good_dvd///2020//12//09/AGNCM.h5 does not exist\n",
      "error loading stocks File d:/valkyrie/data/resampled/hist_ib_raw_md/good_dvd///2020//12//10/AGNCM.h5 does not exist\n",
      "error loading stocks File d:/valkyrie/data/resampled/hist_ib_raw_md/good_dvd///2020//12//11/AGNCM.h5 does not exist\n",
      "error loading stocks File d:/valkyrie/data/resampled/hist_ib_raw_md/good_dvd///2020//12//14/AGNCM.h5 does not exist\n",
      "error loading stocks File d:/valkyrie/data/resampled/hist_ib_raw_md/good_dvd///2020//12//15/AGNCM.h5 does not exist\n",
      "error loading stocks File d:/valkyrie/data/resampled/hist_ib_raw_md/good_dvd///2020//12//16/AGNCM.h5 does not exist\n",
      "error loading stocks File d:/valkyrie/data/resampled/hist_ib_raw_md/good_dvd///2020//12//17/AGNCM.h5 does not exist\n",
      "error loading stocks File d:/valkyrie/data/resampled/hist_ib_raw_md/good_dvd///2020//12//18/AGNCM.h5 does not exist\n",
      "error loading stocks File d:/valkyrie/data/resampled/hist_ib_raw_md/good_dvd///2020//12//21/AGNCM.h5 does not exist\n",
      "error loading stocks File d:/valkyrie/data/resampled/hist_ib_raw_md/good_dvd///2020//12//22/AGNCM.h5 does not exist\n",
      "error loading stocks File d:/valkyrie/data/resampled/hist_ib_raw_md/good_dvd///2020//12//23/AGNCM.h5 does not exist\n",
      "error loading stocks File d:/valkyrie/data/resampled/hist_ib_raw_md/good_dvd///2020//12//24/AGNCM.h5 does not exist\n",
      "error loading stocks File d:/valkyrie/data/resampled/hist_ib_raw_md/good_dvd///2020//12//28/AGNCM.h5 does not exist\n",
      "error loading stocks File d:/valkyrie/data/resampled/hist_ib_raw_md/good_dvd///2020//12//29/AGNCM.h5 does not exist\n",
      "error loading stocks File d:/valkyrie/data/resampled/hist_ib_raw_md/good_dvd///2020//12//30/AGNCM.h5 does not exist\n",
      "error loading stocks File d:/valkyrie/data/resampled/hist_ib_raw_md/good_dvd///2020//12//31/AGNCM.h5 does not exist\n",
      "error loading stocks File d:/valkyrie/data/resampled/hist_ib_raw_md/good_dvd///2021//01//04/AGNCM.h5 does not exist\n",
      "error loading stocks File d:/valkyrie/data/resampled/hist_ib_raw_md/good_dvd///2021//01//05/AGNCM.h5 does not exist\n",
      "error loading stocks File d:/valkyrie/data/resampled/hist_ib_raw_md/good_dvd///2021//01//06/AGNCM.h5 does not exist\n",
      "error loading stocks File d:/valkyrie/data/resampled/hist_ib_raw_md/good_dvd///2021//01//07/AGNCM.h5 does not exist\n",
      "error loading stocks File d:/valkyrie/data/resampled/hist_ib_raw_md/good_dvd///2021//01//08/AGNCM.h5 does not exist\n",
      "error loading stocks File d:/valkyrie/data/resampled/hist_ib_raw_md/good_dvd///2021//01//11/AGNCM.h5 does not exist\n",
      "error loading stocks File d:/valkyrie/data/resampled/hist_ib_raw_md/good_dvd///2021//01//12/AGNCM.h5 does not exist\n",
      "error loading stocks File d:/valkyrie/data/resampled/hist_ib_raw_md/good_dvd///2021//01//13/AGNCM.h5 does not exist\n",
      "error loading stocks File d:/valkyrie/data/resampled/hist_ib_raw_md/good_dvd///2021//01//14/AGNCM.h5 does not exist\n",
      "error loading stocks File d:/valkyrie/data/resampled/hist_ib_raw_md/good_dvd///2021//01//15/AGNCM.h5 does not exist\n",
      "error loading stocks File d:/valkyrie/data/resampled/hist_ib_raw_md/good_dvd///2021//01//19/AGNCM.h5 does not exist\n",
      "error loading stocks File d:/valkyrie/data/resampled/hist_ib_raw_md/good_dvd///2021//01//20/AGNCM.h5 does not exist\n",
      "error loading stocks File d:/valkyrie/data/resampled/hist_ib_raw_md/good_dvd///2021//01//21/AGNCM.h5 does not exist\n",
      "error loading stocks File d:/valkyrie/data/resampled/hist_ib_raw_md/good_dvd///2021//01//22/AGNCM.h5 does not exist\n",
      "error loading stocks File d:/valkyrie/data/resampled/hist_ib_raw_md/good_dvd///2021//01//25/AGNCM.h5 does not exist\n",
      "error loading stocks File d:/valkyrie/data/resampled/hist_ib_raw_md/good_dvd///2021//01//26/AGNCM.h5 does not exist\n",
      "error loading stocks File d:/valkyrie/data/resampled/hist_ib_raw_md/good_dvd///2021//01//27/AGNCM.h5 does not exist\n",
      "error loading stocks File d:/valkyrie/data/resampled/hist_ib_raw_md/good_dvd///2021//01//28/AGNCM.h5 does not exist\n",
      "error loading stocks File d:/valkyrie/data/resampled/hist_ib_raw_md/good_dvd///2021//01//29/AGNCM.h5 does not exist\n",
      "error loading stocks File d:/valkyrie/data/resampled/hist_ib_raw_md/good_dvd///2021//02//01/AGNCM.h5 does not exist\n",
      "error loading stocks File d:/valkyrie/data/resampled/hist_ib_raw_md/good_dvd///2021//02//02/AGNCM.h5 does not exist\n",
      "error loading stocks File d:/valkyrie/data/resampled/hist_ib_raw_md/good_dvd///2021//02//03/AGNCM.h5 does not exist\n",
      "error loading stocks File d:/valkyrie/data/resampled/hist_ib_raw_md/good_dvd///2021//02//04/AGNCM.h5 does not exist\n",
      "error loading stocks File d:/valkyrie/data/resampled/hist_ib_raw_md/good_dvd///2021//02//05/AGNCM.h5 does not exist\n",
      "error loading stocks File d:/valkyrie/data/resampled/hist_ib_raw_md/good_dvd///2021//02//08/AGNCM.h5 does not exist\n",
      "error loading stocks File d:/valkyrie/data/resampled/hist_ib_raw_md/good_dvd///2021//02//09/AGNCM.h5 does not exist\n",
      "error loading stocks File d:/valkyrie/data/resampled/hist_ib_raw_md/good_dvd///2021//02//10/AGNCM.h5 does not exist\n",
      "error loading stocks File d:/valkyrie/data/resampled/hist_ib_raw_md/good_dvd///2021//02//11/AGNCM.h5 does not exist\n",
      "error loading stocks File d:/valkyrie/data/resampled/hist_ib_raw_md/good_dvd///2021//02//12/AGNCM.h5 does not exist\n",
      "error loading stocks File d:/valkyrie/data/resampled/hist_ib_raw_md/good_dvd///2021//02//16/AGNCM.h5 does not exist\n",
      "error loading stocks File d:/valkyrie/data/resampled/hist_ib_raw_md/good_dvd///2021//02//17/AGNCM.h5 does not exist\n",
      "error loading stocks File d:/valkyrie/data/resampled/hist_ib_raw_md/good_dvd///2021//02//18/AGNCM.h5 does not exist\n",
      "error loading stocks File d:/valkyrie/data/resampled/hist_ib_raw_md/good_dvd///2021//02//19/AGNCM.h5 does not exist\n",
      "error loading stocks File d:/valkyrie/data/resampled/hist_ib_raw_md/good_dvd///2021//02//22/AGNCM.h5 does not exist\n",
      "error loading stocks File d:/valkyrie/data/resampled/hist_ib_raw_md/good_dvd///2021//02//23/AGNCM.h5 does not exist\n",
      "error loading stocks File d:/valkyrie/data/resampled/hist_ib_raw_md/good_dvd///2021//02//24/AGNCM.h5 does not exist\n",
      "error loading stocks File d:/valkyrie/data/resampled/hist_ib_raw_md/good_dvd///2021//02//25/AGNCM.h5 does not exist\n",
      "error loading stocks File d:/valkyrie/data/resampled/hist_ib_raw_md/good_dvd///2021//02//26/AGNCM.h5 does not exist\n",
      "error loading stocks File d:/valkyrie/data/resampled/hist_ib_raw_md/good_dvd///2021//03//01/AGNCM.h5 does not exist\n",
      "error loading stocks File d:/valkyrie/data/resampled/hist_ib_raw_md/good_dvd///2021//03//02/AGNCM.h5 does not exist\n",
      "error loading stocks File d:/valkyrie/data/resampled/hist_ib_raw_md/good_dvd///2021//03//03/AGNCM.h5 does not exist\n",
      "error loading stocks File d:/valkyrie/data/resampled/hist_ib_raw_md/good_dvd///2021//03//04/AGNCM.h5 does not exist\n",
      "error loading stocks File d:/valkyrie/data/resampled/hist_ib_raw_md/good_dvd///2021//03//05/AGNCM.h5 does not exist\n",
      "error loading stocks File d:/valkyrie/data/resampled/hist_ib_raw_md/good_dvd///2021//03//08/AGNCM.h5 does not exist\n",
      "error loading stocks File d:/valkyrie/data/resampled/hist_ib_raw_md/good_dvd///2021//03//09/AGNCM.h5 does not exist\n",
      "error loading stocks File d:/valkyrie/data/resampled/hist_ib_raw_md/good_dvd///2021//03//10/AGNCM.h5 does not exist\n",
      "error loading stocks File d:/valkyrie/data/resampled/hist_ib_raw_md/good_dvd///2021//03//11/AGNCM.h5 does not exist\n",
      "error loading stocks File d:/valkyrie/data/resampled/hist_ib_raw_md/good_dvd///2021//03//12/AGNCM.h5 does not exist\n",
      "error loading stocks File d:/valkyrie/data/resampled/hist_ib_raw_md/good_dvd///2021//03//15/AGNCM.h5 does not exist\n",
      "error loading stocks File d:/valkyrie/data/resampled/hist_ib_raw_md/good_dvd///2021//03//16/AGNCM.h5 does not exist\n",
      "error loading stocks File d:/valkyrie/data/resampled/hist_ib_raw_md/good_dvd///2021//03//17/AGNCM.h5 does not exist\n",
      "error loading stocks File d:/valkyrie/data/resampled/hist_ib_raw_md/good_dvd///2021//03//18/AGNCM.h5 does not exist\n",
      "error loading stocks File d:/valkyrie/data/resampled/hist_ib_raw_md/good_dvd///2021//03//19/AGNCM.h5 does not exist\n",
      "error loading stocks File d:/valkyrie/data/resampled/hist_ib_raw_md/good_dvd///2021//03//22/AGNCM.h5 does not exist\n",
      "error loading stocks File d:/valkyrie/data/resampled/hist_ib_raw_md/good_dvd///2021//03//23/AGNCM.h5 does not exist\n",
      "error loading stocks File d:/valkyrie/data/resampled/hist_ib_raw_md/good_dvd///2021//03//24/AGNCM.h5 does not exist\n",
      "error loading stocks File d:/valkyrie/data/resampled/hist_ib_raw_md/good_dvd///2021//03//25/AGNCM.h5 does not exist\n",
      "error loading stocks File d:/valkyrie/data/resampled/hist_ib_raw_md/good_dvd///2021//03//26/AGNCM.h5 does not exist\n",
      "error loading stocks File d:/valkyrie/data/resampled/hist_ib_raw_md/good_dvd///2021//03//29/AGNCM.h5 does not exist\n",
      "error loading stocks File d:/valkyrie/data/resampled/hist_ib_raw_md/good_dvd///2021//03//30/AGNCM.h5 does not exist\n",
      "error loading stocks File d:/valkyrie/data/resampled/hist_ib_raw_md/good_dvd///2021//03//31/AGNCM.h5 does not exist\n",
      "error loading stocks File d:/valkyrie/data/resampled/hist_ib_raw_md/good_dvd///2021//04//01/AGNCM.h5 does not exist\n",
      "error loading stocks File d:/valkyrie/data/resampled/hist_ib_raw_md/good_dvd///2021//04//05/AGNCM.h5 does not exist\n",
      "error loading stocks File d:/valkyrie/data/resampled/hist_ib_raw_md/good_dvd///2021//04//06/AGNCM.h5 does not exist\n",
      "error loading stocks File d:/valkyrie/data/resampled/hist_ib_raw_md/good_dvd///2021//04//07/AGNCM.h5 does not exist\n",
      "error loading stocks File d:/valkyrie/data/resampled/hist_ib_raw_md/good_dvd///2021//04//08/AGNCM.h5 does not exist\n",
      "error loading stocks File d:/valkyrie/data/resampled/hist_ib_raw_md/good_dvd///2021//04//09/AGNCM.h5 does not exist\n",
      "error loading stocks File d:/valkyrie/data/resampled/hist_ib_raw_md/good_dvd///2021//04//12/AGNCM.h5 does not exist\n",
      "error loading stocks File d:/valkyrie/data/resampled/hist_ib_raw_md/good_dvd///2021//04//13/AGNCM.h5 does not exist\n",
      "error loading stocks File d:/valkyrie/data/resampled/hist_ib_raw_md/good_dvd///2021//04//14/AGNCM.h5 does not exist\n",
      "error loading stocks File d:/valkyrie/data/resampled/hist_ib_raw_md/good_dvd///2021//04//15/AGNCM.h5 does not exist\n",
      "error loading stocks File d:/valkyrie/data/resampled/hist_ib_raw_md/good_dvd///2021//04//16/AGNCM.h5 does not exist\n",
      "error loading stocks File d:/valkyrie/data/resampled/hist_ib_raw_md/good_dvd///2021//04//19/AGNCM.h5 does not exist\n",
      "error loading stocks File d:/valkyrie/data/resampled/hist_ib_raw_md/good_dvd///2021//04//20/AGNCM.h5 does not exist\n",
      "error loading stocks File d:/valkyrie/data/resampled/hist_ib_raw_md/good_dvd///2021//04//21/AGNCM.h5 does not exist\n",
      "error loading stocks File d:/valkyrie/data/resampled/hist_ib_raw_md/good_dvd///2021//04//22/AGNCM.h5 does not exist\n",
      "error loading stocks File d:/valkyrie/data/resampled/hist_ib_raw_md/good_dvd///2021//04//23/AGNCM.h5 does not exist\n",
      "error loading stocks File d:/valkyrie/data/resampled/hist_ib_raw_md/good_dvd///2021//04//26/AGNCM.h5 does not exist\n",
      "error loading stocks File d:/valkyrie/data/resampled/hist_ib_raw_md/good_dvd///2021//04//27/AGNCM.h5 does not exist\n",
      "error loading stocks File d:/valkyrie/data/resampled/hist_ib_raw_md/good_dvd///2021//04//28/AGNCM.h5 does not exist\n",
      "error loading stocks File d:/valkyrie/data/resampled/hist_ib_raw_md/good_dvd///2021//04//29/AGNCM.h5 does not exist\n",
      "error loading stocks File d:/valkyrie/data/resampled/hist_ib_raw_md/good_dvd///2021//04//30/AGNCM.h5 does not exist\n",
      "error loading stocks File d:/valkyrie/data/resampled/hist_ib_raw_md/good_dvd///2021//05//03/AGNCM.h5 does not exist\n",
      "error loading stocks File d:/valkyrie/data/resampled/hist_ib_raw_md/good_dvd///2021//05//04/AGNCM.h5 does not exist\n",
      "error loading stocks File d:/valkyrie/data/resampled/hist_ib_raw_md/good_dvd///2021//05//05/AGNCM.h5 does not exist\n",
      "error loading stocks File d:/valkyrie/data/resampled/hist_ib_raw_md/good_dvd///2021//05//06/AGNCM.h5 does not exist\n",
      "error loading stocks File d:/valkyrie/data/resampled/hist_ib_raw_md/good_dvd///2021//05//07/AGNCM.h5 does not exist\n",
      "error loading stocks File d:/valkyrie/data/resampled/hist_ib_raw_md/good_dvd///2021//05//10/AGNCM.h5 does not exist\n",
      "error loading stocks File d:/valkyrie/data/resampled/hist_ib_raw_md/good_dvd///2021//05//11/AGNCM.h5 does not exist\n",
      "error loading stocks File d:/valkyrie/data/resampled/hist_ib_raw_md/good_dvd///2021//05//12/AGNCM.h5 does not exist\n",
      "error loading stocks File d:/valkyrie/data/resampled/hist_ib_raw_md/good_dvd///2021//05//13/AGNCM.h5 does not exist\n",
      "error loading stocks File d:/valkyrie/data/resampled/hist_ib_raw_md/good_dvd///2021//05//14/AGNCM.h5 does not exist\n",
      "error loading stocks File d:/valkyrie/data/resampled/hist_ib_raw_md/good_dvd///2021//05//17/AGNCM.h5 does not exist\n",
      "error loading stocks File d:/valkyrie/data/resampled/hist_ib_raw_md/good_dvd///2021//05//18/AGNCM.h5 does not exist\n",
      "error loading stocks File d:/valkyrie/data/resampled/hist_ib_raw_md/good_dvd///2021//05//19/AGNCM.h5 does not exist\n",
      "error loading stocks File d:/valkyrie/data/resampled/hist_ib_raw_md/good_dvd///2021//05//20/AGNCM.h5 does not exist\n",
      "error loading stocks File d:/valkyrie/data/resampled/hist_ib_raw_md/good_dvd///2021//05//21/AGNCM.h5 does not exist\n",
      "error loading stocks File d:/valkyrie/data/resampled/hist_ib_raw_md/good_dvd///2021//05//24/AGNCM.h5 does not exist\n",
      "error loading stocks File d:/valkyrie/data/resampled/hist_ib_raw_md/good_dvd///2021//05//25/AGNCM.h5 does not exist\n",
      "error loading stocks File d:/valkyrie/data/resampled/hist_ib_raw_md/good_dvd///2021//05//26/AGNCM.h5 does not exist\n",
      "error loading stocks File d:/valkyrie/data/resampled/hist_ib_raw_md/good_dvd///2021//05//27/AGNCM.h5 does not exist\n",
      "error loading stocks File d:/valkyrie/data/resampled/hist_ib_raw_md/good_dvd///2021//05//28/AGNCM.h5 does not exist\n"
     ]
    },
    {
     "ename": "ValueError",
     "evalue": "No objects to concatenate",
     "output_type": "error",
     "traceback": [
      "\u001b[0;31m---------------------------------------------------------------------------\u001b[0m",
      "\u001b[0;31mValueError\u001b[0m                                Traceback (most recent call last)",
      "Input \u001b[0;32mIn [2]\u001b[0m, in \u001b[0;36m<cell line: 8>\u001b[0;34m()\u001b[0m\n\u001b[1;32m      6\u001b[0m \u001b[38;5;66;03m#stocks = ['AGNCM','AGNCN']#,'PFF']\u001b[39;00m\n\u001b[1;32m      7\u001b[0m sdate, edate \u001b[38;5;241m=\u001b[39m\u001b[38;5;124m'\u001b[39m\u001b[38;5;124m2020-06-01\u001b[39m\u001b[38;5;124m'\u001b[39m, \u001b[38;5;124m'\u001b[39m\u001b[38;5;124m2021-05-31\u001b[39m\u001b[38;5;124m'\u001b[39m\n\u001b[0;32m----> 8\u001b[0m xy_builder \u001b[38;5;241m=\u001b[39m \u001b[43mDataMgr\u001b[49m\u001b[43m(\u001b[49m\u001b[43msdate\u001b[49m\u001b[43m \u001b[49m\u001b[38;5;241;43m=\u001b[39;49m\u001b[43m \u001b[49m\u001b[43msdate\u001b[49m\u001b[43m,\u001b[49m\u001b[43m \u001b[49m\u001b[43medate\u001b[49m\u001b[43m \u001b[49m\u001b[38;5;241;43m=\u001b[39;49m\u001b[43m \u001b[49m\u001b[43medate\u001b[49m\u001b[43m,\u001b[49m\u001b[43m \u001b[49m\u001b[43mstocks\u001b[49m\u001b[43m \u001b[49m\u001b[38;5;241;43m=\u001b[39;49m\u001b[43m \u001b[49m\u001b[43mstocks\u001b[49m\u001b[43m,\u001b[49m\u001b[43m \u001b[49m\u001b[43mema_mults\u001b[49m\u001b[38;5;241;43m=\u001b[39;49m\u001b[43m[\u001b[49m\u001b[38;5;241;43m1\u001b[39;49m\u001b[43m,\u001b[49m\u001b[38;5;241;43m5\u001b[39;49m\u001b[43m,\u001b[49m\u001b[38;5;241;43m25\u001b[39;49m\u001b[43m,\u001b[49m\u001b[38;5;241;43m125\u001b[39;49m\u001b[43m]\u001b[49m\u001b[43m)\u001b[49m\n",
      "File \u001b[0;32m~/projects/valkyrie/python/lib/valkyrie/quants.py:365\u001b[0m, in \u001b[0;36mDataMgr.__init__\u001b[0;34m(self, sdate, edate, stocks, ema_mults, name, data_path)\u001b[0m\n\u001b[1;32m    363\u001b[0m \u001b[38;5;28mself\u001b[39m\u001b[38;5;241m.\u001b[39mstk2df \u001b[38;5;241m=\u001b[39m {}\n\u001b[1;32m    364\u001b[0m \u001b[38;5;28;01mfor\u001b[39;00m stk \u001b[38;5;129;01min\u001b[39;00m \u001b[38;5;28mself\u001b[39m\u001b[38;5;241m.\u001b[39mstocks:\n\u001b[0;32m--> 365\u001b[0m   df \u001b[38;5;241m=\u001b[39m \u001b[43m_load_per_stock\u001b[49m\u001b[43m(\u001b[49m\u001b[43mstk\u001b[49m\u001b[43m)\u001b[49m\n\u001b[1;32m    366\u001b[0m   df[\u001b[38;5;124m'\u001b[39m\u001b[38;5;124ms4\u001b[39m\u001b[38;5;124m'\u001b[39m] \u001b[38;5;241m=\u001b[39m df\u001b[38;5;241m.\u001b[39meval(\u001b[38;5;124m'\u001b[39m\u001b[38;5;124ms2 * s2\u001b[39m\u001b[38;5;124m'\u001b[39m)\n\u001b[1;32m    367\u001b[0m   df \u001b[38;5;241m=\u001b[39m calc_wemas(df, \u001b[38;5;28mself\u001b[39m\u001b[38;5;241m.\u001b[39mema_mults, \u001b[38;5;124m'\u001b[39m\u001b[38;5;124mcy_upx\u001b[39m\u001b[38;5;124m'\u001b[39m, \u001b[38;5;124m'\u001b[39m\u001b[38;5;124ms2\u001b[39m\u001b[38;5;124m'\u001b[39m, \u001b[38;5;241m0.01\u001b[39m \u001b[38;5;241m*\u001b[39m\u001b[38;5;241m*\u001b[39m \u001b[38;5;241m2\u001b[39m, ycol\u001b[38;5;241m=\u001b[39m\u001b[38;5;124m'\u001b[39m\u001b[38;5;124mcy_upx_ema\u001b[39m\u001b[38;5;124m'\u001b[39m)\n",
      "File \u001b[0;32m~/projects/valkyrie/python/lib/valkyrie/quants.py:360\u001b[0m, in \u001b[0;36mDataMgr.__init__.<locals>._load_per_stock\u001b[0;34m(stk)\u001b[0m\n\u001b[1;32m    357\u001b[0m   \u001b[38;5;28;01mexcept\u001b[39;00m \u001b[38;5;167;01mException\u001b[39;00m \u001b[38;5;28;01mas\u001b[39;00m e:\n\u001b[1;32m    358\u001b[0m     \u001b[38;5;28mprint\u001b[39m(\u001b[38;5;124mf\u001b[39m\u001b[38;5;124m'\u001b[39m\u001b[38;5;124merror loading stocks \u001b[39m\u001b[38;5;132;01m{\u001b[39;00me\u001b[38;5;132;01m}\u001b[39;00m\u001b[38;5;124m'\u001b[39m)\n\u001b[0;32m--> 360\u001b[0m df_per_stk \u001b[38;5;241m=\u001b[39m \u001b[43mpd\u001b[49m\u001b[38;5;241;43m.\u001b[39;49m\u001b[43mconcat\u001b[49m\u001b[43m(\u001b[49m\u001b[43mdf_per_stk\u001b[49m\u001b[43m)\u001b[49m\n\u001b[1;32m    361\u001b[0m \u001b[38;5;28;01mreturn\u001b[39;00m df_per_stk\n",
      "File \u001b[0;32m~/projects/valkyrie/python/valkyrie_venv/lib/python3.9/site-packages/pandas/util/_decorators.py:311\u001b[0m, in \u001b[0;36mdeprecate_nonkeyword_arguments.<locals>.decorate.<locals>.wrapper\u001b[0;34m(*args, **kwargs)\u001b[0m\n\u001b[1;32m    305\u001b[0m \u001b[38;5;28;01mif\u001b[39;00m \u001b[38;5;28mlen\u001b[39m(args) \u001b[38;5;241m>\u001b[39m num_allow_args:\n\u001b[1;32m    306\u001b[0m     warnings\u001b[38;5;241m.\u001b[39mwarn(\n\u001b[1;32m    307\u001b[0m         msg\u001b[38;5;241m.\u001b[39mformat(arguments\u001b[38;5;241m=\u001b[39marguments),\n\u001b[1;32m    308\u001b[0m         \u001b[38;5;167;01mFutureWarning\u001b[39;00m,\n\u001b[1;32m    309\u001b[0m         stacklevel\u001b[38;5;241m=\u001b[39mstacklevel,\n\u001b[1;32m    310\u001b[0m     )\n\u001b[0;32m--> 311\u001b[0m \u001b[38;5;28;01mreturn\u001b[39;00m \u001b[43mfunc\u001b[49m\u001b[43m(\u001b[49m\u001b[38;5;241;43m*\u001b[39;49m\u001b[43margs\u001b[49m\u001b[43m,\u001b[49m\u001b[43m \u001b[49m\u001b[38;5;241;43m*\u001b[39;49m\u001b[38;5;241;43m*\u001b[39;49m\u001b[43mkwargs\u001b[49m\u001b[43m)\u001b[49m\n",
      "File \u001b[0;32m~/projects/valkyrie/python/valkyrie_venv/lib/python3.9/site-packages/pandas/core/reshape/concat.py:347\u001b[0m, in \u001b[0;36mconcat\u001b[0;34m(objs, axis, join, ignore_index, keys, levels, names, verify_integrity, sort, copy)\u001b[0m\n\u001b[1;32m    143\u001b[0m \u001b[38;5;129m@deprecate_nonkeyword_arguments\u001b[39m(version\u001b[38;5;241m=\u001b[39m\u001b[38;5;28;01mNone\u001b[39;00m, allowed_args\u001b[38;5;241m=\u001b[39m[\u001b[38;5;124m\"\u001b[39m\u001b[38;5;124mobjs\u001b[39m\u001b[38;5;124m\"\u001b[39m])\n\u001b[1;32m    144\u001b[0m \u001b[38;5;28;01mdef\u001b[39;00m \u001b[38;5;21mconcat\u001b[39m(\n\u001b[1;32m    145\u001b[0m     objs: Iterable[NDFrame] \u001b[38;5;241m|\u001b[39m Mapping[Hashable, NDFrame],\n\u001b[0;32m   (...)\u001b[0m\n\u001b[1;32m    154\u001b[0m     copy: \u001b[38;5;28mbool\u001b[39m \u001b[38;5;241m=\u001b[39m \u001b[38;5;28;01mTrue\u001b[39;00m,\n\u001b[1;32m    155\u001b[0m ) \u001b[38;5;241m-\u001b[39m\u001b[38;5;241m>\u001b[39m DataFrame \u001b[38;5;241m|\u001b[39m Series:\n\u001b[1;32m    156\u001b[0m     \u001b[38;5;124;03m\"\"\"\u001b[39;00m\n\u001b[1;32m    157\u001b[0m \u001b[38;5;124;03m    Concatenate pandas objects along a particular axis with optional set logic\u001b[39;00m\n\u001b[1;32m    158\u001b[0m \u001b[38;5;124;03m    along the other axes.\u001b[39;00m\n\u001b[0;32m   (...)\u001b[0m\n\u001b[1;32m    345\u001b[0m \u001b[38;5;124;03m    ValueError: Indexes have overlapping values: ['a']\u001b[39;00m\n\u001b[1;32m    346\u001b[0m \u001b[38;5;124;03m    \"\"\"\u001b[39;00m\n\u001b[0;32m--> 347\u001b[0m     op \u001b[38;5;241m=\u001b[39m \u001b[43m_Concatenator\u001b[49m\u001b[43m(\u001b[49m\n\u001b[1;32m    348\u001b[0m \u001b[43m        \u001b[49m\u001b[43mobjs\u001b[49m\u001b[43m,\u001b[49m\n\u001b[1;32m    349\u001b[0m \u001b[43m        \u001b[49m\u001b[43maxis\u001b[49m\u001b[38;5;241;43m=\u001b[39;49m\u001b[43maxis\u001b[49m\u001b[43m,\u001b[49m\n\u001b[1;32m    350\u001b[0m \u001b[43m        \u001b[49m\u001b[43mignore_index\u001b[49m\u001b[38;5;241;43m=\u001b[39;49m\u001b[43mignore_index\u001b[49m\u001b[43m,\u001b[49m\n\u001b[1;32m    351\u001b[0m \u001b[43m        \u001b[49m\u001b[43mjoin\u001b[49m\u001b[38;5;241;43m=\u001b[39;49m\u001b[43mjoin\u001b[49m\u001b[43m,\u001b[49m\n\u001b[1;32m    352\u001b[0m \u001b[43m        \u001b[49m\u001b[43mkeys\u001b[49m\u001b[38;5;241;43m=\u001b[39;49m\u001b[43mkeys\u001b[49m\u001b[43m,\u001b[49m\n\u001b[1;32m    353\u001b[0m \u001b[43m        \u001b[49m\u001b[43mlevels\u001b[49m\u001b[38;5;241;43m=\u001b[39;49m\u001b[43mlevels\u001b[49m\u001b[43m,\u001b[49m\n\u001b[1;32m    354\u001b[0m \u001b[43m        \u001b[49m\u001b[43mnames\u001b[49m\u001b[38;5;241;43m=\u001b[39;49m\u001b[43mnames\u001b[49m\u001b[43m,\u001b[49m\n\u001b[1;32m    355\u001b[0m \u001b[43m        \u001b[49m\u001b[43mverify_integrity\u001b[49m\u001b[38;5;241;43m=\u001b[39;49m\u001b[43mverify_integrity\u001b[49m\u001b[43m,\u001b[49m\n\u001b[1;32m    356\u001b[0m \u001b[43m        \u001b[49m\u001b[43mcopy\u001b[49m\u001b[38;5;241;43m=\u001b[39;49m\u001b[43mcopy\u001b[49m\u001b[43m,\u001b[49m\n\u001b[1;32m    357\u001b[0m \u001b[43m        \u001b[49m\u001b[43msort\u001b[49m\u001b[38;5;241;43m=\u001b[39;49m\u001b[43msort\u001b[49m\u001b[43m,\u001b[49m\n\u001b[1;32m    358\u001b[0m \u001b[43m    \u001b[49m\u001b[43m)\u001b[49m\n\u001b[1;32m    360\u001b[0m     \u001b[38;5;28;01mreturn\u001b[39;00m op\u001b[38;5;241m.\u001b[39mget_result()\n",
      "File \u001b[0;32m~/projects/valkyrie/python/valkyrie_venv/lib/python3.9/site-packages/pandas/core/reshape/concat.py:404\u001b[0m, in \u001b[0;36m_Concatenator.__init__\u001b[0;34m(self, objs, axis, join, keys, levels, names, ignore_index, verify_integrity, copy, sort)\u001b[0m\n\u001b[1;32m    401\u001b[0m     objs \u001b[38;5;241m=\u001b[39m \u001b[38;5;28mlist\u001b[39m(objs)\n\u001b[1;32m    403\u001b[0m \u001b[38;5;28;01mif\u001b[39;00m \u001b[38;5;28mlen\u001b[39m(objs) \u001b[38;5;241m==\u001b[39m \u001b[38;5;241m0\u001b[39m:\n\u001b[0;32m--> 404\u001b[0m     \u001b[38;5;28;01mraise\u001b[39;00m \u001b[38;5;167;01mValueError\u001b[39;00m(\u001b[38;5;124m\"\u001b[39m\u001b[38;5;124mNo objects to concatenate\u001b[39m\u001b[38;5;124m\"\u001b[39m)\n\u001b[1;32m    406\u001b[0m \u001b[38;5;28;01mif\u001b[39;00m keys \u001b[38;5;129;01mis\u001b[39;00m \u001b[38;5;28;01mNone\u001b[39;00m:\n\u001b[1;32m    407\u001b[0m     objs \u001b[38;5;241m=\u001b[39m \u001b[38;5;28mlist\u001b[39m(com\u001b[38;5;241m.\u001b[39mnot_none(\u001b[38;5;241m*\u001b[39mobjs))\n",
      "\u001b[0;31mValueError\u001b[0m: No objects to concatenate"
     ]
    }
   ],
   "source": [
    "stocks = stocks_good_dvd() + ['PFF']\n",
    "black_list = {'AGNCP', 'NLY PRI'}\n",
    "stocks = list(filter(lambda x : x not in black_list, stocks))\n",
    "parents = {'AGNC', 'NLY'}\n",
    "stocks = [stk for stk in stocks if parent(stk) in parents] + ['PFF']\n",
    "#stocks = ['AGNCM','AGNCN']#,'PFF']\n",
    "sdate, edate ='2020-06-01', '2021-05-31'\n",
    "xy_builder = DataMgr(sdate = sdate, edate = edate, stocks = stocks, ema_mults=[1,5,25,125])"
   ]
  },
  {
   "cell_type": "code",
   "execution_count": 6,
   "id": "6c810aca",
   "metadata": {},
   "outputs": [
    {
     "data": {
      "text/plain": [
       "valkyrie.quants.DataMgr"
      ]
     },
     "execution_count": 6,
     "metadata": {},
     "output_type": "execute_result"
    }
   ],
   "source": [
    "DataMgr"
   ]
  },
  {
   "cell_type": "code",
   "execution_count": 3,
   "id": "a6c012a9",
   "metadata": {},
   "outputs": [],
   "source": [
    "from abc import ABC, abstractmethod\n",
    "\n",
    "class BuilderXY(ABC):\n",
    "    def __init__(self, name, stock):\n",
    "        self.name, self.stock = name, stock\n",
    "        self.f_gen_xy = f_current_vs_auto_es\n",
    "\n",
    "    def get_xy(self):\n",
    "        return self.f_gen_xy(y_stock = self.stock)\n",
    "\n",
    "    def __str__(self):\n",
    "        return self.name"
   ]
  },
  {
   "cell_type": "code",
   "execution_count": 4,
   "id": "baea59a9",
   "metadata": {},
   "outputs": [
    {
     "ename": "TypeError",
     "evalue": "create_stk_xy_builders() missing 1 required positional argument: 'xy_params'",
     "output_type": "error",
     "traceback": [
      "\u001b[0;31m---------------------------------------------------------------------------\u001b[0m",
      "\u001b[0;31mTypeError\u001b[0m                                 Traceback (most recent call last)",
      "Input \u001b[0;32mIn [4]\u001b[0m, in \u001b[0;36m<cell line: 1>\u001b[0;34m()\u001b[0m\n\u001b[0;32m----> 1\u001b[0m zz \u001b[38;5;241m=\u001b[39m \u001b[43mcreate_stk_xy_builders\u001b[49m\u001b[43m(\u001b[49m\u001b[43m[\u001b[49m\u001b[38;5;124;43m'\u001b[39;49m\u001b[38;5;124;43mAGNCM\u001b[39;49m\u001b[38;5;124;43m'\u001b[39;49m\u001b[43m]\u001b[49m\u001b[43m,\u001b[49m\u001b[43m[\u001b[49m\u001b[43mBuilderXY\u001b[49m\u001b[43m]\u001b[49m\u001b[43m)\u001b[49m\n",
      "\u001b[0;31mTypeError\u001b[0m: create_stk_xy_builders() missing 1 required positional argument: 'xy_params'"
     ]
    }
   ],
   "source": [
    "zz = create_stk_xy_builders(['AGNCM'],[BuilderXY])"
   ]
  },
  {
   "cell_type": "code",
   "execution_count": 5,
   "id": "91c20815",
   "metadata": {},
   "outputs": [
    {
     "ename": "NameError",
     "evalue": "name 'current_vs_auto_es' is not defined",
     "output_type": "error",
     "traceback": [
      "\u001b[0;31m---------------------------------------------------------------------------\u001b[0m",
      "\u001b[0;31mNameError\u001b[0m                                 Traceback (most recent call last)",
      "Input \u001b[0;32mIn [5]\u001b[0m, in \u001b[0;36m<cell line: 13>\u001b[0;34m()\u001b[0m\n\u001b[1;32m     10\u001b[0m         xy_builders \u001b[38;5;241m+\u001b[39m\u001b[38;5;241m=\u001b[39m [c(\u001b[38;5;124mf\u001b[39m\u001b[38;5;124m'\u001b[39m\u001b[38;5;132;01m{\u001b[39;00mstk\u001b[38;5;132;01m}\u001b[39;00m\u001b[38;5;124m_x\u001b[39m\u001b[38;5;124m'\u001b[39m, stk) \u001b[38;5;28;01mfor\u001b[39;00m c \u001b[38;5;129;01min\u001b[39;00m xy_builder_classes]\n\u001b[1;32m     11\u001b[0m     \u001b[38;5;28;01mreturn\u001b[39;00m xy_builders\n\u001b[0;32m---> 13\u001b[0m f_current_vs_auto_es \u001b[38;5;241m=\u001b[39m partial(\u001b[43mcurrent_vs_auto_es\u001b[49m, data_mgr\u001b[38;5;241m=\u001b[39mxy_builder, ema_mults\u001b[38;5;241m=\u001b[39m[\u001b[38;5;241m5\u001b[39m,\u001b[38;5;241m125\u001b[39m])\n",
      "\u001b[0;31mNameError\u001b[0m: name 'current_vs_auto_es' is not defined"
     ]
    }
   ],
   "source": [
    "def create_stk_xy_builders(stocks, xy_builder_classes, black_list = {'PFF'}):\n",
    "    df_res = []\n",
    "    black_list = {'PFF'}\n",
    "    xy_builders = []\n",
    "\n",
    "    for stk in stocks:\n",
    "        if stk in black_list:\n",
    "            continue\n",
    "\n",
    "        xy_builders += [c(f'{stk}_x', stk) for c in xy_builder_classes]\n",
    "    return xy_builders\n",
    "\n",
    "f_current_vs_auto_es = partial(current_vs_auto_es, data_mgr=xy_builder, ema_mults=[5,125])"
   ]
  },
  {
   "cell_type": "code",
   "execution_count": null,
   "id": "a2e553d1",
   "metadata": {},
   "outputs": [],
   "source": [
    "xy_builders = create_stk_xy_builders(['AGNCM'], [BuilderXY], black_list = {'PFF'})"
   ]
  },
  {
   "cell_type": "code",
   "execution_count": null,
   "id": "79ff0502",
   "metadata": {},
   "outputs": [],
   "source": [
    "models = [WinsorizedLM(0.03, LR) for n in {1}]\n",
    "df_res, param2res = fit_tscv(xy_builders, models)"
   ]
  },
  {
   "cell_type": "code",
   "execution_count": null,
   "id": "499399d7",
   "metadata": {},
   "outputs": [],
   "source": [
    "df_res"
   ]
  },
  {
   "cell_type": "code",
   "execution_count": null,
   "id": "31e637b3",
   "metadata": {},
   "outputs": [],
   "source": [
    "from valkyrie.avalon.eve import current_vs_auto_es"
   ]
  },
  {
   "cell_type": "code",
   "execution_count": null,
   "id": "0920bc5d",
   "metadata": {},
   "outputs": [],
   "source": [
    "f_eve = partial(current_vs_auto_es, builder = xy_builder, ema_mults = [5, 125])"
   ]
  },
  {
   "cell_type": "code",
   "execution_count": null,
   "id": "95f86728",
   "metadata": {},
   "outputs": [],
   "source": [
    "#f_eve = partial(current_vs_family_es, builder = xy_builder, x_stocks = stocks)\n",
    "#f_eve = partial(current_vs_pff_es, builder = xy_builder)\n",
    "f_eve = partial(current_vs_auto_es, builder = xy_builder)\n",
    "#builder_args = [{'ema_mults' : [5, 125]}, {'ema_mults' : [5, 25]}, {'ema_mults' : [25, 125]} ]\n",
    "models = [WinsorizedLM(0.03, LR) for n in {1}]\n",
    "df_res = fit_stocks(stocks, models, f_eve, builder_args)\n",
    "df_res"
   ]
  },
  {
   "cell_type": "code",
   "execution_count": null,
   "id": "e4d6abd3",
   "metadata": {},
   "outputs": [],
   "source": [
    "1 * 0.01"
   ]
  },
  {
   "cell_type": "code",
   "execution_count": null,
   "id": "d8cbc916",
   "metadata": {},
   "outputs": [],
   "source": []
  }
 ],
 "metadata": {
  "kernelspec": {
   "display_name": "Python 3 (ipykernel)",
   "language": "python",
   "name": "python3"
  },
  "language_info": {
   "codemirror_mode": {
    "name": "ipython",
    "version": 3
   },
   "file_extension": ".py",
   "mimetype": "text/x-python",
   "name": "python",
   "nbconvert_exporter": "python",
   "pygments_lexer": "ipython3",
   "version": "3.9.7"
  }
 },
 "nbformat": 4,
 "nbformat_minor": 5
}
