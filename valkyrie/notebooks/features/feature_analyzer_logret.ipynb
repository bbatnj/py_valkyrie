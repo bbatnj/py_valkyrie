{
 "cells": [
  {
   "cell_type": "code",
   "execution_count": 1,
   "id": "a6ce435f",
   "metadata": {},
   "outputs": [
    {
     "data": {
      "text/html": [
       "<style>.container { width:100% !important; }</style>"
      ],
      "text/plain": [
       "<IPython.core.display.HTML object>"
      ]
     },
     "metadata": {},
     "output_type": "display_data"
    }
   ],
   "source": [
    "import numpy as np\n",
    "import pandas as pd\n",
    "import gc\n",
    "\n",
    "from sklearn.linear_model import LinearRegression as LR\n",
    "from statsmodels.stats.weightstats import DescrStatsW\n",
    "from IPython.core.display import display, HTML\n",
    "display(HTML(\"<style>.container { width:100% !important; }</style>\"))\n",
    "%matplotlib notebook\n",
    "pd.set_option('display.max_rows', 500)\n",
    "\n",
    "from valkyrie.tools import HOSTNAME\n",
    "from valkyrie.securities import stocks_good_dvd, parent\n",
    "from valkyrie.quants.linear_model import lm_fit, wcorr, analyze_features\n",
    "from valkyrie.quants.feature_analyzer import FeatureMgr"
   ]
  },
  {
   "cell_type": "markdown",
   "id": "798115a1",
   "metadata": {},
   "source": [
    "# Load Data"
   ]
  },
  {
   "cell_type": "code",
   "execution_count": 2,
   "id": "20f5779a",
   "metadata": {},
   "outputs": [
    {
     "data": {
      "text/plain": [
       "0"
      ]
     },
     "execution_count": 2,
     "metadata": {},
     "output_type": "execute_result"
    }
   ],
   "source": [
    "#feature_mgr = FeatureMgr('20210101', '20210630', ['TWO PRC'] , 'latest')#\n",
    "feature_mgr = FeatureMgr('20210101', '20210630', stocks_good_dvd() , 'eve_features3_2x0_quoter_cooldown_600')\n",
    "ret_ns = [int(1 * 2 * 60 * 6.5), int(3 * 2 * 60 * 6.5), int(5 * 2 * 60 * 6.5), int(10 * 2 * 60 * 6.5)]\n",
    "\n",
    "ret_col, s2_col = 'risk_tv', 'cywa_mkt_s2h'\n",
    "df_tv = feature_mgr.calc_rets('log', ret_col, ret_ns, s2_col)\n",
    "df_tv['parent'] = df_tv['ticker'].apply(parent)\n",
    "\n",
    "ret_col, s2_col = 'cywa_mkt_xh', 'cywa_mkt_s2h'\n",
    "df_cy = feature_mgr.calc_rets('log', ret_col, ret_ns, s2_col)\n",
    "df_cy['parent'] = df_cy['ticker'].apply(parent)\n",
    "gc.collect()"
   ]
  },
  {
   "cell_type": "markdown",
   "id": "dfe052d7",
   "metadata": {},
   "source": [
    "# Checking"
   ]
  },
  {
   "cell_type": "markdown",
   "id": "c99eeb6a",
   "metadata": {},
   "source": [
    "### against nbbo"
   ]
  },
  {
   "cell_type": "code",
   "execution_count": null,
   "id": "5669370e",
   "metadata": {},
   "outputs": [],
   "source": [
    "hls = [1, 60, 600, 3600]\n",
    "print(f'Within bbo %')\n",
    "tv_cols = [c for c in df_tv if 'cywa_' in c and '_tv' in c and 'pff_' not in c] + ['tv']\n",
    "df_against_nbbo = []\n",
    "for col in ['risk_tv'] + tv_cols:\n",
    "    below = df_tv.eval(f'{col} <= bid ').sum() / df_tv.shape[0]\n",
    "    above = df_tv.eval(f'{col} >= ask ').sum() / df_tv.shape[0]\n",
    "    df_against_nbbo.append({'name': col, 'below' : below, 'above' : above})\n",
    "df_against_nbbo = pd.DataFrame(df_against_nbbo).set_index('name')\n",
    "print(df_against_nbbo)"
   ]
  },
  {
   "cell_type": "markdown",
   "id": "1deec0b7",
   "metadata": {},
   "source": [
    "### tv stats"
   ]
  },
  {
   "cell_type": "code",
   "execution_count": null,
   "id": "e50b7141",
   "metadata": {},
   "outputs": [],
   "source": [
    "for col in tv_cols:    \n",
    "    df_tv[f'drt_{col}'] = df_tv.eval(f'{col} - risk_tv')\n",
    "dtv_cols = [c for c in df_tv if 'drt_' in c] \n",
    "cols = tv_cols + dtv_cols\n",
    "pd.concat( [pd.DataFrame(df_tv[cols].diff().std(), columns=['diff_std']), df_tv[cols].describe(percentiles = [0.01, 0.5,0.99]).T],axis= 1)"
   ]
  },
  {
   "cell_type": "markdown",
   "id": "8a0ce882",
   "metadata": {},
   "source": [
    "### dtv corr"
   ]
  },
  {
   "cell_type": "code",
   "execution_count": null,
   "id": "9f873bf9",
   "metadata": {},
   "outputs": [],
   "source": [
    "ret_cols = [f'risk_tv_ret_{ret}_n' for ret in ret_ns]\n",
    "dtv_cols = [c for c in df_tv if 'drt_' in c] \n",
    "cols = dtv_cols + ret_cols\n",
    "df_tv[cols].corr()[ret_cols + dtv_cols].query('index.str.contains(\"drt_\")')#[ret_cols + dtv_cols]"
   ]
  },
  {
   "cell_type": "code",
   "execution_count": null,
   "id": "71b41309",
   "metadata": {},
   "outputs": [],
   "source": [
    "#weighted correlation\n",
    "wcoeff = {}\n",
    "for n in ret_ns:\n",
    "    X = df_tv[['drt_tv', f'risk_tv_ret_{n}_n']].values\n",
    "    dsw = DescrStatsW(X, weights=df_tv[f'wgt_risk_tv_ret_{n}_n'].values)\n",
    "    wcoeff[f'drt_tv_vs_risk_tv_ret_{n}_n'] = dsw.corrcoef[0,1]\n",
    "pd.DataFrame(wcoeff, index = ['corr'])"
   ]
  },
  {
   "cell_type": "markdown",
   "id": "3716d229",
   "metadata": {},
   "source": [
    "# Check by name"
   ]
  },
  {
   "cell_type": "code",
   "execution_count": null,
   "id": "0ea734f5",
   "metadata": {},
   "outputs": [],
   "source": [
    "df_tv.query('ticker == \"AGNCM\" and date == \"20210104\"')[['bid','ask','risk_tv']].plot()"
   ]
  },
  {
   "cell_type": "code",
   "execution_count": null,
   "id": "bc69fba9",
   "metadata": {},
   "outputs": [],
   "source": [
    "df_tv.query('ticker == \"AGNCM\"')['bid ask tv'.split() + [c for c in df_tv if 'cywa_10' in c]].head(5000).to_csv('/home/bb/tmp/tmp.csv')"
   ]
  },
  {
   "cell_type": "code",
   "execution_count": null,
   "id": "ffa544dc",
   "metadata": {},
   "outputs": [],
   "source": [
    "df_tv.query('ticker == \"TWO PRC\"')['bid ask tv'.split()].head(5000).plot(alpha = 0.7)"
   ]
  },
  {
   "cell_type": "code",
   "execution_count": null,
   "id": "b7a324de",
   "metadata": {},
   "outputs": [],
   "source": [
    "df_tv.query('ticker == \"BAC PRB\" and \"20210428\" <= date <= \"20210429\"')[['cywa_mkt_s2h']].plot(alpha = 0.7)\n",
    "df_tv.query('ticker == \"BAC PRB\" and \"20210428\" <= date <= \"20210429\"')[['bid','ask','risk_tv']].plot(alpha = 0.7)"
   ]
  },
  {
   "cell_type": "markdown",
   "id": "19b03b75",
   "metadata": {},
   "source": [
    "# Horizon analysis"
   ]
  },
  {
   "cell_type": "code",
   "execution_count": null,
   "id": "773b20fd",
   "metadata": {},
   "outputs": [],
   "source": [
    "xcols = [f'mean_revsion_{hl}' for hl in 'short mid long vlong vvlong vvvlong'.split()]\n",
    "ycols = [f'cywa_mkt_xh_ret_{hz}_n' for hz in ret_ns]\n",
    "wcols = [f'wgt_cywa_mkt_xh_ret_{hz}_n' for hz in ret_ns]\n",
    "\n",
    "wcorr(df_cy, xcols, ycols, wcols)"
   ]
  },
  {
   "cell_type": "code",
   "execution_count": null,
   "id": "991f444e",
   "metadata": {},
   "outputs": [],
   "source": [
    "wcoeff = {}\n",
    "for hz in [780, 2340, 3900, 7800]:\n",
    "    for hl in 'short mid long vlong vvlong vvvlong'.split():\n",
    "        c = f'feature_mean_revsion_{hl}'\n",
    "        df_cy[c] = df_cy.eval(f'cywa_{hl}_xh - cywa_mkt_xh')\n",
    "        df_cy[f'wgt_mean_revsion_{hl}'] = df_cy.eval(f'1.0 / (cywa_{hl}_s2h + cywa_mkt_s2h)')    \n",
    "        res = wcorr(df_cy,[c], [f'cywa_mkt_xh_ret_{hz}_n'], [f'wgt_mean_revsion_{hl}'])\n",
    "        display(res)                "
   ]
  },
  {
   "cell_type": "code",
   "execution_count": null,
   "id": "4ff628a7",
   "metadata": {},
   "outputs": [],
   "source": [
    "for hl in 'short mid long vlong vvlong vvvlong'.split():    \n",
    "    df_cy[f'mean_revsion_{hl}'] = df_cy.eval(f'cywa_{hl}_xh - cywa_mkt_xh')"
   ]
  },
  {
   "cell_type": "markdown",
   "id": "e5f750bf",
   "metadata": {},
   "source": [
    "# Combined Analysis"
   ]
  },
  {
   "cell_type": "code",
   "execution_count": null,
   "id": "6805fc49",
   "metadata": {},
   "outputs": [],
   "source": [
    "def analyze_features(df, exclude_features, xcols, ycols, wcols):\n",
    "    res = {}\n",
    "    res[f'all'] = lm_fit(df, xcols, ycols, wcols).loc['r2']\n",
    "    for ef in exclude_features:\n",
    "        xm_cols = [c for c in xcols if not c.endswith(ef)]\n",
    "        c = f'frm {ef}'\n",
    "        res[c] = lm_fit(df, xm_cols, ycols, wcols).loc['r2']\n",
    "        res[c] = res[f'all'] - res[c] #r2 from removing ef\n",
    "        res[ef] = lm_fit(df, [ef], ycols, wcols).loc['r2'] #r2 from ef alone\n",
    "    res = pd.DataFrame(res)\n",
    "    return res"
   ]
  },
  {
   "cell_type": "code",
   "execution_count": null,
   "id": "eb231daa",
   "metadata": {},
   "outputs": [],
   "source": [
    "th = 1e-4\n",
    "df = df_cy.query('abs(feature_cluster) > @th or abs(feature_long_dpff) > @th or abs(feature_mean_revsion_vlong) > @th')\n",
    "exclude_features = ['_cluster', '_dpff', '_vlong']\n",
    "ycols = [f'cywa_mkt_xh_ret_{ret}_n' for ret in ret_ns]\n",
    "wcols = [f'wgt_cywa_mkt_xh_ret_{ret}_n' for ret in ret_ns]\n",
    "xcols = [c for c in df if 'feature_' in c]\n",
    "\n",
    "res = analyze_features(df, exclude_features, xcols, ycols, wcols)\n",
    "display(res)"
   ]
  },
  {
   "cell_type": "code",
   "execution_count": null,
   "id": "e00eac26",
   "metadata": {},
   "outputs": [],
   "source": [
    "[c for c in df_cy if 'feature_' in c]"
   ]
  },
  {
   "cell_type": "markdown",
   "id": "15ca4463",
   "metadata": {},
   "source": [
    "# Combine Features"
   ]
  },
  {
   "cell_type": "code",
   "execution_count": null,
   "id": "b7a0de97",
   "metadata": {},
   "outputs": [],
   "source": []
  },
  {
   "cell_type": "code",
   "execution_count": 20,
   "id": "9279ab70",
   "metadata": {},
   "outputs": [
    {
     "data": {
      "text/html": [
       "<div>\n",
       "<style scoped>\n",
       "    .dataframe tbody tr th:only-of-type {\n",
       "        vertical-align: middle;\n",
       "    }\n",
       "\n",
       "    .dataframe tbody tr th {\n",
       "        vertical-align: top;\n",
       "    }\n",
       "\n",
       "    .dataframe thead th {\n",
       "        text-align: right;\n",
       "    }\n",
       "</style>\n",
       "<table border=\"1\" class=\"dataframe\">\n",
       "  <thead>\n",
       "    <tr style=\"text-align: right;\">\n",
       "      <th></th>\n",
       "      <th>cywa_mkt_xh_ret_3900_n</th>\n",
       "    </tr>\n",
       "  </thead>\n",
       "  <tbody>\n",
       "    <tr>\n",
       "      <th>r2</th>\n",
       "      <td>0.014383</td>\n",
       "    </tr>\n",
       "    <tr>\n",
       "      <th>feature_long_dpff</th>\n",
       "      <td>-8.028215</td>\n",
       "    </tr>\n",
       "    <tr>\n",
       "      <th>feature_mkt_dpff</th>\n",
       "      <td>8.106622</td>\n",
       "    </tr>\n",
       "    <tr>\n",
       "      <th>model</th>\n",
       "      <td>Linefit_False_q=0.03</td>\n",
       "    </tr>\n",
       "  </tbody>\n",
       "</table>\n",
       "</div>"
      ],
      "text/plain": [
       "                  cywa_mkt_xh_ret_3900_n\n",
       "r2                              0.014383\n",
       "feature_long_dpff              -8.028215\n",
       "feature_mkt_dpff                8.106622\n",
       "model               Linefit_False_q=0.03"
      ]
     },
     "execution_count": 20,
     "metadata": {},
     "output_type": "execute_result"
    }
   ],
   "source": [
    "cywa_hl = 'long'\n",
    "yhz = 780 * 5\n",
    "\n",
    "\n",
    "\n",
    "df_cy['feature_long_dpff'] = df_cy.eval(f'pff_cywa_{cywa_hl}_xh - cywa_{cywa_hl}_xh')\n",
    "df_cy['feature_mkt_dpff'] = df_cy.eval(f'pff_cywa_mkt_xh - cywa_mkt_xh ')\n",
    "df_cy['total_s2'] = df_cy.eval(f'cywa_mkt_s2h + cywa_{cywa_hl}_s2h')\n",
    "df_cy['wgt'] = df_cy.eval('1.0 / total_s2')\n",
    "\n",
    "df_fit = df_cy.query('abs(feature_long_dpff - feature_mkt_dpff) >= 0.0 * 1.0e-4').copy()\n",
    "#print(f'{df_fit.shape[0]/df.shape[0]}')\n",
    "\n",
    "#xcols = [c for c in df_fit if 'feature_' in c]\n",
    "xcols = ['feature_long_dpff', 'feature_mkt_dpff']\n",
    "ycols = [f'cywa_mkt_xh_ret_{yhz}_n']\n",
    "#xcols = ['feature_cluster']\n",
    "res = lm_fit(df_fit, xcols, ycols, ['wgt'])\n",
    "res"
   ]
  },
  {
   "cell_type": "code",
   "execution_count": 33,
   "id": "c0b056cc",
   "metadata": {},
   "outputs": [],
   "source": [
    "df_cy.drop('feature_log_pff',axis = 1 , inplace=True)"
   ]
  },
  {
   "cell_type": "code",
   "execution_count": 83,
   "id": "39029126",
   "metadata": {},
   "outputs": [
    {
     "data": {
      "text/html": [
       "<div>\n",
       "<style scoped>\n",
       "    .dataframe tbody tr th:only-of-type {\n",
       "        vertical-align: middle;\n",
       "    }\n",
       "\n",
       "    .dataframe tbody tr th {\n",
       "        vertical-align: top;\n",
       "    }\n",
       "\n",
       "    .dataframe thead th {\n",
       "        text-align: right;\n",
       "    }\n",
       "</style>\n",
       "<table border=\"1\" class=\"dataframe\">\n",
       "  <thead>\n",
       "    <tr style=\"text-align: right;\">\n",
       "      <th></th>\n",
       "      <th>cywa_mkt_xh_ret_3900_n</th>\n",
       "    </tr>\n",
       "  </thead>\n",
       "  <tbody>\n",
       "    <tr>\n",
       "      <th>r2</th>\n",
       "      <td>0.017508</td>\n",
       "    </tr>\n",
       "    <tr>\n",
       "      <th>feature_log_long_dpff</th>\n",
       "      <td>-0.623403</td>\n",
       "    </tr>\n",
       "    <tr>\n",
       "      <th>feature_log_mkt_dpff</th>\n",
       "      <td>0.629421</td>\n",
       "    </tr>\n",
       "    <tr>\n",
       "      <th>model</th>\n",
       "      <td>Linefit_False_q=0.0001</td>\n",
       "    </tr>\n",
       "  </tbody>\n",
       "</table>\n",
       "</div>"
      ],
      "text/plain": [
       "                       cywa_mkt_xh_ret_3900_n\n",
       "r2                                   0.017508\n",
       "feature_log_long_dpff               -0.623403\n",
       "feature_log_mkt_dpff                 0.629421\n",
       "model                  Linefit_False_q=0.0001"
      ]
     },
     "execution_count": 83,
     "metadata": {},
     "output_type": "execute_result"
    }
   ],
   "source": [
    "cywa_hl = 'long'\n",
    "yhz = 780 * 5\n",
    "\n",
    "\n",
    "df_cy['feature_log_long_dpff'] = df_cy.eval(f'pff_cywa_{cywa_hl}_xh / cywa_{cywa_hl}_xh').apply(np.log)\n",
    "df_cy['feature_log_mkt_dpff'] = df_cy.eval(f'pff_cywa_mkt_xh / cywa_mkt_xh ').apply(np.log)\n",
    "\n",
    "#df_cy['feature_log_pff'] = df_cy.eval(f'pff_cywa_mkt_xh / cywa_mkt_xh ').apply(np.log) - df_cy.eval(f'pff_cywa_{cywa_hl}_xh / cywa_{cywa_hl}_xh').apply(np.log)\n",
    "\n",
    "df_cy['total_s2'] = df_cy.eval(f'cywa_mkt_s2h + cywa_{cywa_hl}_s2h + cluster_{cywa_hl}_avg_s2 + (1.0 / wgt_cywa_mkt_xh_ret_{yhz}_n)')\n",
    "df_cy['wgt'] = df_cy.eval('1.0 / total_s2')\n",
    "\n",
    "xcols = [c for c in df_cy if 'feature_log_' in c]\n",
    "\n",
    "ycols = [f'cywa_mkt_xh_ret_{yhz}_n']\n",
    "#xcols = ['feature_cluster']\n",
    "res = lm_fit(df_cy, xcols, ycols, ['wgt'], quantile = 1e-4)\n",
    "res"
   ]
  },
  {
   "cell_type": "code",
   "execution_count": 85,
   "id": "2d4c8bdb",
   "metadata": {},
   "outputs": [],
   "source": [
    "z = df_cy['wgt'] * (df_cy['feature_log_long_dpff'] * -0.623403 + df_cy['feature_log_mkt_dpff']*0.629421)"
   ]
  },
  {
   "cell_type": "code",
   "execution_count": 87,
   "id": "f39db4a7",
   "metadata": {},
   "outputs": [
    {
     "data": {
      "text/plain": [
       "-0.000711130151431774"
      ]
     },
     "execution_count": 87,
     "metadata": {},
     "output_type": "execute_result"
    }
   ],
   "source": [
    "np.mean((df_cy['feature_log_long_dpff'] * -0.623403 + df_cy['feature_log_mkt_dpff']*0.629421))"
   ]
  },
  {
   "cell_type": "code",
   "execution_count": 89,
   "id": "8d4cde17",
   "metadata": {},
   "outputs": [
    {
     "data": {
      "text/plain": [
       "-32.55274381327966"
      ]
     },
     "execution_count": 89,
     "metadata": {},
     "output_type": "execute_result"
    }
   ],
   "source": [
    "45776.0703125 * -0.000711130151431774"
   ]
  },
  {
   "cell_type": "code",
   "execution_count": 88,
   "id": "ab363a60",
   "metadata": {},
   "outputs": [
    {
     "data": {
      "text/plain": [
       "45776.0703125"
      ]
     },
     "execution_count": 88,
     "metadata": {},
     "output_type": "execute_result"
    }
   ],
   "source": [
    "df_cy['wgt'].mean()"
   ]
  },
  {
   "cell_type": "code",
   "execution_count": 42,
   "id": "1f65b38d",
   "metadata": {},
   "outputs": [],
   "source": [
    "x1 = np.array([-1.208621e-01,-1.208463e-01])\n",
    "w = np.array([-0.332835,\t0.338029])\n",
    "w1 = np.array([-0.445879, 0.447191])"
   ]
  },
  {
   "cell_type": "code",
   "execution_count": null,
   "id": "2974ae17",
   "metadata": {},
   "outputs": [],
   "source": [
    "df_cy['']"
   ]
  },
  {
   "cell_type": "code",
   "execution_count": 30,
   "id": "e047be99",
   "metadata": {},
   "outputs": [
    {
     "data": {
      "text/plain": [
       "-0.0006224168892000059"
      ]
     },
     "execution_count": 30,
     "metadata": {},
     "output_type": "execute_result"
    }
   ],
   "source": [
    "\n",
    "np.sum(x1 * w)"
   ]
  },
  {
   "cell_type": "code",
   "execution_count": 43,
   "id": "02f3bac5",
   "metadata": {},
   "outputs": [
    {
     "data": {
      "text/plain": [
       "-0.00015150545739999605"
      ]
     },
     "execution_count": 43,
     "metadata": {},
     "output_type": "execute_result"
    }
   ],
   "source": [
    "np.sum(x1 * w1)"
   ]
  },
  {
   "cell_type": "code",
   "execution_count": 39,
   "id": "32c565e4",
   "metadata": {},
   "outputs": [
    {
     "data": {
      "text/plain": [
       "-0.00029226646"
      ]
     },
     "execution_count": 39,
     "metadata": {},
     "output_type": "execute_result"
    }
   ],
   "source": [
    "np.sum(df_cy[ycols[0]] * df_cy['wgt'])/np.sum(df_cy['wgt'] )"
   ]
  },
  {
   "cell_type": "code",
   "execution_count": 45,
   "id": "1edf2210",
   "metadata": {},
   "outputs": [
    {
     "data": {
      "text/plain": [
       "-0.015560422229999999"
      ]
     },
     "execution_count": 45,
     "metadata": {},
     "output_type": "execute_result"
    }
   ],
   "source": [
    "-0.00062241688920 * 25"
   ]
  },
  {
   "cell_type": "code",
   "execution_count": 66,
   "id": "8f3df2b0",
   "metadata": {},
   "outputs": [],
   "source": [
    "x = np.random.randn(100000,2)"
   ]
  },
  {
   "cell_type": "code",
   "execution_count": 67,
   "id": "63fe1456",
   "metadata": {},
   "outputs": [
    {
     "data": {
      "text/plain": [
       "(100000, 2)"
      ]
     },
     "execution_count": 67,
     "metadata": {},
     "output_type": "execute_result"
    }
   ],
   "source": [
    "x.shape"
   ]
  },
  {
   "cell_type": "code",
   "execution_count": 68,
   "id": "e6727287",
   "metadata": {},
   "outputs": [],
   "source": [
    "y = 0.3 *x[:,0] + 0.4*x[:,1]"
   ]
  },
  {
   "cell_type": "code",
   "execution_count": 69,
   "id": "565913b9",
   "metadata": {},
   "outputs": [],
   "source": [
    "ym = y - np.mean(y)"
   ]
  },
  {
   "cell_type": "code",
   "execution_count": 70,
   "id": "0655dfe3",
   "metadata": {},
   "outputs": [],
   "source": [
    "from sklearn import linear_model"
   ]
  },
  {
   "cell_type": "code",
   "execution_count": 78,
   "id": "e0f4aa9b",
   "metadata": {},
   "outputs": [],
   "source": [
    "lr = linear_model.LinearRegression(fit_intercept=False)"
   ]
  },
  {
   "cell_type": "code",
   "execution_count": 79,
   "id": "669f1544",
   "metadata": {},
   "outputs": [
    {
     "data": {
      "text/plain": [
       "1.0"
      ]
     },
     "execution_count": 79,
     "metadata": {},
     "output_type": "execute_result"
    }
   ],
   "source": [
    "lr.fit(x,y)\n",
    "lr.score(x,y)"
   ]
  },
  {
   "cell_type": "code",
   "execution_count": 80,
   "id": "3f7d4987",
   "metadata": {},
   "outputs": [
    {
     "data": {
      "text/plain": [
       "array([0.3, 0.4])"
      ]
     },
     "execution_count": 80,
     "metadata": {},
     "output_type": "execute_result"
    }
   ],
   "source": [
    "lr.coef_"
   ]
  },
  {
   "cell_type": "code",
   "execution_count": 81,
   "id": "378d78ef",
   "metadata": {},
   "outputs": [
    {
     "data": {
      "text/plain": [
       "-0.00020943723786793364"
      ]
     },
     "execution_count": 81,
     "metadata": {},
     "output_type": "execute_result"
    }
   ],
   "source": [
    "np.mean(y)"
   ]
  },
  {
   "cell_type": "code",
   "execution_count": 82,
   "id": "669bf0a2",
   "metadata": {},
   "outputs": [
    {
     "data": {
      "text/plain": [
       "7.815970093361102e-19"
      ]
     },
     "execution_count": 82,
     "metadata": {},
     "output_type": "execute_result"
    }
   ],
   "source": [
    "np.mean(ym)"
   ]
  },
  {
   "cell_type": "code",
   "execution_count": null,
   "id": "6fba27e5",
   "metadata": {},
   "outputs": [],
   "source": []
  }
 ],
 "metadata": {
  "kernelspec": {
   "display_name": "valkyrie_venv_win",
   "language": "python",
   "name": "valkyrie_venv_win"
  },
  "language_info": {
   "codemirror_mode": {
    "name": "ipython",
    "version": 3
   },
   "file_extension": ".py",
   "mimetype": "text/x-python",
   "name": "python",
   "nbconvert_exporter": "python",
   "pygments_lexer": "ipython3",
   "version": "3.9.13"
  }
 },
 "nbformat": 4,
 "nbformat_minor": 5
}
