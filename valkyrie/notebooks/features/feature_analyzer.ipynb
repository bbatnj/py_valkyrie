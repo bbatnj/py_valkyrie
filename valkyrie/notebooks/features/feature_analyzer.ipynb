{
 "cells": [
  {
   "cell_type": "code",
   "execution_count": 1,
   "id": "a6ce435f",
   "metadata": {},
   "outputs": [
    {
     "data": {
      "text/html": [
       "<style>.container { width:100% !important; }</style>"
      ],
      "text/plain": [
       "<IPython.core.display.HTML object>"
      ]
     },
     "metadata": {},
     "output_type": "display_data"
    }
   ],
   "source": [
    "import numpy as np\n",
    "import pandas as pd\n",
    "import gc\n",
    "\n",
    "from sklearn.linear_model import LinearRegression as LR\n",
    "from statsmodels.stats.weightstats import DescrStatsW\n",
    "from IPython.core.display import display, HTML\n",
    "display(HTML(\"<style>.container { width:100% !important; }</style>\"))\n",
    "%matplotlib notebook\n",
    "pd.set_option('display.max_rows', 500)\n",
    "\n",
    "from valkyrie.tools import HOSTNAME\n",
    "from valkyrie.securities import stocks_good_dvd, parent\n",
    "from valkyrie.quants.linear_model import lm_fit, wcorr, analyze_features\n",
    "from valkyrie.quants.feature_analyzer import FeatureMgr"
   ]
  },
  {
   "cell_type": "markdown",
   "id": "798115a1",
   "metadata": {},
   "source": [
    "# Load Data"
   ]
  },
  {
   "cell_type": "code",
   "execution_count": null,
   "id": "12d96cfb",
   "metadata": {},
   "outputs": [],
   "source": [
    "HOSTNAME"
   ]
  },
  {
   "cell_type": "code",
   "execution_count": null,
   "id": "20f5779a",
   "metadata": {},
   "outputs": [],
   "source": [
    "#feature_mgr = FeatureMgr('20210101', '20210630', ['TWO PRC'] , 'latest')#\n",
    "feature_mgr = FeatureMgr('20210101', '20210630', stocks_good_dvd() , 'eve_features3_2x0_quoter_cooldown_600')\n",
    "ret_ns = [int(1 * 2 * 60 * 6.5), int(3 * 2 * 60 * 6.5), int(5 * 2 * 60 * 6.5), int(10 * 2 * 60 * 6.5)]\n",
    "\n",
    "ret_col, s2_col = 'risk_tv', 'cywa_mkt_s2h'\n",
    "df_tv = feature_mgr.calc_rets('log', ret_col, ret_ns, s2_col)\n",
    "df_tv['parent'] = df_tv['ticker'].apply(parent)\n",
    "\n",
    "ret_col, s2_col = 'cywa_mkt_xh', 'cywa_mkt_s2h'\n",
    "df_cy = feature_mgr.calc_rets('log', ret_col, ret_ns, s2_col)\n",
    "df_cy['parent'] = df_cy['ticker'].apply(parent)\n",
    "gc.collect()"
   ]
  },
  {
   "cell_type": "code",
   "execution_count": null,
   "id": "74a829da",
   "metadata": {},
   "outputs": [],
   "source": []
  },
  {
   "cell_type": "code",
   "execution_count": null,
   "id": "81dd31aa",
   "metadata": {},
   "outputs": [],
   "source": [
    "list(df_cy.columns)"
   ]
  },
  {
   "cell_type": "code",
   "execution_count": null,
   "id": "373f78e1",
   "metadata": {},
   "outputs": [],
   "source": [
    "2+3"
   ]
  },
  {
   "cell_type": "markdown",
   "id": "dfe052d7",
   "metadata": {},
   "source": [
    "# Checking"
   ]
  },
  {
   "cell_type": "markdown",
   "id": "c99eeb6a",
   "metadata": {},
   "source": [
    "### against nbbo"
   ]
  },
  {
   "cell_type": "code",
   "execution_count": null,
   "id": "5669370e",
   "metadata": {},
   "outputs": [],
   "source": [
    "hls = [1, 60, 600, 3600]\n",
    "print(f'Within bbo %')\n",
    "tv_cols = [c for c in df_tv if 'cywa_' in c and '_tv' in c and 'pff_' not in c] + ['tv']\n",
    "df_against_nbbo = []\n",
    "for col in ['risk_tv'] + tv_cols:\n",
    "    below = df_tv.eval(f'{col} <= bid ').sum() / df_tv.shape[0]\n",
    "    above = df_tv.eval(f'{col} >= ask ').sum() / df_tv.shape[0]\n",
    "    df_against_nbbo.append({'name': col, 'below' : below, 'above' : above})\n",
    "df_against_nbbo = pd.DataFrame(df_against_nbbo).set_index('name')\n",
    "print(df_against_nbbo)"
   ]
  },
  {
   "cell_type": "markdown",
   "id": "1deec0b7",
   "metadata": {},
   "source": [
    "### tv stats"
   ]
  },
  {
   "cell_type": "code",
   "execution_count": null,
   "id": "e50b7141",
   "metadata": {},
   "outputs": [],
   "source": [
    "for col in tv_cols:    \n",
    "    df_tv[f'drt_{col}'] = df_tv.eval(f'{col} - risk_tv')\n",
    "dtv_cols = [c for c in df_tv if 'drt_' in c] \n",
    "cols = tv_cols + dtv_cols\n",
    "pd.concat( [pd.DataFrame(df_tv[cols].diff().std(), columns=['diff_std']), df_tv[cols].describe(percentiles = [0.01, 0.5,0.99]).T],axis= 1)"
   ]
  },
  {
   "cell_type": "markdown",
   "id": "8a0ce882",
   "metadata": {},
   "source": [
    "### dtv corr"
   ]
  },
  {
   "cell_type": "code",
   "execution_count": null,
   "id": "9f873bf9",
   "metadata": {},
   "outputs": [],
   "source": [
    "ret_cols = [f'risk_tv_ret_{ret}_n' for ret in ret_ns]\n",
    "dtv_cols = [c for c in df_tv if 'drt_' in c] \n",
    "cols = dtv_cols + ret_cols\n",
    "df_tv[cols].corr()[ret_cols + dtv_cols].query('index.str.contains(\"drt_\")')#[ret_cols + dtv_cols]"
   ]
  },
  {
   "cell_type": "code",
   "execution_count": null,
   "id": "71b41309",
   "metadata": {},
   "outputs": [],
   "source": [
    "#weighted correlation\n",
    "wcoeff = {}\n",
    "for n in ret_ns:\n",
    "    X = df_tv[['drt_tv', f'risk_tv_ret_{n}_n']].values\n",
    "    dsw = DescrStatsW(X, weights=df_tv[f'wgt_risk_tv_ret_{n}_n'].values)\n",
    "    wcoeff[f'drt_tv_vs_risk_tv_ret_{n}_n'] = dsw.corrcoef[0,1]\n",
    "pd.DataFrame(wcoeff, index = ['corr'])"
   ]
  },
  {
   "cell_type": "markdown",
   "id": "3716d229",
   "metadata": {},
   "source": [
    "# Check by name"
   ]
  },
  {
   "cell_type": "code",
   "execution_count": null,
   "id": "0ea734f5",
   "metadata": {},
   "outputs": [],
   "source": [
    "df_tv.query('ticker == \"AGNCM\" and date == \"20210104\"')[['bid','ask','risk_tv']].plot()"
   ]
  },
  {
   "cell_type": "code",
   "execution_count": null,
   "id": "bc69fba9",
   "metadata": {},
   "outputs": [],
   "source": [
    "df_tv.query('ticker == \"AGNCM\"')['bid ask tv'.split() + [c for c in df_tv if 'cywa_10' in c]].head(5000).to_csv('/home/bb/tmp/tmp.csv')"
   ]
  },
  {
   "cell_type": "code",
   "execution_count": null,
   "id": "ffa544dc",
   "metadata": {},
   "outputs": [],
   "source": [
    "df_tv.query('ticker == \"TWO PRC\"')['bid ask tv'.split()].head(5000).plot(alpha = 0.7)"
   ]
  },
  {
   "cell_type": "code",
   "execution_count": null,
   "id": "b7a324de",
   "metadata": {},
   "outputs": [],
   "source": [
    "df_tv.query('ticker == \"BAC PRB\" and \"20210428\" <= date <= \"20210429\"')[['cywa_mkt_s2h']].plot(alpha = 0.7)\n",
    "df_tv.query('ticker == \"BAC PRB\" and \"20210428\" <= date <= \"20210429\"')[['bid','ask','risk_tv']].plot(alpha = 0.7)"
   ]
  },
  {
   "cell_type": "markdown",
   "id": "19b03b75",
   "metadata": {},
   "source": [
    "# Horizon analysis"
   ]
  },
  {
   "cell_type": "code",
   "execution_count": null,
   "id": "773b20fd",
   "metadata": {},
   "outputs": [],
   "source": [
    "xcols = [f'mean_revsion_{hl}' for hl in 'short mid long vlong vvlong vvvlong'.split()]\n",
    "ycols = [f'cywa_mkt_xh_ret_{hz}_n' for hz in ret_ns]\n",
    "wcols = [f'wgt_cywa_mkt_xh_ret_{hz}_n' for hz in ret_ns]\n",
    "\n",
    "wcorr(df_cy, xcols, ycols, wcols)"
   ]
  },
  {
   "cell_type": "code",
   "execution_count": null,
   "id": "991f444e",
   "metadata": {},
   "outputs": [],
   "source": [
    "wcoeff = {}\n",
    "for hz in [780, 2340, 3900, 7800]:\n",
    "    for hl in 'short mid long vlong vvlong vvvlong'.split():\n",
    "        c = f'feature_mean_revsion_{hl}'\n",
    "        df_cy[c] = df_cy.eval(f'cywa_{hl}_xh - cywa_mkt_xh')\n",
    "        df_cy[f'wgt_mean_revsion_{hl}'] = df_cy.eval(f'1.0 / (cywa_{hl}_s2h + cywa_mkt_s2h)')    \n",
    "        res = wcorr(df_cy,[c], [f'cywa_mkt_xh_ret_{hz}_n'], [f'wgt_mean_revsion_{hl}'])\n",
    "        display(res)                "
   ]
  },
  {
   "cell_type": "code",
   "execution_count": null,
   "id": "4ff628a7",
   "metadata": {},
   "outputs": [],
   "source": [
    "for hl in 'short mid long vlong vvlong vvvlong'.split():    \n",
    "    df_cy[f'mean_revsion_{hl}'] = df_cy.eval(f'cywa_{hl}_xh - cywa_mkt_xh')"
   ]
  },
  {
   "cell_type": "markdown",
   "id": "e5f750bf",
   "metadata": {},
   "source": [
    "# Combined Analysis"
   ]
  },
  {
   "cell_type": "code",
   "execution_count": null,
   "id": "6805fc49",
   "metadata": {},
   "outputs": [],
   "source": [
    "def analyze_features(df, exclude_features, xcols, ycols, wcols):\n",
    "    res = {}\n",
    "    res[f'all'] = lm_fit(df, xcols, ycols, wcols).loc['r2']\n",
    "    for ef in exclude_features:\n",
    "        xm_cols = [c for c in xcols if not c.endswith(ef)]\n",
    "        c = f'frm {ef}'\n",
    "        res[c] = lm_fit(df, xm_cols, ycols, wcols).loc['r2']\n",
    "        res[c] = res[f'all'] - res[c] #r2 from removing ef\n",
    "        res[ef] = lm_fit(df, [ef], ycols, wcols).loc['r2'] #r2 from ef alone\n",
    "    res = pd.DataFrame(res)\n",
    "    return res"
   ]
  },
  {
   "cell_type": "code",
   "execution_count": null,
   "id": "eb231daa",
   "metadata": {},
   "outputs": [],
   "source": [
    "th = 1e-4\n",
    "df = df_cy.query('abs(feature_cluster) > @th or abs(feature_long_dpff) > @th or abs(feature_mean_revsion_vlong) > @th')\n",
    "exclude_features = ['_cluster', '_dpff', '_vlong']\n",
    "ycols = [f'cywa_mkt_xh_ret_{ret}_n' for ret in ret_ns]\n",
    "wcols = [f'wgt_cywa_mkt_xh_ret_{ret}_n' for ret in ret_ns]\n",
    "xcols = [c for c in df if 'feature_' in c]\n",
    "\n",
    "res = analyze_features(df, exclude_features, xcols, ycols, wcols)\n",
    "display(res)"
   ]
  },
  {
   "cell_type": "code",
   "execution_count": null,
   "id": "e00eac26",
   "metadata": {},
   "outputs": [],
   "source": [
    "[c for c in df_cy if 'feature_' in c]"
   ]
  },
  {
   "cell_type": "markdown",
   "id": "15ca4463",
   "metadata": {},
   "source": [
    "# Combine Features"
   ]
  },
  {
   "cell_type": "code",
   "execution_count": null,
   "id": "9279ab70",
   "metadata": {},
   "outputs": [],
   "source": [
    "cywa_hl = 'long'\n",
    "yhz = 780\n",
    "\n",
    "\n",
    "df_cy['feature_cluster'] = df_cy.eval(f'cluster_{cywa_hl}_avg_xh - (cywa_{cywa_hl}_xh - cywa_mkt_xh)')                                  \n",
    "df_cy['feature_long_dpff'] = df_cy.eval(f'pff_cywa_{cywa_hl}_xh - cywa_{cywa_hl}_xh')\n",
    "df_cy['feature_mkt_dpff'] = df_cy.eval(f'pff_cywa_mkt_xh - cywa_mkt_xh ')\n",
    "df_cy['total_s2'] = df_cy.eval(f'cywa_mkt_s2h + cywa_{cywa_hl}_s2h + cluster_{cywa_hl}_avg_s2 + (1.0 / wgt_cywa_mkt_xh_ret_{yhz}_n)')\n",
    "df_cy['wgt'] = df_cy.eval('1.0 / total_s2')\n",
    "\n",
    "df_fit = df_cy.query('abs(feature_cluster) >= 0.0 * 1.0e-4 or abs(feature_long_dpff - feature_mkt_dpff) >= 0.0 * 1.0e-4').copy()\n",
    "print(f'{df_fit.shape[0]/df.shape[0]}')\n",
    "\n",
    "xcols = [c for c in df_cy if 'feature_' in c]\n",
    "ycols = [f'cywa_mkt_xh_ret_{yhz}_n']\n",
    "#xcols = ['feature_cluster']\n",
    "xcols = [c for c in df_fit if 'feature_' in c]\n",
    "res = lm_fit(df_fit, xcols, ycols, ['wgt'])\n",
    "res"
   ]
  },
  {
   "cell_type": "code",
   "execution_count": null,
   "id": "39029126",
   "metadata": {},
   "outputs": [],
   "source": []
  }
 ],
 "metadata": {
  "kernelspec": {
   "display_name": "valkyrie_venv_win",
   "language": "python",
   "name": "valkyrie_venv_win"
  },
  "language_info": {
   "codemirror_mode": {
    "name": "ipython",
    "version": 3
   },
   "file_extension": ".py",
   "mimetype": "text/x-python",
   "name": "python",
   "nbconvert_exporter": "python",
   "pygments_lexer": "ipython3",
   "version": "3.9.13"
  }
 },
 "nbformat": 4,
 "nbformat_minor": 5
}
