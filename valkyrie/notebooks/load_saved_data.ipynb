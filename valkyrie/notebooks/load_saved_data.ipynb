{
 "cells": [
  {
   "cell_type": "code",
   "execution_count": null,
   "id": "22ec2efe",
   "metadata": {},
   "outputs": [],
   "source": [
    "import pandas as pd\n",
    "from valkyrie.tools import *\n",
    "from valkyrie.securities import *\n",
    "from valkyrie.data import *\n",
    "from IPython.core.display import display, HTML\n",
    "display(HTML(\"<style>.container { width:100% !important; }</style>\"))"
   ]
  },
  {
   "cell_type": "code",
   "execution_count": null,
   "id": "909ca284",
   "metadata": {},
   "outputs": [],
   "source": [
    "from valkyrie.components.simulation import LocalDataMgr"
   ]
  },
  {
   "cell_type": "code",
   "execution_count": null,
   "id": "8e29dbee",
   "metadata": {},
   "outputs": [],
   "source": [
    "ldm = LocalDataMgr('merged//hist_ib', 'stocks_good_dvd.h5')"
   ]
  },
  {
   "cell_type": "code",
   "execution_count": null,
   "id": "cb9ae945",
   "metadata": {},
   "outputs": [],
   "source": [
    "df = ldm.at_date('20210105')"
   ]
  },
  {
   "cell_type": "code",
   "execution_count": null,
   "id": "a90a5509",
   "metadata": {},
   "outputs": [],
   "source": [
    "import matplotlib"
   ]
  },
  {
   "cell_type": "code",
   "execution_count": null,
   "id": "444f1eeb",
   "metadata": {},
   "outputs": [],
   "source": [
    "%matplotlib notebook"
   ]
  },
  {
   "cell_type": "code",
   "execution_count": null,
   "id": "3c420990",
   "metadata": {},
   "outputs": [],
   "source": [
    "df = df.query('ticker == \"PFF\"').between_time('15:00:00','16:30:00')[['bid','ask']]"
   ]
  },
  {
   "cell_type": "code",
   "execution_count": null,
   "id": "bd0465da",
   "metadata": {},
   "outputs": [],
   "source": [
    "df['t'] = df.index"
   ]
  },
  {
   "cell_type": "code",
   "execution_count": null,
   "id": "d5f41237",
   "metadata": {},
   "outputs": [],
   "source": [
    "df['dt'] = df['t'].diff().apply(lambda dt : dt.total_seconds())"
   ]
  },
  {
   "cell_type": "code",
   "execution_count": null,
   "id": "810042ec",
   "metadata": {},
   "outputs": [],
   "source": []
  },
  {
   "cell_type": "code",
   "execution_count": null,
   "id": "f2de323e",
   "metadata": {},
   "outputs": [],
   "source": [
    "df"
   ]
  },
  {
   "cell_type": "code",
   "execution_count": null,
   "id": "9cee5b2b",
   "metadata": {},
   "outputs": [],
   "source": [
    "\n",
    "import threading\n",
    "def gfg():\n",
    "    print(\"asd\")\n",
    "    \n",
    "timer = threading.Timer(2.0, gfg)\n",
    "#timer.start()"
   ]
  },
  {
   "cell_type": "code",
   "execution_count": null,
   "id": "91d81690",
   "metadata": {},
   "outputs": [],
   "source": []
  },
  {
   "cell_type": "code",
   "execution_count": null,
   "id": "4119e067",
   "metadata": {},
   "outputs": [],
   "source": [
    "df['mid'] = df.eval('0.5 *(bid + ask)')"
   ]
  },
  {
   "cell_type": "code",
   "execution_count": null,
   "id": "05503852",
   "metadata": {},
   "outputs": [],
   "source": [
    "df['spread'] = df.eval('ask - bid')"
   ]
  },
  {
   "cell_type": "code",
   "execution_count": null,
   "id": "88821435",
   "metadata": {},
   "outputs": [],
   "source": []
  },
  {
   "cell_type": "code",
   "execution_count": null,
   "id": "4b14a606",
   "metadata": {},
   "outputs": [],
   "source": [
    "fn = f'{ROOT_PATH}/data/merged//hist_ib/{ymd_dir(date)}/stocks_good_dvd.h'"
   ]
  },
  {
   "cell_type": "code",
   "execution_count": null,
   "id": "711ae536",
   "metadata": {},
   "outputs": [],
   "source": []
  },
  {
   "cell_type": "code",
   "execution_count": null,
   "id": "d626a54b",
   "metadata": {},
   "outputs": [],
   "source": [
    "fn = f'"
   ]
  },
  {
   "cell_type": "code",
   "execution_count": null,
   "id": "a733f103",
   "metadata": {},
   "outputs": [],
   "source": [
    " fn = 'd:/valkyrie/data/merged/hist_ib_raw_md/2021/06/01/good_dvd.h5'"
   ]
  },
  {
   "cell_type": "code",
   "execution_count": null,
   "id": "f01d236a",
   "metadata": {},
   "outputs": [],
   "source": [
    "df = pd.DataFrame({'x':np.random.randn(100000000)})"
   ]
  },
  {
   "cell_type": "code",
   "execution_count": null,
   "id": "adf371b7",
   "metadata": {},
   "outputs": [],
   "source": [
    "df.memory_usage().sum()/1e9"
   ]
  },
  {
   "cell_type": "code",
   "execution_count": null,
   "id": "425d9d44",
   "metadata": {},
   "outputs": [],
   "source": [
    "import gc"
   ]
  },
  {
   "cell_type": "code",
   "execution_count": null,
   "id": "11bc1013",
   "metadata": {},
   "outputs": [],
   "source": [
    "import numpy as np\n",
    "import pandas as pd\n",
    "import multiprocessing as mp\n",
    "import ctypes\n",
    "\n",
    "# the origingal dataframe is df, store the columns/dtypes pairs\n",
    "df_dtypes_dict = dict(list(zip(df.columns, df.dtypes)))\n",
    "\n",
    "# declare a shared Array with data from df\n",
    "mparr = mp.Array(ctypes.c_double, df.values.reshape(-1))\n",
    "\n",
    "# create a new df based on the shared array\n",
    "df_shared = pd.DataFrame(np.frombuffer(mparr.get_obj()).reshape(df.shape),\n",
    "                         columns=df.columns).astype(df_dtypes_dict)"
   ]
  },
  {
   "cell_type": "code",
   "execution_count": null,
   "id": "ba69801d",
   "metadata": {},
   "outputs": [],
   "source": []
  },
  {
   "cell_type": "code",
   "execution_count": null,
   "id": "2db995b9",
   "metadata": {},
   "outputs": [],
   "source": [
    "df_shared.memory_usage().sum()/1e9"
   ]
  },
  {
   "cell_type": "code",
   "execution_count": null,
   "id": "b7324b43",
   "metadata": {},
   "outputs": [],
   "source": [
    "df.memory_usage().sum()/1e9"
   ]
  },
  {
   "cell_type": "code",
   "execution_count": null,
   "id": "af7102d2",
   "metadata": {},
   "outputs": [],
   "source": [
    "%time df.median()"
   ]
  },
  {
   "cell_type": "code",
   "execution_count": null,
   "id": "736b4029",
   "metadata": {},
   "outputs": [],
   "source": [
    "%time df_shared.median()"
   ]
  },
  {
   "cell_type": "code",
   "execution_count": null,
   "id": "591743a7",
   "metadata": {},
   "outputs": [],
   "source": [
    "def f(x):\n",
    "    return df_shared.median() + x "
   ]
  },
  {
   "cell_type": "code",
   "execution_count": null,
   "id": "ce02cb4c",
   "metadata": {},
   "outputs": [],
   "source": [
    "f(2)"
   ]
  },
  {
   "cell_type": "code",
   "execution_count": null,
   "id": "1147960c",
   "metadata": {},
   "outputs": [],
   "source": [
    "with Pool(4) as pool:\n",
    "     res = pool.map(f, [1,2,3,4])"
   ]
  },
  {
   "cell_type": "code",
   "execution_count": null,
   "id": "df816c4d",
   "metadata": {},
   "outputs": [],
   "source": [
    "p = mp.Pool(15)\n",
    "\n",
    "res = p.map_async(f, [1,2,3,4,5,6])\n",
    "p.close()\n",
    "p.join()"
   ]
  },
  {
   "cell_type": "code",
   "execution_count": null,
   "id": "594b6e92",
   "metadata": {},
   "outputs": [],
   "source": [
    "def f(x):\n",
    "    return x + ns.df.median()"
   ]
  },
  {
   "cell_type": "code",
   "execution_count": null,
   "id": "906a1ff0",
   "metadata": {},
   "outputs": [],
   "source": [
    "np.mean(ns.df['x'])"
   ]
  },
  {
   "cell_type": "code",
   "execution_count": null,
   "id": "46f89b77",
   "metadata": {},
   "outputs": [],
   "source": [
    "g"
   ]
  },
  {
   "cell_type": "code",
   "execution_count": null,
   "id": "c7684c67",
   "metadata": {},
   "outputs": [],
   "source": [
    "f(2)"
   ]
  },
  {
   "cell_type": "code",
   "execution_count": null,
   "id": "e36ac02d",
   "metadata": {},
   "outputs": [],
   "source": [
    "from multiprocessing import Pool"
   ]
  },
  {
   "cell_type": "code",
   "execution_count": null,
   "id": "3bdee4fd",
   "metadata": {},
   "outputs": [],
   "source": [
    "from multiprocessing import Pool\n",
    "with Pool(4) as p:\n",
    "    re = p.map(f, [1,2,3,4,5])"
   ]
  },
  {
   "cell_type": "code",
   "execution_count": null,
   "id": "44d82e9c",
   "metadata": {},
   "outputs": [],
   "source": [
    "import numpy as np\n",
    "import time\n",
    "from multiprocessing import Pool, Array\n",
    "\n",
    "# A global dictionary storing the variables passed from the initializer.\n",
    "var_dict = {}\n",
    "\n",
    "def init_worker(X, X_shape):\n",
    "    # Using a dictionary is not strictly necessary. You can also\n",
    "    # use global variables.\n",
    "    var_dict['X'] = X\n",
    "    var_dict['X_shape'] = X_shape\n",
    "\n",
    "def worker_func(i):\n",
    "    # Simply computes the sum of the i-th row of the input matrix X\n",
    "    X_np = np.frombuffer(var_dict['X']).reshape(var_dict['X_shape'])\n",
    "    #time.sleep(1) # Some heavy computations\n",
    "    return np.asscalar(np.sum(X_np[i,:]))\n",
    "\n",
    "# We need this check for Windows to prevent infinitely spawning new child\n",
    "# processes.\n",
    "#if __name__ == '__main__':\n",
    "X_shape = (16, 10)\n",
    "# Randomly generate some data\n",
    "data = np.random.randn(*X_shape)\n",
    "X = Array('d', X_shape[0] * X_shape[1], lock= False)\n",
    "# Wrap X as an numpy array so we can easily manipulates its data.\n",
    "X_np = np.frombuffer(X).reshape(X_shape)\n",
    "# Copy data to our shared array.\n",
    "np.copyto(X_np, data)\n",
    "# Start the process pool and do the computation.\n",
    "# Here we pass X and X_shape to the initializer of each worker.\n",
    "# (Because X_shape is not a shared variable, it will be copied to each\n",
    "# child process.)\n",
    "# with Pool(processes=4, initializer=init_worker, initargs=(X, X_shape)) as pool:\n",
    "#     result = pool.map(worker_func, range(X_shape[0]))\n",
    "#     print('Results (pool):\\n', np.array(result))\n",
    "# # Should print the same results.\n",
    "# print('Results (numpy):\\n', np.sum(X_np, 1))"
   ]
  },
  {
   "cell_type": "code",
   "execution_count": null,
   "id": "2485ea1b",
   "metadata": {},
   "outputs": [],
   "source": [
    "with Pool(processes=4, initializer=init_worker, initargs=(X, X_shape)) as pool:\n",
    "    result = pool.map(worker_func, range(X_shape[0]))\n",
    "    print('Results (pool):\\n', np.array(result))"
   ]
  },
  {
   "cell_type": "code",
   "execution_count": null,
   "id": "336b1918",
   "metadata": {},
   "outputs": [],
   "source": [
    "worker_func(1)"
   ]
  },
  {
   "cell_type": "code",
   "execution_count": null,
   "id": "33eba51b",
   "metadata": {},
   "outputs": [],
   "source": [
    "import os, sys, time\n",
    "from multiprocessing import Pool\n",
    "\n",
    "x = 23000 # replace `23` due to small integers share representation\n",
    "z = []    # integers are immutable, let's try mutable object\n",
    "\n",
    "def printx(y):\n",
    "    global x\n",
    "    if y == 3:\n",
    "       x = -x\n",
    "    z.append(y)\n",
    "    print(os.getpid(), x, id(x), z, id(z) )\n",
    "    print(y)\n",
    "    if len(sys.argv) == 2 and sys.argv[1] == \"sleep\":\n",
    "       time.sleep(.1) # should make more apparant the effect\n",
    "\n",
    "#if __name__ == '__main__':\n",
    "pool = Pool(processes=4)\n",
    "pool.map(printx, (1,2,3,4))"
   ]
  },
  {
   "cell_type": "code",
   "execution_count": null,
   "id": "4d575138",
   "metadata": {},
   "outputs": [],
   "source": [
    "from multiprocessing import Pool"
   ]
  },
  {
   "cell_type": "code",
   "execution_count": null,
   "id": "a6f15a48",
   "metadata": {},
   "outputs": [],
   "source": [
    "def ff(x):\n",
    "    return 0.1+x\n",
    "pool = Pool(processes=4)\n",
    "res = pool.map(ff, (1,2,3,4))"
   ]
  },
  {
   "cell_type": "code",
   "execution_count": null,
   "id": "4de9a2c4",
   "metadata": {},
   "outputs": [],
   "source": []
  }
 ],
 "metadata": {
  "kernelspec": {
   "display_name": "Python 3 (ipykernel)",
   "language": "python",
   "name": "python3"
  },
  "language_info": {
   "codemirror_mode": {
    "name": "ipython",
    "version": 3
   },
   "file_extension": ".py",
   "mimetype": "text/x-python",
   "name": "python",
   "nbconvert_exporter": "python",
   "pygments_lexer": "ipython3",
   "version": "3.9.7"
  }
 },
 "nbformat": 4,
 "nbformat_minor": 5
}
