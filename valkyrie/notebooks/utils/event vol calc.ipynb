{
 "cells": [
  {
   "cell_type": "code",
   "execution_count": 2,
   "id": "a9fa29b4",
   "metadata": {},
   "outputs": [],
   "source": [
    "import numpy as np\n",
    "import pandas as pd"
   ]
  },
  {
   "cell_type": "code",
   "execution_count": 15,
   "id": "914ad6ac",
   "metadata": {},
   "outputs": [
    {
     "name": "stdout",
     "output_type": "stream",
     "text": [
      "event std 0.026 ds-vol 0.201 ds-std 0.013\n"
     ]
    }
   ],
   "source": [
    "s1, t1, s2, t2 = 0.261, 6/252, 0.2140, 30/252\n",
    "\n",
    "A, b = np.array([[1.0, t1],[1.0, t2]]), np.array([s1*s1*t1, s2*s2*t2]) \n",
    "z = np.linalg.solve(A,b)\n",
    "z0, z1 = z[0], z[1]\n",
    "print(f'event std {np.sqrt(z0):.3f} ds-vol {np.sqrt(z1):.3f} ds-std {np.sqrt(z1)/16:.3f}')"
   ]
  },
  {
   "cell_type": "code",
   "execution_count": 9,
   "id": "dd71c47f",
   "metadata": {},
   "outputs": [
    {
     "data": {
      "text/plain": [
       "0.03"
      ]
     },
     "execution_count": 9,
     "metadata": {},
     "output_type": "execute_result"
    }
   ],
   "source": [
    "0.9 / 10 / 3"
   ]
  },
  {
   "cell_type": "code",
   "execution_count": 10,
   "id": "4ae4d216",
   "metadata": {},
   "outputs": [
    {
     "data": {
      "text/plain": [
       "0.03165137614678899"
      ]
     },
     "execution_count": 10,
     "metadata": {},
     "output_type": "execute_result"
    }
   ],
   "source": [
    "3.45/109"
   ]
  },
  {
   "cell_type": "code",
   "execution_count": 8,
   "id": "d53b039a",
   "metadata": {},
   "outputs": [
    {
     "data": {
      "text/plain": [
       "2.314"
      ]
     },
     "execution_count": 8,
     "metadata": {},
     "output_type": "execute_result"
    }
   ],
   "source": [
    "0.13 * 17.8"
   ]
  },
  {
   "cell_type": "code",
   "execution_count": 44,
   "id": "2c1d1b79",
   "metadata": {},
   "outputs": [
    {
     "ename": "SyntaxError",
     "evalue": "invalid syntax (1809712019.py, line 2)",
     "output_type": "error",
     "traceback": [
      "\u001b[0;36m  Input \u001b[0;32mIn [44]\u001b[0;36m\u001b[0m\n\u001b[0;31m    [0.06600772 0.55173588]\u001b[0m\n\u001b[0m                ^\u001b[0m\n\u001b[0;31mSyntaxError\u001b[0m\u001b[0;31m:\u001b[0m invalid syntax\n"
     ]
    }
   ],
   "source": [
    "TMF\n",
    "[0.06600772 0.55173588]"
   ]
  },
  {
   "cell_type": "code",
   "execution_count": 75,
   "id": "08de9002",
   "metadata": {},
   "outputs": [
    {
     "data": {
      "text/plain": [
       "1.085080642164443"
      ]
     },
     "execution_count": 75,
     "metadata": {},
     "output_type": "execute_result"
    }
   ],
   "source": [
    "np.sqrt((0.56 * 2 /252 + 0.07 ** 2)  / (2 /252))"
   ]
  },
  {
   "cell_type": "code",
   "execution_count": 76,
   "id": "33a301bd",
   "metadata": {},
   "outputs": [
    {
     "data": {
      "text/plain": [
       "0.03866379299666406"
      ]
     },
     "execution_count": 76,
     "metadata": {},
     "output_type": "execute_result"
    }
   ],
   "source": [
    "0.4 * 1.085 * np.sqrt(2/252)"
   ]
  },
  {
   "cell_type": "code",
   "execution_count": 77,
   "id": "b6564a90",
   "metadata": {},
   "outputs": [
    {
     "data": {
      "text/plain": [
       "0.04668163025403679"
      ]
     },
     "execution_count": 77,
     "metadata": {},
     "output_type": "execute_result"
    }
   ],
   "source": [
    "0.4 * 0.655 * np.sqrt(8/252)"
   ]
  },
  {
   "cell_type": "code",
   "execution_count": 29,
   "id": "756ddf6a",
   "metadata": {},
   "outputs": [
    {
     "data": {
      "text/plain": [
       "7.428571428571428"
      ]
     },
     "execution_count": 29,
     "metadata": {},
     "output_type": "execute_result"
    }
   ],
   "source": [
    "TMV\n",
    "[0.06812046 0.56239921]"
   ]
  },
  {
   "cell_type": "code",
   "execution_count": null,
   "id": "54fb09d1",
   "metadata": {},
   "outputs": [],
   "source": [
    "TLT\n",
    "[0.02203893 0.19124853]"
   ]
  },
  {
   "cell_type": "code",
   "execution_count": 58,
   "id": "e91939fb",
   "metadata": {},
   "outputs": [],
   "source": [
    "from optionprice import Option"
   ]
  },
  {
   "cell_type": "code",
   "execution_count": 73,
   "id": "cc349114",
   "metadata": {},
   "outputs": [
    {
     "data": {
      "text/plain": [
       "0.5464250326818059"
      ]
     },
     "execution_count": 73,
     "metadata": {},
     "output_type": "execute_result"
    }
   ],
   "source": [
    "call = Option(european=False, kind = 'call', s0 = 9.20, k = 9.0, sigma = 0.655, r = 0.05, t = 12)\n",
    "call.getPrice()"
   ]
  },
  {
   "cell_type": "code",
   "execution_count": null,
   "id": "c43df92a",
   "metadata": {},
   "outputs": [],
   "source": []
  },
  {
   "cell_type": "code",
   "execution_count": 2,
   "id": "63a00e45",
   "metadata": {},
   "outputs": [
    {
     "data": {
      "text/plain": [
       "(2, 3)"
      ]
     },
     "execution_count": 2,
     "metadata": {},
     "output_type": "execute_result"
    }
   ],
   "source": [
    "(2,) + (3,)"
   ]
  },
  {
   "cell_type": "code",
   "execution_count": null,
   "id": "6ffc3e48",
   "metadata": {},
   "outputs": [],
   "source": []
  }
 ],
 "metadata": {
  "kernelspec": {
   "display_name": "valkyrie_venv",
   "language": "python",
   "name": "valkyrie_venv"
  },
  "language_info": {
   "codemirror_mode": {
    "name": "ipython",
    "version": 3
   },
   "file_extension": ".py",
   "mimetype": "text/x-python",
   "name": "python",
   "nbconvert_exporter": "python",
   "pygments_lexer": "ipython3",
   "version": "3.9.7"
  }
 },
 "nbformat": 4,
 "nbformat_minor": 5
}
