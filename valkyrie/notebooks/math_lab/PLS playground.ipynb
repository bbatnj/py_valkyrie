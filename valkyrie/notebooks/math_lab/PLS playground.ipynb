{
 "cells": [
  {
   "cell_type": "code",
   "execution_count": 7,
   "id": "24165723",
   "metadata": {},
   "outputs": [
    {
     "data": {
      "text/html": [
       "<style>.container { width:100% !important; }</style>"
      ],
      "text/plain": [
       "<IPython.core.display.HTML object>"
      ]
     },
     "metadata": {},
     "output_type": "display_data"
    }
   ],
   "source": [
    "%run D:\\valkyrie_shared\\python\\apps\\run_notebook_import.py"
   ]
  },
  {
   "cell_type": "code",
   "execution_count": 8,
   "id": "48ef5354",
   "metadata": {},
   "outputs": [],
   "source": [
    "from sklearn.cross_decomposition import PLSRegression as PLS\n",
    "from valkyrie.quants.linear_model import params_from_pls, linear_pred"
   ]
  },
  {
   "cell_type": "code",
   "execution_count": 9,
   "id": "60f80e86",
   "metadata": {},
   "outputs": [],
   "source": [
    "N = int(5e7)"
   ]
  },
  {
   "cell_type": "code",
   "execution_count": 25,
   "id": "0b33149c",
   "metadata": {},
   "outputs": [],
   "source": [
    "x1 = np.random.randn(N)\n",
    "x2 = np.random.randn(N)\n",
    "z0 = np.random.randn(N)\n",
    "z1 = np.random.randn(N)\n",
    "z2 = np.random.randn(N)\n",
    "z3 = np.random.randn(N)\n",
    "\n",
    "v11 = x1 + z1 + 0.3\n",
    "v12 = x1 + z2 - 2.5\n",
    "v2  = x2 + z3 + 100\n",
    "\n",
    "y = x1 + 2 * x2 + z0 + 0.5\n"
   ]
  },
  {
   "cell_type": "code",
   "execution_count": 26,
   "id": "ffcb6faf",
   "metadata": {},
   "outputs": [],
   "source": [
    "X = np.c_[v11, v12, v2]"
   ]
  },
  {
   "cell_type": "code",
   "execution_count": 27,
   "id": "395f87aa",
   "metadata": {},
   "outputs": [],
   "source": [
    "pls = PLS(1)"
   ]
  },
  {
   "cell_type": "code",
   "execution_count": 28,
   "id": "1e4ffddc",
   "metadata": {},
   "outputs": [
    {
     "data": {
      "text/plain": [
       "PLSRegression(n_components=1)"
      ]
     },
     "execution_count": 28,
     "metadata": {},
     "output_type": "execute_result"
    }
   ],
   "source": [
    "pls.fit(X,y)"
   ]
  },
  {
   "cell_type": "code",
   "execution_count": 30,
   "id": "cf8b6931",
   "metadata": {},
   "outputs": [],
   "source": [
    "y_hat = pls.predict(X)"
   ]
  },
  {
   "cell_type": "code",
   "execution_count": 31,
   "id": "557f1f43",
   "metadata": {},
   "outputs": [
    {
     "data": {
      "text/plain": [
       "0.42868871070238135"
      ]
     },
     "execution_count": 31,
     "metadata": {},
     "output_type": "execute_result"
    }
   ],
   "source": [
    "pls.score(X, y)"
   ]
  },
  {
   "cell_type": "code",
   "execution_count": 32,
   "id": "8962228a",
   "metadata": {},
   "outputs": [],
   "source": [
    "pls2 = PLS(2)"
   ]
  },
  {
   "cell_type": "code",
   "execution_count": 33,
   "id": "d13fd6e8",
   "metadata": {},
   "outputs": [
    {
     "data": {
      "text/plain": [
       "0.4445896003498033"
      ]
     },
     "execution_count": 33,
     "metadata": {},
     "output_type": "execute_result"
    }
   ],
   "source": [
    "pls2.fit(X, y)\n",
    "pls2.score(X, y)"
   ]
  },
  {
   "cell_type": "code",
   "execution_count": 41,
   "id": "d199ea57",
   "metadata": {},
   "outputs": [],
   "source": [
    "y_hat2 = pls2.predict(X)"
   ]
  },
  {
   "cell_type": "code",
   "execution_count": 39,
   "id": "611956f9",
   "metadata": {},
   "outputs": [
    {
     "data": {
      "text/plain": [
       "8.833780992852086"
      ]
     },
     "execution_count": 39,
     "metadata": {},
     "output_type": "execute_result"
    }
   ],
   "source": [
    "np.std(y * y)"
   ]
  },
  {
   "cell_type": "code",
   "execution_count": 43,
   "id": "8505bfb4",
   "metadata": {},
   "outputs": [
    {
     "data": {
      "text/plain": [
       "4.11233779551684"
      ]
     },
     "execution_count": 43,
     "metadata": {},
     "output_type": "execute_result"
    }
   ],
   "source": [
    "np.std(y_hat2 * y_hat2)"
   ]
  },
  {
   "cell_type": "code",
   "execution_count": 44,
   "id": "52baa34d",
   "metadata": {},
   "outputs": [],
   "source": [
    "from sklearn.linear_model import LinearRegression as LR"
   ]
  },
  {
   "cell_type": "code",
   "execution_count": 45,
   "id": "126b52b6",
   "metadata": {},
   "outputs": [],
   "source": [
    "lr = LR(fit_intercept=True)"
   ]
  },
  {
   "cell_type": "code",
   "execution_count": 46,
   "id": "b8c26ba4",
   "metadata": {},
   "outputs": [
    {
     "data": {
      "text/plain": [
       "LinearRegression()"
      ]
     },
     "execution_count": 46,
     "metadata": {},
     "output_type": "execute_result"
    }
   ],
   "source": [
    "lr.fit(X,y)"
   ]
  },
  {
   "cell_type": "code",
   "execution_count": 47,
   "id": "b250be96",
   "metadata": {},
   "outputs": [
    {
     "data": {
      "text/plain": [
       "0.4445896030052676"
      ]
     },
     "execution_count": 47,
     "metadata": {},
     "output_type": "execute_result"
    }
   ],
   "source": [
    "lr.score(X,y)"
   ]
  },
  {
   "cell_type": "code",
   "execution_count": 48,
   "id": "328c5dcf",
   "metadata": {},
   "outputs": [
    {
     "data": {
      "text/plain": [
       "array([0.33312761, 0.33361074, 1.00004863])"
      ]
     },
     "execution_count": 48,
     "metadata": {},
     "output_type": "execute_result"
    }
   ],
   "source": [
    "lr.coef_"
   ]
  },
  {
   "cell_type": "code",
   "execution_count": 51,
   "id": "e9defcf5",
   "metadata": {},
   "outputs": [
    {
     "data": {
      "text/plain": [
       "-98.77110861974118"
      ]
     },
     "execution_count": 51,
     "metadata": {},
     "output_type": "execute_result"
    }
   ],
   "source": [
    "lr.intercept_"
   ]
  },
  {
   "cell_type": "code",
   "execution_count": 49,
   "id": "fb13243c",
   "metadata": {},
   "outputs": [
    {
     "data": {
      "text/plain": [
       "array([0.33321686, 0.33352145, 1.00004864])"
      ]
     },
     "execution_count": 49,
     "metadata": {},
     "output_type": "execute_result"
    }
   ],
   "source": [
    "x_coef2"
   ]
  },
  {
   "cell_type": "code",
   "execution_count": 34,
   "id": "584b9731",
   "metadata": {},
   "outputs": [],
   "source": [
    "x_coef, offset = params_from_pls(pls)"
   ]
  },
  {
   "cell_type": "code",
   "execution_count": 52,
   "id": "c112e6c4",
   "metadata": {},
   "outputs": [
    {
     "data": {
      "text/plain": [
       "array([0.42858021, 0.42880445, 0.85700553])"
      ]
     },
     "execution_count": 52,
     "metadata": {},
     "output_type": "execute_result"
    }
   ],
   "source": [
    "x_coef"
   ]
  },
  {
   "cell_type": "code",
   "execution_count": 53,
   "id": "bebfd2f3",
   "metadata": {},
   "outputs": [
    {
     "data": {
      "text/plain": [
       "array([-84.25738791])"
      ]
     },
     "execution_count": 53,
     "metadata": {},
     "output_type": "execute_result"
    }
   ],
   "source": [
    "offset"
   ]
  },
  {
   "cell_type": "code",
   "execution_count": 36,
   "id": "95ef0c68",
   "metadata": {},
   "outputs": [],
   "source": [
    "x_coef2, offset2 = params_from_pls(pls2)"
   ]
  },
  {
   "cell_type": "code",
   "execution_count": 50,
   "id": "352949aa",
   "metadata": {},
   "outputs": [
    {
     "data": {
      "text/plain": [
       "array([-98.77135971])"
      ]
     },
     "execution_count": 50,
     "metadata": {},
     "output_type": "execute_result"
    }
   ],
   "source": [
    "offset2"
   ]
  },
  {
   "cell_type": "code",
   "execution_count": 38,
   "id": "26d6be39",
   "metadata": {},
   "outputs": [
    {
     "ename": "NameError",
     "evalue": "name 'V' is not defined",
     "output_type": "error",
     "traceback": [
      "\u001b[1;31m---------------------------------------------------------------------------\u001b[0m",
      "\u001b[1;31mNameError\u001b[0m                                 Traceback (most recent call last)",
      "\u001b[1;32m~\\AppData\\Local\\Temp\\ipykernel_2660\\2292441673.py\u001b[0m in \u001b[0;36m<module>\u001b[1;34m\u001b[0m\n\u001b[1;32m----> 1\u001b[1;33m \u001b[0my_hat2\u001b[0m \u001b[1;33m=\u001b[0m \u001b[0mlinear_pred\u001b[0m\u001b[1;33m(\u001b[0m\u001b[0mV\u001b[0m\u001b[1;33m,\u001b[0m \u001b[0mx_coef\u001b[0m\u001b[1;33m,\u001b[0m \u001b[0moffset\u001b[0m\u001b[1;33m)\u001b[0m\u001b[1;33m\u001b[0m\u001b[1;33m\u001b[0m\u001b[0m\n\u001b[0m",
      "\u001b[1;31mNameError\u001b[0m: name 'V' is not defined"
     ]
    }
   ],
   "source": [
    "y_hat2 = linear_pred(V, x_coef, offset)"
   ]
  },
  {
   "cell_type": "code",
   "execution_count": null,
   "id": "9813866d",
   "metadata": {},
   "outputs": [],
   "source": [
    "np.sum(np.abs(y_hat.reshape(-1)-y_hat2.reshape(-1)))"
   ]
  },
  {
   "cell_type": "code",
   "execution_count": null,
   "id": "e73f86f3",
   "metadata": {},
   "outputs": [],
   "source": []
  }
 ],
 "metadata": {
  "kernelspec": {
   "display_name": "valkyrie_venv_win",
   "language": "python",
   "name": "valkyrie_venv_win"
  },
  "language_info": {
   "codemirror_mode": {
    "name": "ipython",
    "version": 3
   },
   "file_extension": ".py",
   "mimetype": "text/x-python",
   "name": "python",
   "nbconvert_exporter": "python",
   "pygments_lexer": "ipython3",
   "version": "3.9.13"
  }
 },
 "nbformat": 4,
 "nbformat_minor": 5
}
