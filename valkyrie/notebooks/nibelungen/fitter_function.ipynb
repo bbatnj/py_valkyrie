{
 "cells": [
  {
   "cell_type": "code",
   "execution_count": 1,
   "id": "13e56302",
   "metadata": {},
   "outputs": [
    {
     "name": "stderr",
     "output_type": "stream",
     "text": [
      "/media/veracrypt1/python/valkyrie/lib/valkyrie/apps/common/run_notebook_import.py:16: DeprecationWarning: Importing display from IPython.core.display is deprecated since IPython 7.14, please import from IPython display\n",
      "  from IPython.core.display import display, HTML\n"
     ]
    },
    {
     "data": {
      "text/html": [
       "<style>.container { width:100% !important; }</style>"
      ],
      "text/plain": [
       "<IPython.core.display.HTML object>"
      ]
     },
     "metadata": {},
     "output_type": "display_data"
    },
    {
     "name": "stderr",
     "output_type": "stream",
     "text": [
      "/media/veracrypt1/python/valkyrie/lib/valkyrie/ml/data.py:291: NumbaDeprecationWarning: \u001b[1mThe 'nopython' keyword argument was not supplied to the 'numba.jit' decorator. The implicit default value for this argument is currently False, but it will be changed to True in Numba 0.59.0. See https://numba.readthedocs.io/en/stable/reference/deprecation.html#deprecation-of-object-mode-fall-back-behaviour-when-using-jit for details.\u001b[0m\n",
      "  @jit\n"
     ]
    }
   ],
   "source": [
    "%run /home/bb/src/python/valkyrie/lib/valkyrie/apps/common/run_notebook_import.py"
   ]
  },
  {
   "cell_type": "code",
   "execution_count": null,
   "id": "ca19c977",
   "metadata": {},
   "outputs": [],
   "source": [
    "json_input = '''\n",
    "{\n",
    "    \"sdate\": \"2023-01-01\",\n",
    "    \"edate\": \"2023-01-31\",\n",
    "    \"instrs\": \"BDM.BTC.USDT.FP\",\n",
    "    \"freq\": \"1s\",\n",
    "    \"ret_n_s\": [60, 120, 300, 600],\n",
    "    \"root_dir\": \"/home/bb/data/BDM\",    \n",
    "    \"fitting_param\": {\n",
    "        \"train_ratio\": 0.8,\n",
    "        \"model\" : \"TORCH:ANET\",        \n",
    "        \"L\": 1e-4,\n",
    "        \"B\": 2048,\n",
    "        \"H\": 8,\n",
    "        \"W\": 64,\n",
    "        \"xcol\": [\"bpx_last\",\"apx_last\", \"bq_last\",\"aq_last\",\"buy_qty_sum\", \"sell_qty_sum\"],\n",
    "        \"ycol\": \"mid_last_ret_300_n\"\n",
    "        \"epochs\" : \n",
    "    }\n",
    "}\n",
    "'''\n",
    "\n",
    "def train_anet(name, df_in, params, run_dir = '/home/bb/src/python/valkyrie/fitting_results/'):\n",
    "    out_dir = f'{run_dir}/{name}'    \n",
    "    os.system('mkdir -p {out_dir}')\n",
    "    \n",
    "    # Extract parameters from the input dictionary        \n",
    "    lr = params[\"L\"]\n",
    "    n_channels = len(params[\"xcol\"])\n",
    "    H = params[\"H\"]\n",
    "    W = params[\"W\"]\n",
    "    D = params[\"D\"]\n",
    "    ycol = params['ycol']\n",
    "    epochs = params[\"epochs\"]\n",
    "\n",
    "    # Create and return the neural network object\n",
    "    alex_reg_net = AlexRegNet(lr=lr, num_channels=n_channels, height=H, down_mul=D)\n",
    "        \n",
    "    df2t2 = Df2T2(df_in, H, W, xcols = channels, ycol = ycol, yscaler = 1.0)\n",
    "    train_set, val_set = TrainValDataSet.create_train_valiation_pair(df2t2, 0.8)\n",
    "    dm = DataModule.from_dataset(train_set, val_set, 2048)\n",
    "    \n",
    "    trainer = ml_modules.Trainer(max_epochs=epochs, log_fn = f{'{out_dir}/train_{name}.log'}, plot = False)\n",
    "    with Timer('training'):\n",
    "        trainer.fit(alex_reg_net1, dm)\n",
    "        \n",
    "    return\n",
    "\n",
    "    \n",
    "    \n",
    "\n",
    "def create_data_module_from_json(json_input):\n",
    "    # Parse the JSON input\n",
    "    data = json.loads(json_input)\n",
    "\n",
    "    # Extract parameters from JSON\n",
    "    sdate = data['sdate']\n",
    "    edate = data['edate']\n",
    "    freq = data['freq']\n",
    "    root_dir = data['root_dir']\n",
    "    instrs = data['instr']\n",
    "    ret_n_s = data['ret_n_s']\n",
    "    channels = data['channels']\n",
    "\n",
    "    # Extract data parameters\n",
    "    fitting_param = data['fitting_param']\n",
    "    train_val_split = fitting_param['train_ratio']\n",
    "    B = fitting_param['B']\n",
    "    H = fitting_param['H']\n",
    "    W = fitting_param['W']\n",
    "    ycol = fitting_param['Y']\n",
    "\n",
    "    # Data processing as per the original code\n",
    "    data_mgr = DataMgr(sdate, edate, freq, root_dir, instrs=instrs, ret_n_s=ret_n_s)\n",
    "    df_res = data_mgr.get(instrs[0])\n",
    "    df2t2 = Df2T2(df_res, H, W, xcols=channels, ycol=ycol, yscaler=1)\n",
    "    train_set, val_set = TrainValDataSet.create_train_valiation_pair(df2t2, train_val_split)\n",
    "    dm = DataModule.from_dataset(train_set, val_set, batch_size)\n",
    "\n",
    "    return dm\n"
   ]
  },
  {
   "cell_type": "code",
   "execution_count": null,
   "id": "c10a5219",
   "metadata": {},
   "outputs": [],
   "source": [
    "def fit_cnn(instr, sdate, edate, freq, )"
   ]
  }
 ],
 "metadata": {
  "kernelspec": {
   "display_name": "Python 3 (ipykernel)",
   "language": "python",
   "name": "python3"
  },
  "language_info": {
   "codemirror_mode": {
    "name": "ipython",
    "version": 3
   },
   "file_extension": ".py",
   "mimetype": "text/x-python",
   "name": "python",
   "nbconvert_exporter": "python",
   "pygments_lexer": "ipython3",
   "version": "3.11.5"
  }
 },
 "nbformat": 4,
 "nbformat_minor": 5
}
