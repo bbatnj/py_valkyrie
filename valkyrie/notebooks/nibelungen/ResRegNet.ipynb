{
 "cells": [
  {
   "cell_type": "code",
   "execution_count": 1,
   "id": "13e56302",
   "metadata": {},
   "outputs": [
    {
     "name": "stderr",
     "output_type": "stream",
     "text": [
      "/media/veracrypt1/python/valkyrie/lib/valkyrie/apps/common/run_notebook_import.py:16: DeprecationWarning: Importing display from IPython.core.display is deprecated since IPython 7.14, please import from IPython display\n",
      "  from IPython.core.display import display, HTML\n"
     ]
    },
    {
     "data": {
      "text/html": [
       "<style>.container { width:100% !important; }</style>"
      ],
      "text/plain": [
       "<IPython.core.display.HTML object>"
      ]
     },
     "metadata": {},
     "output_type": "display_data"
    },
    {
     "name": "stderr",
     "output_type": "stream",
     "text": [
      "/media/veracrypt1/python/valkyrie/lib/valkyrie/ml/data.py:291: NumbaDeprecationWarning: \u001b[1mThe 'nopython' keyword argument was not supplied to the 'numba.jit' decorator. The implicit default value for this argument is currently False, but it will be changed to True in Numba 0.59.0. See https://numba.readthedocs.io/en/stable/reference/deprecation.html#deprecation-of-object-mode-fall-back-behaviour-when-using-jit for details.\u001b[0m\n",
      "  @jit\n"
     ]
    }
   ],
   "source": [
    "%run /home/bb/src/python/valkyrie/lib/valkyrie/apps/common/run_notebook_import.py"
   ]
  },
  {
   "cell_type": "code",
   "execution_count": null,
   "id": "de9a74e9",
   "metadata": {},
   "outputs": [],
   "source": [
    "torch.tensor"
   ]
  },
  {
   "cell_type": "code",
   "execution_count": null,
   "id": "83dad404",
   "metadata": {
    "scrolled": false
   },
   "outputs": [],
   "source": [
    "sdate, edate = '2023-01-01', '2023-03-31'\n",
    "instrs = ['BDM.BTC.USDT.FP']\n",
    "freq = '1s'\n",
    "ret_n_s = [60, 120, 300, 600]\n",
    "root_dir = '/home/bb/data/BDM'\n",
    "#########################################################\n",
    "#DataMgr\n",
    "#########################################################\n",
    "data_mgr = DataMgr(sdate, edate, freq, root_dir, instrs = instrs, ret_n_s = ret_n_s)\n",
    "df_res = data_mgr.get(instrs[0])\n",
    "channels = ['bpx_last','apx_last'] + ['bq_last','aq_last','buy_qty_sum', 'sell_qty_sum'] \n",
    "n_channels = len(channels)\n",
    "H, W = 16, 64\n",
    "df2t2 = Df2T2(df_res, H, W, xcols = channels, ycol = 'mid_last_ret_300_n', yscaler = 1)\n",
    "\n",
    "train_set, val_set = TrainValDataSet.create_train_valiation_pair(df2t2, 0.8)\n",
    "dm = DataModule.from_dataset(train_set, val_set, 2048)"
   ]
  },
  {
   "cell_type": "code",
   "execution_count": null,
   "id": "4d182076",
   "metadata": {},
   "outputs": [],
   "source": [
    "from valkyrie.ml.net import Regressor, BatchNormAlongW\n"
   ]
  },
  {
   "cell_type": "code",
   "execution_count": null,
   "id": "f8a41637",
   "metadata": {},
   "outputs": [],
   "source": [
    "class Residual(nn.Module):  #@save\n",
    "    \"\"\"The Residual block of ResNet models.\"\"\"\n",
    "    def __init__(self, num_channels, use_1x1conv=False, strides=1):\n",
    "        super().__init__()\n",
    "        self.conv1 = nn.LazyConv2d(num_channels, kernel_size=3, padding=1,\n",
    "                                   stride=strides)\n",
    "        self.conv2 = nn.LazyConv2d(num_channels, kernel_size=3, padding=1)\n",
    "        if use_1x1conv:\n",
    "            self.conv3 = nn.LazyConv2d(num_channels, kernel_size=1,\n",
    "                                       stride=strides)\n",
    "        else:\n",
    "            self.conv3 = None\n",
    "        self.bn1 = nn.LazyBatchNorm2d()\n",
    "        self.bn2 = nn.LazyBatchNorm2d()\n",
    "\n",
    "    def forward(self, X):\n",
    "        Y = F.relu(self.bn1(self.conv1(X)))\n",
    "        Y = self.bn2(self.conv2(Y))\n",
    "        if self.conv3:\n",
    "            X = self.conv3(X)\n",
    "        Y += X\n",
    "        return F.leaky_relu(Y, 0.1)\n",
    "    \n",
    "class ResNet(Regressor):\n",
    "    def b1(self):\n",
    "        return nn.Sequential(\n",
    "            nn.LazyConv2d(64, kernel_size=3, stride=1, padding=1),\n",
    "            nn.LazyBatchNorm2d(), nn.LeakyReLU(0.1),\n",
    "            nn.MaxPool2d(kernel_size=3, stride=2, padding=1))    \n",
    "        \n",
    "    def block(self, num_residuals, num_channels, first_block=False):\n",
    "        blk = []\n",
    "        for i in range(num_residuals):\n",
    "            if i == 0 and not first_block:\n",
    "                blk.append(Residual(num_channels, use_1x1conv=True, strides=2))\n",
    "            else:\n",
    "                blk.append(Residual(num_channels))\n",
    "        return nn.Sequential(*blk)\n",
    "    \n",
    "    def __init__(self, n_channel, height, arch, lr=0.1):\n",
    "        super(ResNet, self).__init__('l1')\n",
    "        self.save_hyperparameters()\n",
    "        \n",
    "        self.net = nn.Sequential(BatchNormAlongW(n_channel, height), self.b1())\n",
    "        \n",
    "        for i, b in enumerate(arch):\n",
    "            self.net.add_module(f'b{i+2}', self.block(*b, first_block=(i==0)))\n",
    "            \n",
    "        self.net.add_module('last', nn.Sequential(\n",
    "            nn.AdaptiveAvgPool2d((1, 1)), nn.Flatten(),\n",
    "            nn.LazyLinear(1)))\n",
    "        self.net.apply(d2l.init_cnn)\n",
    "        \n",
    "class ResNet18(ResNet):\n",
    "    def __init__(self, n_channel, height, lr=0.1, num_classes=10):\n",
    "        super().__init__(n_channel, height, ((2, 64), (2, 128), (2, 256), (2, 512)),\n",
    "                       lr)"
   ]
  },
  {
   "cell_type": "code",
   "execution_count": null,
   "id": "52a5626f",
   "metadata": {},
   "outputs": [],
   "source": [
    "res_net_18 = ResNet18(n_channels, H, lr = 1e-4)\n",
    "X = df2t2[0][0]\n",
    "ml_utils.layer_summary(res_net_18, X.shape)"
   ]
  },
  {
   "cell_type": "code",
   "execution_count": null,
   "id": "f4e29159",
   "metadata": {},
   "outputs": [],
   "source": [
    "trainer = ml_modules.Trainer(max_epochs=100, log_fn = 'res_net_test.log')\n",
    "with Timer('training'):\n",
    "    trainer.fit(res_net_18, dm)"
   ]
  },
  {
   "cell_type": "code",
   "execution_count": null,
   "id": "f82ba4bf",
   "metadata": {},
   "outputs": [],
   "source": []
  }
 ],
 "metadata": {
  "kernelspec": {
   "display_name": "Python 3 (ipykernel)",
   "language": "python",
   "name": "python3"
  },
  "language_info": {
   "codemirror_mode": {
    "name": "ipython",
    "version": 3
   },
   "file_extension": ".py",
   "mimetype": "text/x-python",
   "name": "python",
   "nbconvert_exporter": "python",
   "pygments_lexer": "ipython3",
   "version": "3.11.5"
  }
 },
 "nbformat": 4,
 "nbformat_minor": 5
}
