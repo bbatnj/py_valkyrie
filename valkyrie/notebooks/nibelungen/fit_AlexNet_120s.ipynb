{
 "cells": [
  {
   "cell_type": "code",
   "execution_count": null,
   "id": "13e56302",
   "metadata": {},
   "outputs": [],
   "source": [
    "%run /home/bb/src/python/valkyrie/apps/common/run_notebook_import.py"
   ]
  },
  {
   "cell_type": "code",
   "execution_count": null,
   "id": "a91defd4",
   "metadata": {},
   "outputs": [],
   "source": [
    "import copy\n",
    "from itertools import product as cartesian_product\n",
    "\n",
    "from overrides import overrides\n",
    "import numpy as np\n",
    "import pandas as pd\n",
    "import torch\n",
    "from torch import nn\n",
    "from torch.utils.data import Dataset, DataLoader\n",
    "import torchvision\n",
    "from torchvision import transforms\n",
    "from torch.nn import functional as F\n",
    "\n",
    "from d2l.torch import init_cnn\n",
    "\n",
    "from valkyrie.tools import *\n",
    "from valkyrie.ml import modules\n",
    "from valkyrie.ml.modules import NetEvaluator\n",
    "from valkyrie.ml.utils import tensor, HyperParameters\n",
    "from valkyrie.ml import utils as ml_utils\n",
    "from valkyrie.ml.data import Df2T2, SubDataSet\n",
    "from valkyrie.ml.net import LrNet, AlexRegNet\n",
    "from valkyrie.ml.net import Regressor\n",
    "\n",
    "from valkyrie.nibelungen.data import DataMgr"
   ]
  },
  {
   "cell_type": "code",
   "execution_count": null,
   "id": "83dad404",
   "metadata": {
    "scrolled": false
   },
   "outputs": [],
   "source": [
    "from valkyrie.ml.data import DataModule\n",
    "\n",
    "sdate, edate = '2023-01-01', '2023-03-31'\n",
    "instrs = ['BDM.BTC.USDT.FP']\n",
    "freq = '1s'\n",
    "ret_n_s = [60, 120, 300, 600]\n",
    "root_dir = '/home/bb/data/BDM'\n",
    "#########################################################\n",
    "#DataMgr\n",
    "#########################################################\n",
    "data_mgr = DataMgr(sdate, edate, freq, root_dir, instrs = instrs, ret_n_s = ret_n_s)\n",
    "df_res = data_mgr.get(instrs[0]) \n",
    "channels = ['bpx_last','apx_last'] + ['bq_last','aq_last','buy_qty_sum', 'sell_qty_sum'] \n",
    "n_channels = len(channels)\n",
    "H, W = 16, 64\n",
    "df2t2 = Df2T2(df_res, H, W, xcols = channels, ycol = 'mid_last_ret_120_n', yscaler = 1)\n",
    "\n",
    "train_set, val_set = SubDataSet.create_train_valiation_pair(df2t2, 0.8)\n",
    "dm = DataModule.from_dataset(train_set, val_set, 2048)"
   ]
  },
  {
   "cell_type": "markdown",
   "id": "1872864c",
   "metadata": {},
   "source": [
    "# Mul = 4"
   ]
  },
  {
   "cell_type": "code",
   "execution_count": null,
   "id": "88a9e144",
   "metadata": {},
   "outputs": [],
   "source": [
    "alex_reg_net4 = AlexRegNet(lr = 1e-4, num_channels = n_channels, height = H, down_mul = 4)\n",
    "X = df2t2[0][0]\n",
    "ml_utils.layer_summary(alex_reg_net4, X.shape)\n",
    "#ml_utils.parameter_summary(testNet)"
   ]
  },
  {
   "cell_type": "code",
   "execution_count": null,
   "id": "55c8825d",
   "metadata": {},
   "outputs": [],
   "source": [
    "trainer = modules.Trainer(max_epochs=100, num_gpus=1)\n",
    "with Timer('training'):\n",
    "    trainer.fit(alex_reg_net4, dm)"
   ]
  },
  {
   "cell_type": "code",
   "execution_count": null,
   "id": "36ad23d5",
   "metadata": {},
   "outputs": [],
   "source": [
    "ne = NetEvaluator(alex_reg_net4, dm)\n",
    "ne.eval_performance()"
   ]
  },
  {
   "cell_type": "code",
   "execution_count": null,
   "id": "97c376d9",
   "metadata": {},
   "outputs": [],
   "source": [
    "os.system('mkdir -p ')\n",
    "torch.save(alex_reg_net4, 'model.pth')"
   ]
  },
  {
   "cell_type": "markdown",
   "id": "66574a87",
   "metadata": {},
   "source": [
    "# Mul = 2"
   ]
  },
  {
   "cell_type": "code",
   "execution_count": null,
   "id": "a0afbe65",
   "metadata": {},
   "outputs": [],
   "source": [
    "alex_reg_net2 = AlexRegNet(lr = 1e-4, num_channels = n_channels, height = H, down_mul = 2)\n",
    "X = df2t2[0][0]\n",
    "ml_utils.layer_summary(alex_reg_net2, X.shape)\n",
    "#ml_utils.parameter_summary(testNet)"
   ]
  },
  {
   "cell_type": "code",
   "execution_count": null,
   "id": "894cd6c5",
   "metadata": {},
   "outputs": [],
   "source": [
    "trainer = modules.Trainer(max_epochs=100, num_gpus=1)\n",
    "with Timer('training'):\n",
    "    trainer.fit(alex_reg_net2, dm)"
   ]
  },
  {
   "cell_type": "code",
   "execution_count": null,
   "id": "5ba9a4d0",
   "metadata": {},
   "outputs": [],
   "source": [
    "ne = NetEvaluator(alex_reg_net2, dm)\n",
    "ne.eval_performance()"
   ]
  },
  {
   "cell_type": "code",
   "execution_count": null,
   "id": "4f28319b",
   "metadata": {},
   "outputs": [],
   "source": []
  }
 ],
 "metadata": {
  "kernelspec": {
   "display_name": "Python 3 (ipykernel)",
   "language": "python",
   "name": "python3"
  },
  "language_info": {
   "codemirror_mode": {
    "name": "ipython",
    "version": 3
   },
   "file_extension": ".py",
   "mimetype": "text/x-python",
   "name": "python",
   "nbconvert_exporter": "python",
   "pygments_lexer": "ipython3",
   "version": "3.11.5"
  }
 },
 "nbformat": 4,
 "nbformat_minor": 5
}
