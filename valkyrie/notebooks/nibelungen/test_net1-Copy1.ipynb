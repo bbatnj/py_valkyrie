{
 "cells": [
  {
   "cell_type": "code",
   "execution_count": 1,
   "id": "13e56302",
   "metadata": {},
   "outputs": [
    {
     "name": "stderr",
     "output_type": "stream",
     "text": [
      "/media/veracrypt1/python/valkyrie/apps/common/run_notebook_import.py:11: DeprecationWarning: Importing display from IPython.core.display is deprecated since IPython 7.14, please import from IPython display\n",
      "  from IPython.core.display import display, HTML\n"
     ]
    },
    {
     "data": {
      "text/html": [
       "<style>.container { width:100% !important; }</style>"
      ],
      "text/plain": [
       "<IPython.core.display.HTML object>"
      ]
     },
     "metadata": {},
     "output_type": "display_data"
    },
    {
     "name": "stderr",
     "output_type": "stream",
     "text": [
      "/media/veracrypt1/python/valkyrie/lib/valkyrie/ml/data.py:291: NumbaDeprecationWarning: \u001b[1mThe 'nopython' keyword argument was not supplied to the 'numba.jit' decorator. The implicit default value for this argument is currently False, but it will be changed to True in Numba 0.59.0. See https://numba.readthedocs.io/en/stable/reference/deprecation.html#deprecation-of-object-mode-fall-back-behaviour-when-using-jit for details.\u001b[0m\n",
      "  @jit\n"
     ]
    }
   ],
   "source": [
    "%run /home/bb/src/python/valkyrie/apps/common/run_notebook_import.py"
   ]
  },
  {
   "cell_type": "code",
   "execution_count": 3,
   "id": "a91defd4",
   "metadata": {},
   "outputs": [],
   "source": [
    "import copy\n",
    "from itertools import product as cartesian_product\n",
    "\n",
    "from overrides import overrides\n",
    "import numpy as np\n",
    "import pandas as pd\n",
    "import torch\n",
    "from torch import nn\n",
    "from torch.utils.data import Dataset, DataLoader\n",
    "import torchvision\n",
    "from torchvision import transforms\n",
    "from torch.nn import functional as F\n",
    "\n",
    "from valkyrie.tools import *\n",
    "from valkyrie.ml import modules\n",
    "from valkyrie.ml.utils import tensor, HyperParameters\n",
    "from valkyrie.ml import utils as ml_utils\n",
    "from valkyrie.ml.net import Regressor, BatchNormAlongW\n",
    "from valkyrie.nibelungen.data import DataMgr\n",
    "from valkyrie.ml.data import Df2T2, SubDataSet"
   ]
  },
  {
   "cell_type": "code",
   "execution_count": 4,
   "id": "83dad404",
   "metadata": {
    "scrolled": false
   },
   "outputs": [
    {
     "name": "stdout",
     "output_type": "stream",
     "text": [
      "after dropping na 15638095 -> 15605328\n"
     ]
    }
   ],
   "source": [
    "from valkyrie.ml.data import DataModule\n",
    "\n",
    "sdate, edate = '2023-01-01', '2023-06-30'\n",
    "instrs = ['BDM.BTC.USDT.FP']\n",
    "freq = '1s'\n",
    "ret_n_s = [120]\n",
    "root_dir = '/home/bb/data/BDM'\n",
    "#########################################################\n",
    "#DataMgr\n",
    "#########################################################\n",
    "data_mgr = DataMgr(sdate, edate, freq, root_dir, instrs = instrs, ret_n_s = ret_n_s)\n",
    "df_res = data_mgr.get(instrs[0]) \n",
    "channels = ['bpx_last','apx_last'] + ['bq_last','aq_last','buy_qty_sum', 'sell_qty_sum'] \n",
    "n_channels = len(channels)\n",
    "H, W = 16, 64\n",
    "df2t2 = Df2T2(df_res, H, W, xcols = channels, ycol = 'mid_last_ret_120_n', yscaler = 1)\n",
    "\n",
    "train_set, val_set = SubDataSet.create_train_valiation_pair(df2t2, 0.8)\n",
    "dm = DataModule.from_dataset(train_set, val_set, 2048)"
   ]
  },
  {
   "cell_type": "markdown",
   "id": "1e1e931d",
   "metadata": {},
   "source": [
    "# TEST NET"
   ]
  },
  {
   "cell_type": "code",
   "execution_count": null,
   "id": "9300968c",
   "metadata": {},
   "outputs": [],
   "source": [
    "ne = NetEvaluator(testNet, dm)\n",
    "ne.eval_performance()"
   ]
  },
  {
   "cell_type": "markdown",
   "id": "3a5e4fac",
   "metadata": {},
   "source": [
    "# GoogleNet"
   ]
  },
  {
   "cell_type": "code",
   "execution_count": null,
   "id": "c250c375",
   "metadata": {},
   "outputs": [],
   "source": [
    "class Inception(nn.Module):\n",
    "    # c1--c4 are the number of output channels for each branch\n",
    "    def __init__(self, c1, c2, c3, c4, **kwargs):\n",
    "        super(Inception, self).__init__(**kwargs)\n",
    "        # Branch 1\n",
    "        self.b1_1 = nn.LazyConv2d(c1, kernel_size=1)\n",
    "        # Branch 2\n",
    "        self.b2_1 = nn.LazyConv2d(c2[0], kernel_size=1)\n",
    "        self.b2_2 = nn.LazyConv2d(c2[1], kernel_size=3, padding=1)\n",
    "        # Branch 3\n",
    "        self.b3_1 = nn.LazyConv2d(c3[0], kernel_size=1)\n",
    "        self.b3_2 = nn.LazyConv2d(c3[1], kernel_size=5, padding=2)\n",
    "        # Branch 4\n",
    "        self.b4_1 = nn.MaxPool2d(kernel_size=3, stride=1, padding=1)\n",
    "        self.b4_2 = nn.LazyConv2d(c4, kernel_size=1)\n",
    "\n",
    "    def forward(self, x):\n",
    "        b1 = F.leaky_relu(self.b1_1(x), 0.1)\n",
    "        b2 = F.leaky_relu(self.b2_2(F.leaky_relu(self.b2_1(x), 0.1)), 0.1)\n",
    "        b3 = F.leaky_relu(self.b3_2(F.leaky_relu(self.b3_1(x), 0.1)), 0.1)\n",
    "        b4 = F.leaky_relu(self.b4_2(self.b4_1(x)), 0.1)\n",
    "        return torch.cat((b1, b2, b3, b4), dim=1)\n",
    "        \n",
    "class GoogleNet(Regressor):\n",
    "    def b1(self):\n",
    "        return nn.Sequential(            \n",
    "            nn.LazyConv2d(64, kernel_size=7, stride=2, padding=3),\n",
    "            nn.LeakyReLU(0.1), nn.MaxPool2d(kernel_size=3, stride=2, padding=1))\n",
    "    \n",
    "\n",
    "    def b2(self):\n",
    "        return nn.Sequential(        \n",
    "            nn.LazyConv2d(64, kernel_size=1), nn.LeakyReLU(0.1),\n",
    "            nn.LazyConv2d(192, kernel_size=3, padding=1), nn.LeakyReLU(0.1),\n",
    "            nn.MaxPool2d(kernel_size=3, stride=2, padding=1))\n",
    "\n",
    "\n",
    "    def b3(self):\n",
    "        return nn.Sequential(        \n",
    "            Inception(64, (96, 128), (16, 32), 32),\n",
    "            Inception(128, (128, 192), (32, 96), 64),\n",
    "            nn.MaxPool2d(kernel_size=3, stride=2, padding=1))\n",
    "\n",
    "\n",
    "    def b4(self):\n",
    "        return nn.Sequential(\n",
    "                             Inception(192, (96, 208), (16, 48), 64),\n",
    "                             Inception(160, (112, 224), (24, 64), 64),\n",
    "                             Inception(128, (128, 256), (24, 64), 64),\n",
    "                             Inception(112, (144, 288), (32, 64), 64),\n",
    "                             Inception(256, (160, 320), (32, 128), 128),\n",
    "                             nn.MaxPool2d(kernel_size=3, stride=2, padding=1))\n",
    "\n",
    "\n",
    "    def b4(self):\n",
    "        return nn.Sequential(\n",
    "                             Inception(192, (96, 208), (16, 48), 64),\n",
    "                             Inception(160, (112, 224), (24, 64), 64),\n",
    "                             Inception(128, (128, 256), (24, 64), 64),\n",
    "                             Inception(112, (144, 288), (32, 64), 64),\n",
    "                             Inception(256, (160, 320), (32, 128), 128),\n",
    "                             nn.MaxPool2d(kernel_size=3, stride=2, padding=1))\n",
    "\n",
    "\n",
    "    def b5(self):\n",
    "        return nn.Sequential(\n",
    "                             Inception(256, (160, 320), (32, 128), 128),\n",
    "                             Inception(384, (192, 384), (48, 128), 128),\n",
    "                             nn.AdaptiveAvgPool2d((1,1)), nn.Flatten())\n",
    "\n",
    "\n",
    "    def b0(self):\n",
    "        return BatchNormAlongW(self.n_channel, self.height)\n",
    "\n",
    "    def __init__(self, n_channel, height, lr=0.1, num_classes=10):\n",
    "        #super(GoogleNet, self).__init__()\n",
    "        self.n_channel = n_channel\n",
    "        self.height = height\n",
    "        super(GoogleNet, self).__init__('l1')        \n",
    "        self.save_hyperparameters()\n",
    "        self.net = nn.Sequential(self.b0(), self.b1(), self.b2(), self.b3(), self.b4(),\n",
    "                                 self.b5(), nn.LazyLinear(1))\n",
    "        self.net.apply(d2l.init_cnn)"
   ]
  },
  {
   "cell_type": "code",
   "execution_count": null,
   "id": "d0917e3e",
   "metadata": {},
   "outputs": [],
   "source": [
    "google_net = GoogleNet(n_channels, H, lr = 0.0001)\n",
    "X = df2t2[0][0]\n",
    "ml_utils.layer_summary(google_net, X.shape)"
   ]
  },
  {
   "cell_type": "code",
   "execution_count": null,
   "id": "882b2e3a",
   "metadata": {},
   "outputs": [],
   "source": [
    "trainer = modules.Trainer(max_epochs=200, num_gpus=1)\n",
    "with Timer('training'):\n",
    "    trainer.fit(google_net, dm)"
   ]
  },
  {
   "cell_type": "code",
   "execution_count": null,
   "id": "ac2a1081",
   "metadata": {},
   "outputs": [],
   "source": [
    "ne = NetEvaluator(google_net, dm)\n",
    "ne.eval_performance()"
   ]
  },
  {
   "cell_type": "code",
   "execution_count": null,
   "id": "244dcdea",
   "metadata": {},
   "outputs": [],
   "source": []
  },
  {
   "cell_type": "code",
   "execution_count": null,
   "id": "fbcd1b15",
   "metadata": {},
   "outputs": [],
   "source": [
    "class MyCNN(nn.Module):\n",
    "    def __init__(self,num_channels = n_channels, height = 4):\n",
    "        super(MyCNN, self).__init__()        \n",
    "        self.bn_along_w = BatchNormAlongW(num_channels, height)  # Example dimensions\n",
    "        # ... other layers ...\n",
    "\n",
    "    def forward(self, x):        \n",
    "        x = self.bn_along_w(x)\n",
    "        # ... operations for other layers ...\n",
    "        return x\n",
    "\n",
    "# Instantiate the model\n",
    "model = MyCNN()"
   ]
  },
  {
   "cell_type": "code",
   "execution_count": null,
   "id": "86f8a036",
   "metadata": {},
   "outputs": [],
   "source": [
    "import torch\n",
    "import torch.nn as nn\n",
    "import torch.optim as optim\n",
    "\n",
    "criterion = nn.MSELoss()\n",
    "optimizer = optim.SGD(model.parameters(), lr=0.01)\n",
    "\n",
    "num_epochs = 3  # Number of training epochs\n",
    "\n",
    "for epoch in range(num_epochs):\n",
    "    for inputs, labels in dm.get_dataloader(True):\n",
    "        inputs = inputs\n",
    "        labels = torch.randn_like(inputs)\n",
    "        optimizer.zero_grad()  # Zero the gradient buffers\n",
    "        outputs = model(inputs)        \n",
    "        loss = criterion(outputs, labels)\n",
    "        loss.backward()\n",
    "        optimizer.step()\n",
    "    print(f'Epoch {epoch+1}, Loss: {loss.item()}')"
   ]
  },
  {
   "cell_type": "code",
   "execution_count": null,
   "id": "958e3294",
   "metadata": {},
   "outputs": [],
   "source": [
    "outputs.shape"
   ]
  },
  {
   "cell_type": "code",
   "execution_count": null,
   "id": "ac23cc19",
   "metadata": {},
   "outputs": [],
   "source": [
    "inputs.shape"
   ]
  },
  {
   "cell_type": "code",
   "execution_count": null,
   "id": "e8d00e5d",
   "metadata": {},
   "outputs": [],
   "source": [
    "0.0381 * np.sqrt(1499)"
   ]
  },
  {
   "cell_type": "code",
   "execution_count": null,
   "id": "e1585e77",
   "metadata": {},
   "outputs": [],
   "source": [
    "inputs.mean(axis=0)"
   ]
  },
  {
   "cell_type": "code",
   "execution_count": null,
   "id": "d17092ab",
   "metadata": {
    "scrolled": false
   },
   "outputs": [],
   "source": [
    "outputs.mean(axis=0)"
   ]
  },
  {
   "cell_type": "code",
   "execution_count": null,
   "id": "c3932919",
   "metadata": {},
   "outputs": [],
   "source": [
    "pd.Series({'a':2,'b':3})"
   ]
  },
  {
   "cell_type": "code",
   "execution_count": null,
   "id": "74d2703c",
   "metadata": {},
   "outputs": [],
   "source": []
  }
 ],
 "metadata": {
  "kernelspec": {
   "display_name": "Python 3 (ipykernel)",
   "language": "python",
   "name": "python3"
  },
  "language_info": {
   "codemirror_mode": {
    "name": "ipython",
    "version": 3
   },
   "file_extension": ".py",
   "mimetype": "text/x-python",
   "name": "python",
   "nbconvert_exporter": "python",
   "pygments_lexer": "ipython3",
   "version": "3.11.5"
  }
 },
 "nbformat": 4,
 "nbformat_minor": 5
}
