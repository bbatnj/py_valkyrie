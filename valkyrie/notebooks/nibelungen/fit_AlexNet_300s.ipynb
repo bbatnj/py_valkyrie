{
 "cells": [
  {
   "cell_type": "code",
   "execution_count": null,
   "id": "13e56302",
   "metadata": {},
   "outputs": [],
   "source": [
    "%run /home/bb/src/python/valkyrie/lib/valkyrie/apps/common/run_notebook_import.py"
   ]
  },
  {
   "cell_type": "code",
   "execution_count": null,
   "id": "83dad404",
   "metadata": {
    "scrolled": false
   },
   "outputs": [],
   "source": [
    "sdate, edate = '2023-01-01', '2023-03-31'\n",
    "instrs = ['BDM.BTC.USDT.FP']\n",
    "freq = '1s'\n",
    "ret_n_s = [60, 120, 300, 600]\n",
    "root_dir = '/home/bb/data/BDM'\n",
    "#########################################################\n",
    "#DataMgr\n",
    "#########################################################\n",
    "channels = ['bpx_last','apx_last'] + ['bq_last','aq_last','buy_qty_sum', 'sell_qty_sum'] \n",
    "n_channels = len(channels)\n",
    "H, W = 16, 64\n",
    "\n",
    "\n",
    "data_mgr = DataMgr(sdate, edate, freq, root_dir, instrs = instrs, ret_n_s = ret_n_s)\n",
    "df_res = data_mgr.get(instrs[0]) \n",
    "df2t2 = Df2T2(df_res, H, W, xcols = channels, ycol = 'mid_last_ret_300_n', yscaler = 1)\n",
    "\n",
    "train_set, val_set = SubDataSet.create_train_valiation_pair(df2t2, 0.8)\n",
    "dm = DataModule.from_dataset(train_set, val_set, 2048)"
   ]
  },
  {
   "cell_type": "markdown",
   "id": "c31037de",
   "metadata": {},
   "source": [
    "# Mul = 1"
   ]
  },
  {
   "cell_type": "code",
   "execution_count": null,
   "id": "891849f3",
   "metadata": {},
   "outputs": [],
   "source": [
    "alex_reg_net1 = AlexRegNet(lr = 1e-4, num_channels = n_channels, height = H, down_mul = 1)\n",
    "X = df2t2[0][0]\n",
    "ml_utils.layer_summary(alex_reg_net1, X.shape)\n",
    "#ml_utils.parameter_summary(testNet)"
   ]
  },
  {
   "cell_type": "code",
   "execution_count": null,
   "id": "963a1ad4",
   "metadata": {},
   "outputs": [],
   "source": [
    "trainer = Trainer(max_epochs=100, log_fn = 'alex_300s')\n",
    "with Timer('training'):\n",
    "    trainer.fit(alex_reg_net1, dm)"
   ]
  },
  {
   "cell_type": "code",
   "execution_count": null,
   "id": "8c41a22d",
   "metadata": {},
   "outputs": [],
   "source": [
    "ne = NetEvaluator(alex_reg_net1, dm)\n",
    "ne.eval_performance()"
   ]
  },
  {
   "cell_type": "code",
   "execution_count": null,
   "id": "415091be",
   "metadata": {},
   "outputs": [],
   "source": []
  }
 ],
 "metadata": {
  "kernelspec": {
   "display_name": "Python 3 (ipykernel)",
   "language": "python",
   "name": "python3"
  },
  "language_info": {
   "codemirror_mode": {
    "name": "ipython",
    "version": 3
   },
   "file_extension": ".py",
   "mimetype": "text/x-python",
   "name": "python",
   "nbconvert_exporter": "python",
   "pygments_lexer": "ipython3",
   "version": "3.11.5"
  }
 },
 "nbformat": 4,
 "nbformat_minor": 5
}
