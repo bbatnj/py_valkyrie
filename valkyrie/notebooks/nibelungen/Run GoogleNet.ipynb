{
 "cells": [
  {
   "cell_type": "code",
   "execution_count": 1,
   "id": "13e56302",
   "metadata": {},
   "outputs": [
    {
     "name": "stderr",
     "output_type": "stream",
     "text": [
      "/media/veracrypt1/python/valkyrie/apps/common/run_notebook_import.py:11: DeprecationWarning: Importing display from IPython.core.display is deprecated since IPython 7.14, please import from IPython display\n",
      "  from IPython.core.display import display, HTML\n"
     ]
    },
    {
     "data": {
      "text/html": [
       "<style>.container { width:100% !important; }</style>"
      ],
      "text/plain": [
       "<IPython.core.display.HTML object>"
      ]
     },
     "metadata": {},
     "output_type": "display_data"
    },
    {
     "name": "stderr",
     "output_type": "stream",
     "text": [
      "/media/veracrypt1/python/valkyrie/lib/valkyrie/ml/data.py:291: NumbaDeprecationWarning: \u001b[1mThe 'nopython' keyword argument was not supplied to the 'numba.jit' decorator. The implicit default value for this argument is currently False, but it will be changed to True in Numba 0.59.0. See https://numba.readthedocs.io/en/stable/reference/deprecation.html#deprecation-of-object-mode-fall-back-behaviour-when-using-jit for details.\u001b[0m\n",
      "  @jit\n"
     ]
    }
   ],
   "source": [
    "%run /home/bb/src/python/valkyrie/apps/common/run_notebook_import.py"
   ]
  },
  {
   "cell_type": "code",
   "execution_count": 2,
   "id": "a91defd4",
   "metadata": {},
   "outputs": [],
   "source": [
    "import copy\n",
    "from itertools import product as cartesian_product\n",
    "\n",
    "from overrides import overrides\n",
    "import numpy as np\n",
    "import pandas as pd\n",
    "import torch\n",
    "from torch import nn\n",
    "from torch.utils.data import Dataset, DataLoader\n",
    "import torchvision\n",
    "from torchvision import transforms\n",
    "from torch.nn import functional as F\n",
    "\n",
    "from d2l.torch import init_cnn\n",
    "\n",
    "from valkyrie.tools import *\n",
    "from valkyrie.ml import modules\n",
    "from valkyrie.ml.utils import tensor, HyperParameters\n",
    "from valkyrie.ml import utils as ml_utils\n",
    "from valkyrie.ml.data import Df2T2, SubDataSet\n",
    "from valkyrie.ml.net import LrNet, AlexRegNet\n",
    "from valkyrie.ml.net import Regressor\n",
    "\n",
    "from valkyrie.nibelungen.data import DataMgr"
   ]
  },
  {
   "cell_type": "code",
   "execution_count": null,
   "id": "83dad404",
   "metadata": {
    "scrolled": false
   },
   "outputs": [],
   "source": [
    "from valkyrie.ml.data import DataModule\n",
    "\n",
    "sdate, edate = '2023-01-01', '2023-06-30'\n",
    "instrs = ['BDM.BTC.USDT.FP']\n",
    "freq = '1s'\n",
    "ret_n_s = [120] #[60, 120, 300, 600]\n",
    "root_dir = '/home/bb/data/BDM'\n",
    "#########################################################\n",
    "#DataMgr\n",
    "#########################################################\n",
    "data_mgr = DataMgr(sdate, edate, freq, root_dir, instrs = instrs, ret_n_s = ret_n_s)\n",
    "df_res = data_mgr.get(instrs[0]) \n",
    "channels = ['bpx_last','apx_last'] + ['bq_last','aq_last','buy_qty_sum', 'sell_qty_sum'] \n",
    "n_channels = len(channels)\n",
    "H, W = 16, 64\n",
    "df2t2 = Df2T2(df_res, H, W, xcols = channels, ycol = 'mid_last_ret_120_n', yscaler = 1)\n",
    "\n",
    "train_set, val_set = SubDataSet.create_train_valiation_pair(df2t2, 0.8)\n",
    "dm = DataModule.from_dataset(train_set, val_set, 2048)"
   ]
  },
  {
   "cell_type": "code",
   "execution_count": null,
   "id": "7e95e591",
   "metadata": {},
   "outputs": [],
   "source": [
    "testNet = AlexRegNet(lr = 1e-4, num_channels = n_channels, height = H)\n",
    "X = df2t2[0][0]\n",
    "ml_utils.layer_summary(testNet, X.shape)\n",
    "#ml_utils.parameter_summary(testNet)"
   ]
  },
  {
   "cell_type": "code",
   "execution_count": null,
   "id": "59438eb6",
   "metadata": {},
   "outputs": [],
   "source": [
    "trainer = modules.Trainer(max_epochs=100, num_gpus=1)\n",
    "with Timer('training'):\n",
    "    trainer.fit(testNet, dm)"
   ]
  },
  {
   "cell_type": "code",
   "execution_count": null,
   "id": "f2cb6f72",
   "metadata": {},
   "outputs": [],
   "source": [
    "ne = NetEvaluator(testNet, dm)\n",
    "ne.eval_performance()"
   ]
  },
  {
   "cell_type": "code",
   "execution_count": null,
   "id": "a0afbe65",
   "metadata": {},
   "outputs": [],
   "source": []
  }
 ],
 "metadata": {
  "kernelspec": {
   "display_name": "Python 3 (ipykernel)",
   "language": "python",
   "name": "python3"
  },
  "language_info": {
   "codemirror_mode": {
    "name": "ipython",
    "version": 3
   },
   "file_extension": ".py",
   "mimetype": "text/x-python",
   "name": "python",
   "nbconvert_exporter": "python",
   "pygments_lexer": "ipython3",
   "version": "3.11.5"
  }
 },
 "nbformat": 4,
 "nbformat_minor": 5
}
